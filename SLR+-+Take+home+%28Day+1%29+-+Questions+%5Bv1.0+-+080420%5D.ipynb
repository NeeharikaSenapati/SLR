{
 "cells": [
  {
   "cell_type": "markdown",
   "metadata": {
    "id": "SjF_IpwILy_d"
   },
   "source": [
    "<table align=\"center\" width=100%>\n",
    "    <tr>\n",
    "        <td width=\"15%\">\n",
    "            <img src=\"GL-2.png\">\n",
    "        </td>\n",
    "        <td>\n",
    "            <div align=\"center\">\n",
    "                <font color=\"#21618C\" size=8px>\n",
    "                    <b> Take-Home <br>(Day 1)\n",
    "                    </b>\n",
    "                </font>\n",
    "            </div>\n",
    "        </td>\n",
    "    </tr>\n",
    "</table>"
   ]
  },
  {
   "cell_type": "markdown",
   "metadata": {
    "id": "7izMWCZ8Ly_m"
   },
   "source": [
    "### Import the required libraries"
   ]
  },
  {
   "cell_type": "code",
   "execution_count": 1,
   "metadata": {
    "id": "bQvY8TI3Ly_o"
   },
   "outputs": [],
   "source": [
    "# type your code here\n",
    "# import 'Pandas' \n",
    "import pandas as pd \n",
    "\n",
    "# import 'Numpy' \n",
    "import numpy as np\n",
    "\n",
    "# 'Statsmodels' is used to build and analyze various statistical models\n",
    "import statsmodels\n",
    "import statsmodels.api as sm\n",
    "from statsmodels.stats.outliers_influence import variance_inflation_factor\n",
    "from statsmodels.formula.api import ols\n",
    "from statsmodels.stats.anova import anova_lm\n",
    "from statsmodels.tools.eval_measures import rmse\n",
    "\n",
    "# import various metrics from 'Scikit-learn' (sklearn)\n",
    "from sklearn.model_selection import train_test_split\n",
    "\n",
    "# to set the digits after decimal place \n",
    "pd.options.display.float_format = '{:.5f}'.format\n",
    "\n",
    "# suppress warnings \n",
    "from warnings import filterwarnings\n",
    "filterwarnings('ignore')"
   ]
  },
  {
   "cell_type": "markdown",
   "metadata": {
    "id": "bROcOBNLLy_q"
   },
   "source": [
    "#### Read the data\n",
    "\n",
    "Load the csv file and set the first column as index"
   ]
  },
  {
   "cell_type": "code",
   "execution_count": 2,
   "metadata": {
    "id": "FT00E5AOLy_r"
   },
   "outputs": [
    {
     "data": {
      "text/html": [
       "<div>\n",
       "<style scoped>\n",
       "    .dataframe tbody tr th:only-of-type {\n",
       "        vertical-align: middle;\n",
       "    }\n",
       "\n",
       "    .dataframe tbody tr th {\n",
       "        vertical-align: top;\n",
       "    }\n",
       "\n",
       "    .dataframe thead th {\n",
       "        text-align: right;\n",
       "    }\n",
       "</style>\n",
       "<table border=\"1\" class=\"dataframe\">\n",
       "  <thead>\n",
       "    <tr style=\"text-align: right;\">\n",
       "      <th></th>\n",
       "      <th>Year</th>\n",
       "      <th>Selling_Price</th>\n",
       "      <th>Present_Price</th>\n",
       "      <th>Kms_Driven</th>\n",
       "      <th>Fuel_Type</th>\n",
       "      <th>Seller_Type</th>\n",
       "      <th>Transmission</th>\n",
       "      <th>Owner</th>\n",
       "    </tr>\n",
       "    <tr>\n",
       "      <th>Car_Name</th>\n",
       "      <th></th>\n",
       "      <th></th>\n",
       "      <th></th>\n",
       "      <th></th>\n",
       "      <th></th>\n",
       "      <th></th>\n",
       "      <th></th>\n",
       "      <th></th>\n",
       "    </tr>\n",
       "  </thead>\n",
       "  <tbody>\n",
       "    <tr>\n",
       "      <th>ritz</th>\n",
       "      <td>2014</td>\n",
       "      <td>3.35000</td>\n",
       "      <td>5.59000</td>\n",
       "      <td>27000</td>\n",
       "      <td>Petrol</td>\n",
       "      <td>Dealer</td>\n",
       "      <td>Manual</td>\n",
       "      <td>0</td>\n",
       "    </tr>\n",
       "    <tr>\n",
       "      <th>sx4</th>\n",
       "      <td>2013</td>\n",
       "      <td>4.75000</td>\n",
       "      <td>9.54000</td>\n",
       "      <td>43000</td>\n",
       "      <td>Diesel</td>\n",
       "      <td>Dealer</td>\n",
       "      <td>Manual</td>\n",
       "      <td>0</td>\n",
       "    </tr>\n",
       "  </tbody>\n",
       "</table>\n",
       "</div>"
      ],
      "text/plain": [
       "          Year  Selling_Price  Present_Price  Kms_Driven Fuel_Type  \\\n",
       "Car_Name                                                             \n",
       "ritz      2014        3.35000        5.59000       27000    Petrol   \n",
       "sx4       2013        4.75000        9.54000       43000    Diesel   \n",
       "\n",
       "         Seller_Type Transmission  Owner  \n",
       "Car_Name                                  \n",
       "ritz          Dealer       Manual      0  \n",
       "sx4           Dealer       Manual      0  "
      ]
     },
     "execution_count": 2,
     "metadata": {},
     "output_type": "execute_result"
    }
   ],
   "source": [
    "# type your code here\n",
    "df_car = pd.read_csv(\"car_data.csv\", index_col = 0)\n",
    "\n",
    "# display the first two rows of the data\n",
    "df_car.head(2)"
   ]
  },
  {
   "cell_type": "markdown",
   "metadata": {
    "id": "WXmNu0_bLy_s"
   },
   "source": [
    "Our objective is to predict the selling price of the cars data."
   ]
  },
  {
   "cell_type": "markdown",
   "metadata": {
    "id": "tSA5eYj-Ly_t"
   },
   "source": [
    "**The data definition is as follows:** <br><br>\n",
    "**Car_Name:** name of the car <br>\n",
    "\n",
    "**YearThis:** year in which the car was bought <br>\n",
    "\n",
    "**Present_Price:** current ex-showroom price of the car (in lakhs)<br>\n",
    "\n",
    "**Kms_Driven:** distance completed by the car in km <br>\n",
    "\n",
    "**Fuel_Type:** fuel type of the car <br>\n",
    "\n",
    "**Seller_Type:** defines whether the seller is a dealer or an individual<br>\n",
    "\n",
    "**Transmission:** defines whether the car is manual or automatic <br>\n",
    "\n",
    "**Owner:** defines the number of owners the car has previously had <br>\n",
    "\n",
    "**Selling_Price:** price the owner wants to sell the car at (in lakhs) (response variable)"
   ]
  },
  {
   "cell_type": "markdown",
   "metadata": {
    "id": "2CohhqNxLy_x"
   },
   "source": [
    "### Let's begin with some hands-on practice exercises"
   ]
  },
  {
   "cell_type": "markdown",
   "metadata": {
    "id": "zJa2PL_KLy_1"
   },
   "source": [
    "<table align=\"left\">\n",
    "    <tr>\n",
    "        <td width=\"6%\">\n",
    "            <img src=\"question_icon.png\">\n",
    "        </td>\n",
    "        <td>\n",
    "            <div align=\"left\", style=\"font-size:120%\">\n",
    "                <font color=\"#21618C\">\n",
    "                    <b>1. Build a full model and interpret the beta coefficients </b>\n",
    "                </font>\n",
    "            </div>\n",
    "        </td>\n",
    "    </tr>\n",
    "</table>"
   ]
  },
  {
   "cell_type": "markdown",
   "metadata": {
    "id": "1Ttmu9n5Ly_3"
   },
   "source": [
    "        Hint: A full model is a model which includes all the features "
   ]
  },
  {
   "cell_type": "code",
   "execution_count": 3,
   "metadata": {
    "id": "3cQ_rIT1Ly_5"
   },
   "outputs": [
    {
     "name": "stdout",
     "output_type": "stream",
     "text": [
      "                            OLS Regression Results                            \n",
      "==============================================================================\n",
      "Dep. Variable:          Selling_Price   R-squared:                       0.883\n",
      "Model:                            OLS   Adj. R-squared:                  0.879\n",
      "Method:                 Least Squares   F-statistic:                     274.3\n",
      "Date:                Sun, 11 Sep 2022   Prob (F-statistic):          5.71e-131\n",
      "Time:                        22:20:43   Log-Likelihood:                -593.62\n",
      "No. Observations:                 301   AIC:                             1205.\n",
      "Df Residuals:                     292   BIC:                             1239.\n",
      "Df Model:                           8                                         \n",
      "Covariance Type:            nonrobust                                         \n",
      "==========================================================================================\n",
      "                             coef    std err          t      P>|t|      [0.025      0.975]\n",
      "------------------------------------------------------------------------------------------\n",
      "const                   -789.2366     86.522     -9.122      0.000    -959.522    -618.951\n",
      "Year                       0.3931      0.043      9.159      0.000       0.309       0.478\n",
      "Present_Price              0.4372      0.016     27.355      0.000       0.406       0.469\n",
      "Kms_Driven             -7.013e-06   3.23e-06     -2.172      0.031   -1.34e-05   -6.57e-07\n",
      "Owner                     -0.6742      0.423     -1.595      0.112      -1.506       0.158\n",
      "Fuel_Type_Diesel           2.4699      1.278      1.932      0.054      -0.046       4.986\n",
      "Fuel_Type_Petrol           0.6077      1.259      0.483      0.630      -1.870       3.085\n",
      "Seller_Type_Individual    -1.1213      0.257     -4.371      0.000      -1.626      -0.616\n",
      "Transmission_Manual       -1.4482      0.328     -4.417      0.000      -2.093      -0.803\n",
      "==============================================================================\n",
      "Omnibus:                       95.107   Durbin-Watson:                   1.795\n",
      "Prob(Omnibus):                  0.000   Jarque-Bera (JB):              696.392\n",
      "Skew:                           1.075   Prob(JB):                    6.03e-152\n",
      "Kurtosis:                      10.135   Cond. No.                     4.56e+07\n",
      "==============================================================================\n",
      "\n",
      "Notes:\n",
      "[1] Standard Errors assume that the covariance matrix of the errors is correctly specified.\n",
      "[2] The condition number is large, 4.56e+07. This might indicate that there are\n",
      "strong multicollinearity or other numerical problems.\n"
     ]
    }
   ],
   "source": [
    "# type your code here\n",
    "df_car_num = df_car.select_dtypes(include=np.number).drop([\"Selling_Price\"],axis=1)\n",
    "df_car_cat = df_car.select_dtypes(include=\"object\")\n",
    "dummy_variables = pd.get_dummies(df_car_cat, drop_first=True)\n",
    "\n",
    "X = pd.concat([df_car_num, dummy_variables],axis=1)\n",
    "\n",
    "y = df_car[\"Selling_Price\"]\n",
    "LM_model_full = sm.OLS(y, sm.add_constant(X)).fit()\n",
    "print(LM_model_full.summary())"
   ]
  },
  {
   "cell_type": "markdown",
   "metadata": {
    "id": "DncmS_bMLy_6"
   },
   "source": [
    "<table align=\"left\">\n",
    "    <tr>\n",
    "        <td width=\"6%\">\n",
    "            <img src=\"question_icon.png\">\n",
    "        </td>\n",
    "        <td>\n",
    "            <div align=\"left\", style=\"font-size:120%\">\n",
    "                <font color=\"#21618C\">\n",
    "                    <b>2. Is there multicollinearity present? If yes, which variables are involved in multicollinearity?    </b>\n",
    "                </font>\n",
    "            </div>\n",
    "        </td>\n",
    "    </tr>\n",
    "</table>"
   ]
  },
  {
   "cell_type": "code",
   "execution_count": 4,
   "metadata": {
    "id": "4t4gyAC1Ly_7"
   },
   "outputs": [
    {
     "data": {
      "text/html": [
       "<div>\n",
       "<style scoped>\n",
       "    .dataframe tbody tr th:only-of-type {\n",
       "        vertical-align: middle;\n",
       "    }\n",
       "\n",
       "    .dataframe tbody tr th {\n",
       "        vertical-align: top;\n",
       "    }\n",
       "\n",
       "    .dataframe thead th {\n",
       "        text-align: right;\n",
       "    }\n",
       "</style>\n",
       "<table border=\"1\" class=\"dataframe\">\n",
       "  <thead>\n",
       "    <tr style=\"text-align: right;\">\n",
       "      <th></th>\n",
       "      <th>Features</th>\n",
       "      <th>VIF</th>\n",
       "    </tr>\n",
       "  </thead>\n",
       "  <tbody>\n",
       "    <tr>\n",
       "      <th>0</th>\n",
       "      <td>Year</td>\n",
       "      <td>2.78056</td>\n",
       "    </tr>\n",
       "    <tr>\n",
       "      <th>1</th>\n",
       "      <td>Selling_Price</td>\n",
       "      <td>9.35503</td>\n",
       "    </tr>\n",
       "    <tr>\n",
       "      <th>2</th>\n",
       "      <td>Present_Price</td>\n",
       "      <td>9.33909</td>\n",
       "    </tr>\n",
       "    <tr>\n",
       "      <th>3</th>\n",
       "      <td>Kms_Driven</td>\n",
       "      <td>2.21597</td>\n",
       "    </tr>\n",
       "    <tr>\n",
       "      <th>4</th>\n",
       "      <td>Owner</td>\n",
       "      <td>1.07427</td>\n",
       "    </tr>\n",
       "  </tbody>\n",
       "</table>\n",
       "</div>"
      ],
      "text/plain": [
       "        Features     VIF\n",
       "0           Year 2.78056\n",
       "1  Selling_Price 9.35503\n",
       "2  Present_Price 9.33909\n",
       "3     Kms_Driven 2.21597\n",
       "4          Owner 1.07427"
      ]
     },
     "execution_count": 4,
     "metadata": {},
     "output_type": "execute_result"
    }
   ],
   "source": [
    "# type your code here\n",
    "vif = pd.DataFrame()\n",
    "df_numeric = df_car.select_dtypes(include=[np.number])\n",
    "vif[\"Features\"] = df_numeric.columns\n",
    "vif[\"VIF\"] = [variance_inflation_factor(df_numeric.values, i) for i in range(df_numeric.shape[1])]\n",
    "\n",
    "vif"
   ]
  },
  {
   "cell_type": "markdown",
   "metadata": {
    "id": "qDv_UrNMLy_8"
   },
   "source": [
    "<table align=\"left\">\n",
    "    <tr>\n",
    "        <td width=\"6%\">\n",
    "            <img src=\"question_icon.png\">\n",
    "        </td>\n",
    "        <td>\n",
    "            <div align=\"left\", style=\"font-size:120%\">\n",
    "                <font color=\"#21618C\">\n",
    "                    <b>3. What is the impact of present price of the car and seller type on the selling price?\n",
    "                    </b>\n",
    "                </font>\n",
    "            </div>\n",
    "        </td>\n",
    "    </tr>\n",
    "</table>"
   ]
  },
  {
   "cell_type": "code",
   "execution_count": 5,
   "metadata": {
    "id": "s7vHfbFpLy__"
   },
   "outputs": [
    {
     "name": "stdout",
     "output_type": "stream",
     "text": [
      "                            OLS Regression Results                            \n",
      "==============================================================================\n",
      "Dep. Variable:          Selling_Price   R-squared:                       0.786\n",
      "Model:                            OLS   Adj. R-squared:                  0.785\n",
      "Method:                 Least Squares   F-statistic:                     548.4\n",
      "Date:                Sun, 11 Sep 2022   Prob (F-statistic):          1.34e-100\n",
      "Time:                        22:22:00   Log-Likelihood:                -683.71\n",
      "No. Observations:                 301   AIC:                             1373.\n",
      "Df Residuals:                     298   BIC:                             1385.\n",
      "Df Model:                           2                                         \n",
      "Covariance Type:            nonrobust                                         \n",
      "=====================================================================================\n",
      "                        coef    std err          t      P>|t|      [0.025      0.975]\n",
      "-------------------------------------------------------------------------------------\n",
      "const                 1.5423      0.261      5.901      0.000       1.028       2.057\n",
      "Present_Price         0.4758      0.018     25.956      0.000       0.440       0.512\n",
      "Seller_Individual    -1.4493      0.331     -4.376      0.000      -2.101      -0.798\n",
      "==============================================================================\n",
      "Omnibus:                       72.895   Durbin-Watson:                   1.645\n",
      "Prob(Omnibus):                  0.000   Jarque-Bera (JB):              845.311\n",
      "Skew:                           0.581   Prob(JB):                    2.77e-184\n",
      "Kurtosis:                      11.127   Cond. No.                         33.4\n",
      "==============================================================================\n",
      "\n",
      "Notes:\n",
      "[1] Standard Errors assume that the covariance matrix of the errors is correctly specified.\n"
     ]
    }
   ],
   "source": [
    "# type your code here\n",
    "X = df_car[[\"Present_Price\"]]\n",
    "dummy_variable = pd.get_dummies(df_car[\"Seller_Type\"], prefix=\"Seller\", drop_first=True)\n",
    "X = pd.concat([X, dummy_variable],axis=1)\n",
    "y = df_car[\"Selling_Price\"]\n",
    "MLR_full = sm.OLS(y, sm.add_constant(X)).fit()\n",
    "print(MLR_full.summary())"
   ]
  },
  {
   "cell_type": "markdown",
   "metadata": {
    "id": "HGX16a8QLzAA"
   },
   "source": [
    "<table align=\"left\">\n",
    "    <tr>\n",
    "        <td width=\"6%\">\n",
    "            <img src=\"question_icon.png\">\n",
    "        </td>\n",
    "        <td>\n",
    "            <div align=\"left\", style=\"font-size:120%\">\n",
    "                <font color=\"#21618C\">\n",
    "                    <b>4. Consider all the numeric features in the data. Do all of them significantly contribute to explaining the variation in the selling price?\n",
    "                    </b>\n",
    "                </font>\n",
    "            </div>\n",
    "        </td>\n",
    "    </tr>\n",
    "</table>"
   ]
  },
  {
   "cell_type": "code",
   "execution_count": 6,
   "metadata": {
    "id": "ktKfSnRkLzAC"
   },
   "outputs": [
    {
     "name": "stdout",
     "output_type": "stream",
     "text": [
      "                            OLS Regression Results                            \n",
      "==============================================================================\n",
      "Dep. Variable:          Selling_Price   R-squared:                       0.852\n",
      "Model:                            OLS   Adj. R-squared:                  0.850\n",
      "Method:                 Least Squares   F-statistic:                     426.6\n",
      "Date:                Sun, 11 Sep 2022   Prob (F-statistic):          1.66e-121\n",
      "Time:                        22:23:36   Log-Likelihood:                -628.25\n",
      "No. Observations:                 301   AIC:                             1267.\n",
      "Df Residuals:                     296   BIC:                             1285.\n",
      "Df Model:                           4                                         \n",
      "Covariance Type:            nonrobust                                         \n",
      "=================================================================================\n",
      "                    coef    std err          t      P>|t|      [0.025      0.975]\n",
      "---------------------------------------------------------------------------------\n",
      "const          -937.7642     94.392     -9.935      0.000   -1123.528    -752.000\n",
      "Year              0.4661      0.047      9.949      0.000       0.374       0.558\n",
      "Present_Price     0.5256      0.013     39.067      0.000       0.499       0.552\n",
      "Kms_Driven    -1.267e-06   3.51e-06     -0.361      0.718   -8.17e-06    5.64e-06\n",
      "Owner            -0.9513      0.466     -2.042      0.042      -1.868      -0.034\n",
      "==============================================================================\n",
      "Omnibus:                       69.450   Durbin-Watson:                   1.560\n",
      "Prob(Omnibus):                  0.000   Jarque-Bera (JB):             1362.873\n",
      "Skew:                           0.241   Prob(JB):                    1.14e-296\n",
      "Kurtosis:                      13.413   Cond. No.                     4.46e+07\n",
      "==============================================================================\n",
      "\n",
      "Notes:\n",
      "[1] Standard Errors assume that the covariance matrix of the errors is correctly specified.\n",
      "[2] The condition number is large, 4.46e+07. This might indicate that there are\n",
      "strong multicollinearity or other numerical problems.\n"
     ]
    }
   ],
   "source": [
    "# type your code here\n",
    "X = df_car.select_dtypes(include=[np.number]).drop([\"Selling_Price\"],axis=1)\n",
    "\n",
    "y = df_car[\"Selling_Price\"]\n",
    "LM_model_num = sm.OLS(y, sm.add_constant(X)).fit()\n",
    "\n",
    "print(LM_model_num.summary())"
   ]
  },
  {
   "cell_type": "markdown",
   "metadata": {
    "id": "wgGLITc6LzAD"
   },
   "source": [
    "<table align=\"left\">\n",
    "    <tr>\n",
    "        <td width=\"6%\">\n",
    "            <img src=\"question_icon.png\">\n",
    "        </td>\n",
    "        <td>\n",
    "            <div align=\"left\", style=\"font-size:120%\">\n",
    "                <font color=\"#21618C\">\n",
    "                    <b>5. In the model obtained in question 4, consider the interaction effect of the present price of the car and the year in which it was purchased. Compare the resultant model with the model obtained in previous question and give your interpretation \n",
    "                    </b>\n",
    "                </font>\n",
    "            </div>\n",
    "        </td>\n",
    "    </tr>\n",
    "</table>"
   ]
  },
  {
   "cell_type": "code",
   "execution_count": 7,
   "metadata": {
    "id": "zJaqMCjMLzAF"
   },
   "outputs": [
    {
     "name": "stdout",
     "output_type": "stream",
     "text": [
      "                            OLS Regression Results                            \n",
      "==============================================================================\n",
      "Dep. Variable:          Selling_Price   R-squared:                       0.963\n",
      "Model:                            OLS   Adj. R-squared:                  0.963\n",
      "Method:                 Least Squares   F-statistic:                     1546.\n",
      "Date:                Sun, 11 Sep 2022   Prob (F-statistic):          3.05e-209\n",
      "Time:                        22:24:07   Log-Likelihood:                -418.79\n",
      "No. Observations:                 301   AIC:                             849.6\n",
      "Df Residuals:                     295   BIC:                             871.8\n",
      "Df Model:                           5                                         \n",
      "Covariance Type:            nonrobust                                         \n",
      "=================================================================================\n",
      "                    coef    std err          t      P>|t|      [0.025      0.975]\n",
      "---------------------------------------------------------------------------------\n",
      "const           101.2676     58.597      1.728      0.085     -14.054     216.590\n",
      "Year             -0.0502      0.029     -1.725      0.086      -0.107       0.007\n",
      "Present_Price  -137.3322      4.617    -29.744      0.000    -146.419    -128.246\n",
      "Kms_Driven    -2.145e-06   1.75e-06     -1.224      0.222   -5.59e-06     1.3e-06\n",
      "Owner            -0.0618      0.235     -0.264      0.792      -0.524       0.400\n",
      "Price*Year        0.0685      0.002     29.858      0.000       0.064       0.073\n",
      "==============================================================================\n",
      "Omnibus:                       37.166   Durbin-Watson:                   1.767\n",
      "Prob(Omnibus):                  0.000   Jarque-Bera (JB):              177.611\n",
      "Skew:                          -0.322   Prob(JB):                     2.71e-39\n",
      "Kurtosis:                       6.708   Cond. No.                     5.74e+07\n",
      "==============================================================================\n",
      "\n",
      "Notes:\n",
      "[1] Standard Errors assume that the covariance matrix of the errors is correctly specified.\n",
      "[2] The condition number is large, 5.74e+07. This might indicate that there are\n",
      "strong multicollinearity or other numerical problems.\n"
     ]
    }
   ],
   "source": [
    "# type your code here\n",
    "X = df_car.select_dtypes(include=[np.number]).drop([\"Selling_Price\"],axis=1)\n",
    "X['Price*Year'] = df_car['Present_Price']*df_car['Year'] \n",
    "y = df_car[\"Selling_Price\"]\n",
    "\n",
    "LM_model_interaction = sm.OLS(y, sm.add_constant(X)).fit()\n",
    "\n",
    "print(LM_model_interaction.summary())"
   ]
  },
  {
   "cell_type": "markdown",
   "metadata": {
    "id": "ldOMggUELzAH"
   },
   "source": [
    "<table align=\"left\">\n",
    "    <tr>\n",
    "        <td width=\"6%\">\n",
    "            <img src=\"question_icon.png\">\n",
    "        </td>\n",
    "        <td>\n",
    "            <div align=\"left\", style=\"font-size:120%\">\n",
    "                <font color=\"#21618C\">\n",
    "                    <b>6. What is the impact of fuel type of cars on the selling price? \n",
    "                    </b>\n",
    "                </font>\n",
    "            </div>\n",
    "        </td>\n",
    "    </tr>\n",
    "</table>"
   ]
  },
  {
   "cell_type": "code",
   "execution_count": 8,
   "metadata": {
    "id": "NCp7TIAmLzAK"
   },
   "outputs": [
    {
     "name": "stdout",
     "output_type": "stream",
     "text": [
      "                            OLS Regression Results                            \n",
      "==============================================================================\n",
      "Dep. Variable:          Selling_Price   R-squared:                       0.305\n",
      "Model:                            OLS   Adj. R-squared:                  0.300\n",
      "Method:                 Least Squares   F-statistic:                     65.41\n",
      "Date:                Sun, 11 Sep 2022   Prob (F-statistic):           2.80e-24\n",
      "Time:                        22:24:38   Log-Likelihood:                -861.21\n",
      "No. Observations:                 301   AIC:                             1728.\n",
      "Df Residuals:                     298   BIC:                             1740.\n",
      "Df Model:                           2                                         \n",
      "Covariance Type:            nonrobust                                         \n",
      "==============================================================================\n",
      "                 coef    std err          t      P>|t|      [0.025      0.975]\n",
      "------------------------------------------------------------------------------\n",
      "const          3.1000      3.006      1.031      0.303      -2.816       9.016\n",
      "Diesel         7.1785      3.056      2.349      0.019       1.165      13.192\n",
      "Petrol         0.1642      3.019      0.054      0.957      -5.776       6.105\n",
      "==============================================================================\n",
      "Omnibus:                      149.368   Durbin-Watson:                   1.338\n",
      "Prob(Omnibus):                  0.000   Jarque-Bera (JB):              826.132\n",
      "Skew:                           2.022   Prob(JB):                    4.05e-180\n",
      "Kurtosis:                      10.036   Cond. No.                         27.9\n",
      "==============================================================================\n",
      "\n",
      "Notes:\n",
      "[1] Standard Errors assume that the covariance matrix of the errors is correctly specified.\n"
     ]
    }
   ],
   "source": [
    "# type your code here\n",
    "X = df_car[\"Fuel_Type\"]\n",
    "X = pd.get_dummies(X, drop_first=True)\n",
    "y = df_car[\"Selling_Price\"]\n",
    "LM_model = sm.OLS(y, sm.add_constant(X)).fit()\n",
    "\n",
    "print(LM_model.summary())"
   ]
  },
  {
   "cell_type": "markdown",
   "metadata": {
    "id": "rQ-57z2MLzAM"
   },
   "source": [
    "<table align=\"left\">\n",
    "    <tr>\n",
    "        <td width=\"6%\">\n",
    "            <img src=\"question_icon.png\">\n",
    "        </td>\n",
    "        <td>\n",
    "            <div align=\"left\", style=\"font-size:120%\">\n",
    "                <font color=\"#21618C\">\n",
    "                    <b>7. Does the model significantly explain variation in the target variable? Justify your answer with analysis of variation \n",
    "                    </b>\n",
    "                </font>\n",
    "            </div>\n",
    "        </td>\n",
    "    </tr>\n",
    "</table>"
   ]
  },
  {
   "cell_type": "markdown",
   "metadata": {
    "id": "v1JzsaEmLzAQ"
   },
   "source": [
    "            Regress the selling price over the transmission.\n",
    "            \n",
    "            Selling_Price ~ Transmission"
   ]
  },
  {
   "cell_type": "code",
   "execution_count": 9,
   "metadata": {
    "id": "DLQhwFdULzAV"
   },
   "outputs": [
    {
     "name": "stdout",
     "output_type": "stream",
     "text": [
      "                            OLS Regression Results                            \n",
      "==============================================================================\n",
      "Dep. Variable:          Selling_Price   R-squared:                       0.305\n",
      "Model:                            OLS   Adj. R-squared:                  0.300\n",
      "Method:                 Least Squares   F-statistic:                     65.41\n",
      "Date:                Sun, 11 Sep 2022   Prob (F-statistic):           2.80e-24\n",
      "Time:                        22:25:10   Log-Likelihood:                -861.21\n",
      "No. Observations:                 301   AIC:                             1728.\n",
      "Df Residuals:                     298   BIC:                             1740.\n",
      "Df Model:                           2                                         \n",
      "Covariance Type:            nonrobust                                         \n",
      "==============================================================================\n",
      "                 coef    std err          t      P>|t|      [0.025      0.975]\n",
      "------------------------------------------------------------------------------\n",
      "const          3.1000      3.006      1.031      0.303      -2.816       9.016\n",
      "Diesel         7.1785      3.056      2.349      0.019       1.165      13.192\n",
      "Petrol         0.1642      3.019      0.054      0.957      -5.776       6.105\n",
      "==============================================================================\n",
      "Omnibus:                      149.368   Durbin-Watson:                   1.338\n",
      "Prob(Omnibus):                  0.000   Jarque-Bera (JB):              826.132\n",
      "Skew:                           2.022   Prob(JB):                    4.05e-180\n",
      "Kurtosis:                      10.036   Cond. No.                         27.9\n",
      "==============================================================================\n",
      "\n",
      "Notes:\n",
      "[1] Standard Errors assume that the covariance matrix of the errors is correctly specified.\n"
     ]
    }
   ],
   "source": [
    "# type your code here\n",
    "X = df_car[\"Fuel_Type\"]\n",
    "X = pd.get_dummies(X, drop_first=True)\n",
    "y = df_car[\"Selling_Price\"]\n",
    "\n",
    "LM_model = sm.OLS(y, sm.add_constant(X)).fit()\n",
    "print(LM_model.summary())"
   ]
  },
  {
   "cell_type": "markdown",
   "metadata": {
    "id": "JPfP_2aOLzAW"
   },
   "source": [
    "<table align=\"left\">\n",
    "    <tr>\n",
    "        <td width=\"6%\">\n",
    "            <img src=\"question_icon.png\">\n",
    "        </td>\n",
    "        <td>\n",
    "            <div align=\"left\", style=\"font-size:120%\">\n",
    "                <font color=\"#21618C\">\n",
    "                    <b>8. Regress the selling price over the present price. Compare the 99% and 95% confidence interval of present price of a car\n",
    "                    </b>\n",
    "                </font>\n",
    "            </div>\n",
    "        </td>\n",
    "    </tr>\n",
    "</table>"
   ]
  },
  {
   "cell_type": "code",
   "execution_count": 10,
   "metadata": {
    "id": "cw8zoyXpLzAY"
   },
   "outputs": [
    {
     "name": "stdout",
     "output_type": "stream",
     "text": [
      "The 99% CI is: \n",
      "                     0       1\n",
      "Present_Price 0.47481 0.55889\n",
      "\n",
      "\n",
      "\n",
      "The 95% CI is: \n",
      "                     0       1\n",
      "Present_Price 0.48494 0.54876\n"
     ]
    }
   ],
   "source": [
    "# type your code here\n",
    "X = df_car[\"Present_Price\"]\n",
    "y = df_car[\"Selling_Price\"]\n",
    "LM_model = sm.OLS(y, sm.add_constant(X)).fit() \n",
    "print(\"The 99% CI is: \\n\", LM_model.conf_int(0.01)[1:])\n",
    "\n",
    "print(\"\\n\\n\")\n",
    "\n",
    "print(\"The 95% CI is: \\n\", LM_model.conf_int(0.05)[1:])"
   ]
  },
  {
   "cell_type": "markdown",
   "metadata": {
    "id": "ep3mt7kKLzAY"
   },
   "source": [
    "<table align=\"left\">\n",
    "    <tr>\n",
    "        <td width=\"6%\">\n",
    "            <img src=\"question_icon.png\">\n",
    "        </td>\n",
    "        <td>\n",
    "            <div align=\"left\", style=\"font-size:120%\">\n",
    "                <font color=\"#21618C\">\n",
    "                        <b>9. Verify the statement: The sum of the residuals in any regression model that contains an intercept β<sub>0</sub> is always zero\n",
    "                    </b>\n",
    "                </font>\n",
    "            </div>\n",
    "        </td>\n",
    "    </tr>\n",
    "</table>"
   ]
  },
  {
   "cell_type": "markdown",
   "metadata": {
    "id": "I5yu1x_pLzAa"
   },
   "source": [
    "        To verify the result, we will fit a regression model of 'Present_Price' on 'Selling_Price' "
   ]
  },
  {
   "cell_type": "code",
   "execution_count": 11,
   "metadata": {
    "id": "PgGggC9CLzAb"
   },
   "outputs": [
    {
     "data": {
      "text/plain": [
       "-0.0"
      ]
     },
     "execution_count": 11,
     "metadata": {},
     "output_type": "execute_result"
    }
   ],
   "source": [
    "# type your code here\n",
    "X = df_car[\"Present_Price\"]\n",
    "y = df_car[\"Selling_Price\"]\n",
    "LM_model = sm.OLS(y, sm.add_constant(X)).fit()\n",
    "resid_sum = LM_model.resid.sum()\n",
    "\n",
    "round(resid_sum, 10)"
   ]
  },
  {
   "cell_type": "markdown",
   "metadata": {
    "id": "0dWKYbVQLzAc"
   },
   "source": [
    "<table align=\"left\">\n",
    "    <tr>\n",
    "        <td width=\"6%\">\n",
    "            <img src=\"question_icon.png\">\n",
    "        </td>\n",
    "        <td>\n",
    "            <div align=\"left\", style=\"font-size:120%\">\n",
    "                <font color=\"#21618C\">\n",
    "                    <b>10. Consider two models as specified below. Compare the performance of the models\n",
    "                    </b>\n",
    "                </font>\n",
    "            </div>\n",
    "        </td>\n",
    "    </tr>\n",
    "</table>"
   ]
  },
  {
   "cell_type": "markdown",
   "metadata": {
    "id": "VlpY1K8ALzAd"
   },
   "source": [
    "                First model:\n",
    "        \n",
    "        Selling_Price ~ Year + Present_Price + Kms_Driven + Owner + Fuel_Type + Seller_Type + Transmission\n",
    "        \n",
    "        \n",
    "                Second model:\n",
    "        \n",
    "        Selling_Price ~ Year + Present_Price + Kms_Driven + Owner "
   ]
  },
  {
   "cell_type": "code",
   "execution_count": 12,
   "metadata": {
    "id": "jNEYswd-LzAe"
   },
   "outputs": [],
   "source": [
    "# type your code here\n",
    "df_car_num = df_car.select_dtypes(include=np.number).drop([\"Selling_Price\"],axis=1)\n",
    "df_car_cat = df_car.select_dtypes(include=\"object\")\n",
    "dummy_variables = pd.get_dummies(df_car_cat, drop_first=True)\n",
    "\n",
    "X = pd.concat([df_car_num, dummy_variables],axis=1)\n",
    "\n",
    "X.insert(loc = 0, column = 'intercept',value = np.ones(X.shape[0]))\n",
    "\n",
    "\n",
    "y = df_car[\"Selling_Price\"]"
   ]
  },
  {
   "cell_type": "code",
   "execution_count": 13,
   "metadata": {},
   "outputs": [
    {
     "name": "stdout",
     "output_type": "stream",
     "text": [
      "X_train (210, 9)\n",
      "y_train (210,)\n",
      "X_test (91, 9)\n",
      "y_test (91,)\n"
     ]
    }
   ],
   "source": [
    "X_train, X_test, y_train, y_test = train_test_split(X, y, random_state=1,test_size = 0.3)\n",
    "\n",
    "\n",
    "print('X_train', X_train.shape)\n",
    "print('y_train', y_train.shape)\n",
    "\n",
    "print('X_test', X_test.shape)\n",
    "print('y_test', y_test.shape)"
   ]
  },
  {
   "cell_type": "code",
   "execution_count": 14,
   "metadata": {},
   "outputs": [
    {
     "name": "stdout",
     "output_type": "stream",
     "text": [
      "                            OLS Regression Results                            \n",
      "==============================================================================\n",
      "Dep. Variable:          Selling_Price   R-squared:                       0.884\n",
      "Model:                            OLS   Adj. R-squared:                  0.879\n",
      "Method:                 Least Squares   F-statistic:                     191.2\n",
      "Date:                Sun, 11 Sep 2022   Prob (F-statistic):           1.35e-89\n",
      "Time:                        22:28:04   Log-Likelihood:                -423.34\n",
      "No. Observations:                 210   AIC:                             864.7\n",
      "Df Residuals:                     201   BIC:                             894.8\n",
      "Df Model:                           8                                         \n",
      "Covariance Type:            nonrobust                                         \n",
      "==========================================================================================\n",
      "                             coef    std err          t      P>|t|      [0.025      0.975]\n",
      "------------------------------------------------------------------------------------------\n",
      "intercept               -844.1360    106.814     -7.903      0.000   -1054.755    -633.517\n",
      "Year                       0.4205      0.053      7.931      0.000       0.316       0.525\n",
      "Present_Price              0.4413      0.018     24.125      0.000       0.405       0.477\n",
      "Kms_Driven             -4.158e-06   3.59e-06     -1.160      0.248   -1.12e-05    2.91e-06\n",
      "Owner                      0.5122      0.849      0.603      0.547      -1.163       2.187\n",
      "Fuel_Type_Diesel           2.1807      1.892      1.152      0.250      -1.550       5.912\n",
      "Fuel_Type_Petrol           0.4291      1.871      0.229      0.819      -3.260       4.118\n",
      "Seller_Type_Individual    -1.1021      0.317     -3.480      0.001      -1.726      -0.478\n",
      "Transmission_Manual       -1.7746      0.405     -4.377      0.000      -2.574      -0.975\n",
      "==============================================================================\n",
      "Omnibus:                       70.618   Durbin-Watson:                   1.945\n",
      "Prob(Omnibus):                  0.000   Jarque-Bera (JB):              509.541\n",
      "Skew:                           1.068   Prob(JB):                    2.26e-111\n",
      "Kurtosis:                      10.326   Cond. No.                     4.89e+07\n",
      "==============================================================================\n",
      "\n",
      "Notes:\n",
      "[1] Standard Errors assume that the covariance matrix of the errors is correctly specified.\n",
      "[2] The condition number is large, 4.89e+07. This might indicate that there are\n",
      "strong multicollinearity or other numerical problems.\n"
     ]
    }
   ],
   "source": [
    "MLR_full = sm.OLS(y_train, X_train).fit()\n",
    "print(MLR_full.summary())"
   ]
  },
  {
   "cell_type": "code",
   "execution_count": 15,
   "metadata": {},
   "outputs": [],
   "source": [
    "y_pred = MLR_full.predict(X_test)"
   ]
  },
  {
   "cell_type": "code",
   "execution_count": 16,
   "metadata": {},
   "outputs": [
    {
     "data": {
      "text/html": [
       "<div>\n",
       "<style scoped>\n",
       "    .dataframe tbody tr th:only-of-type {\n",
       "        vertical-align: middle;\n",
       "    }\n",
       "\n",
       "    .dataframe tbody tr th {\n",
       "        vertical-align: top;\n",
       "    }\n",
       "\n",
       "    .dataframe thead th {\n",
       "        text-align: right;\n",
       "    }\n",
       "</style>\n",
       "<table border=\"1\" class=\"dataframe\">\n",
       "  <thead>\n",
       "    <tr style=\"text-align: right;\">\n",
       "      <th></th>\n",
       "      <th>Model</th>\n",
       "      <th>R-Squared</th>\n",
       "      <th>Adj. R-Squared</th>\n",
       "      <th>RMSE</th>\n",
       "    </tr>\n",
       "  </thead>\n",
       "  <tbody>\n",
       "    <tr>\n",
       "      <th>0</th>\n",
       "      <td>Linreg full model</td>\n",
       "      <td>0.88385</td>\n",
       "      <td>0.87923</td>\n",
       "      <td>1.66717</td>\n",
       "    </tr>\n",
       "  </tbody>\n",
       "</table>\n",
       "</div>"
      ],
      "text/plain": [
       "               Model  R-Squared  Adj. R-Squared    RMSE\n",
       "0  Linreg full model    0.88385         0.87923 1.66717"
      ]
     },
     "execution_count": 16,
     "metadata": {},
     "output_type": "execute_result"
    }
   ],
   "source": [
    "cols = ['Model', 'R-Squared', 'Adj. R-Squared',  'RMSE']\n",
    "\n",
    "result_tabulation = pd.DataFrame(columns = cols)\n",
    "\n",
    "linreg_full_model = pd.Series({'Model': \"Linreg full model\",\n",
    "                           'R-Squared': MLR_full.rsquared,\n",
    "                      'Adj. R-Squared': MLR_full.rsquared_adj ,\n",
    "                                'RMSE': rmse(y_test, y_pred)\n",
    "                   })\n",
    "\n",
    "\n",
    "result_tabulation = result_tabulation.append(linreg_full_model, ignore_index = True)\n",
    "result_tabulation"
   ]
  },
  {
   "cell_type": "code",
   "execution_count": 17,
   "metadata": {},
   "outputs": [
    {
     "name": "stdout",
     "output_type": "stream",
     "text": [
      "                            OLS Regression Results                            \n",
      "==============================================================================\n",
      "Dep. Variable:          Selling_Price   R-squared:                       0.853\n",
      "Model:                            OLS   Adj. R-squared:                  0.850\n",
      "Method:                 Least Squares   F-statistic:                     298.1\n",
      "Date:                Sun, 11 Sep 2022   Prob (F-statistic):           3.23e-84\n",
      "Time:                        22:29:41   Log-Likelihood:                -447.86\n",
      "No. Observations:                 210   AIC:                             905.7\n",
      "Df Residuals:                     205   BIC:                             922.5\n",
      "Df Model:                           4                                         \n",
      "Covariance Type:            nonrobust                                         \n",
      "=================================================================================\n",
      "                    coef    std err          t      P>|t|      [0.025      0.975]\n",
      "---------------------------------------------------------------------------------\n",
      "intercept      -996.2108    116.383     -8.560      0.000   -1225.671    -766.751\n",
      "Year              0.4950      0.058      8.571      0.000       0.381       0.609\n",
      "Present_Price     0.5225      0.016     33.056      0.000       0.491       0.554\n",
      "Kms_Driven     1.394e-06   3.88e-06      0.360      0.720   -6.25e-06    9.04e-06\n",
      "Owner             0.6685      0.943      0.709      0.479      -1.192       2.529\n",
      "==============================================================================\n",
      "Omnibus:                       58.759   Durbin-Watson:                   1.863\n",
      "Prob(Omnibus):                  0.000   Jarque-Bera (JB):             1149.243\n",
      "Skew:                           0.408   Prob(JB):                    2.79e-250\n",
      "Kurtosis:                      14.431   Cond. No.                     4.79e+07\n",
      "==============================================================================\n",
      "\n",
      "Notes:\n",
      "[1] Standard Errors assume that the covariance matrix of the errors is correctly specified.\n",
      "[2] The condition number is large, 4.79e+07. This might indicate that there are\n",
      "strong multicollinearity or other numerical problems.\n"
     ]
    }
   ],
   "source": [
    "X_train = X_train.drop(['Fuel_Type_Diesel', 'Fuel_Type_Petrol', 'Seller_Type_Individual','Transmission_Manual'],axis=1)\n",
    "MLR_num = sm.OLS(y_train, X_train).fit()\n",
    "print(MLR_num.summary())\n"
   ]
  },
  {
   "cell_type": "code",
   "execution_count": 18,
   "metadata": {},
   "outputs": [],
   "source": [
    "X_test = X_test.drop(['Fuel_Type_Diesel', 'Fuel_Type_Petrol', 'Seller_Type_Individual','Transmission_Manual'],axis=1)\n",
    "\n",
    "\n",
    "y_pred = MLR_num.predict(X_test)"
   ]
  },
  {
   "cell_type": "code",
   "execution_count": 19,
   "metadata": {},
   "outputs": [
    {
     "data": {
      "text/html": [
       "<div>\n",
       "<style scoped>\n",
       "    .dataframe tbody tr th:only-of-type {\n",
       "        vertical-align: middle;\n",
       "    }\n",
       "\n",
       "    .dataframe tbody tr th {\n",
       "        vertical-align: top;\n",
       "    }\n",
       "\n",
       "    .dataframe thead th {\n",
       "        text-align: right;\n",
       "    }\n",
       "</style>\n",
       "<table border=\"1\" class=\"dataframe\">\n",
       "  <thead>\n",
       "    <tr style=\"text-align: right;\">\n",
       "      <th></th>\n",
       "      <th>Model</th>\n",
       "      <th>R-Squared</th>\n",
       "      <th>Adj. R-Squared</th>\n",
       "      <th>RMSE</th>\n",
       "    </tr>\n",
       "  </thead>\n",
       "  <tbody>\n",
       "    <tr>\n",
       "      <th>0</th>\n",
       "      <td>Linreg full model</td>\n",
       "      <td>0.88385</td>\n",
       "      <td>0.87923</td>\n",
       "      <td>1.66717</td>\n",
       "    </tr>\n",
       "    <tr>\n",
       "      <th>1</th>\n",
       "      <td>Linreg numeric model</td>\n",
       "      <td>0.85329</td>\n",
       "      <td>0.85043</td>\n",
       "      <td>1.87571</td>\n",
       "    </tr>\n",
       "  </tbody>\n",
       "</table>\n",
       "</div>"
      ],
      "text/plain": [
       "                  Model  R-Squared  Adj. R-Squared    RMSE\n",
       "0     Linreg full model    0.88385         0.87923 1.66717\n",
       "1  Linreg numeric model    0.85329         0.85043 1.87571"
      ]
     },
     "execution_count": 19,
     "metadata": {},
     "output_type": "execute_result"
    }
   ],
   "source": [
    "linreg_num_model = pd.Series({'Model': \"Linreg numeric model\",\n",
    "                          'R-Squared': MLR_num.rsquared,\n",
    "                     'Adj. R-Squared': MLR_num.rsquared_adj ,\n",
    "                               'RMSE': rmse(y_test, y_pred)\n",
    "                   })\n",
    "\n",
    "result_tabulation = result_tabulation.append(linreg_num_model, ignore_index = True)\n",
    "\n",
    "result_tabulation"
   ]
  },
  {
   "cell_type": "code",
   "execution_count": null,
   "metadata": {},
   "outputs": [],
   "source": []
  }
 ],
 "metadata": {
  "colab": {
   "collapsed_sections": [],
   "name": "SLR - Take home (Day 1) - Questions [v1.0 - 080420].ipynb",
   "provenance": []
  },
  "kernelspec": {
   "display_name": "Python 3 (ipykernel)",
   "language": "python",
   "name": "python3"
  },
  "language_info": {
   "codemirror_mode": {
    "name": "ipython",
    "version": 3
   },
   "file_extension": ".py",
   "mimetype": "text/x-python",
   "name": "python",
   "nbconvert_exporter": "python",
   "pygments_lexer": "ipython3",
   "version": "3.9.7"
  }
 },
 "nbformat": 4,
 "nbformat_minor": 1
}
