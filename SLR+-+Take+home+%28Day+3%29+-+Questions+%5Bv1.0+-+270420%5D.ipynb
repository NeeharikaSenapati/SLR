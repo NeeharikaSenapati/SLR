{
 "cells": [
  {
   "cell_type": "markdown",
   "metadata": {
    "id": "NIym7UouM4UD"
   },
   "source": [
    "<table align=\"center\" width=100%>\n",
    "    <tr>\n",
    "        <td width=\"20%\">\n",
    "            <img src=\"homework.png\">\n",
    "        </td>\n",
    "        <td>\n",
    "            <div align=\"center\">\n",
    "                <font color=\"#21618C\" size=8px>\n",
    "                    <b> Take-Home <br>(Day 3)\n",
    "                    </b>\n",
    "                </font>\n",
    "            </div>\n",
    "        </td>\n",
    "        <td width=\"25%\">\n",
    "            <img src=\"GL-2.png\">\n",
    "        </td>\n",
    "    </tr>\n",
    "</table>"
   ]
  },
  {
   "cell_type": "markdown",
   "metadata": {
    "id": "sSIL9J5EM4UN"
   },
   "source": [
    "#### Import the required libraries"
   ]
  },
  {
   "cell_type": "code",
   "execution_count": 1,
   "metadata": {
    "id": "rs0_zn1AM4UP"
   },
   "outputs": [],
   "source": [
    "# type your code here\n",
    "# import 'Pandas' \n",
    "import pandas as pd \n",
    "\n",
    "# import 'Numpy' \n",
    "import numpy as np\n",
    "\n",
    "# import subpackage of Matplotlib\n",
    "import matplotlib.pyplot as plt\n",
    "\n",
    "# import 'Seaborn' \n",
    "import seaborn as sns\n",
    "\n",
    "# to suppress warnings \n",
    "from warnings import filterwarnings\n",
    "filterwarnings('ignore')\n",
    "\n",
    "# display all columns of the dataframe\n",
    "pd.options.display.max_columns = None\n",
    "\n",
    "# display all rows of the dataframe\n",
    "pd.options.display.max_rows = None\n",
    " \n",
    "# to display the float values upto 6 decimal places     \n",
    "pd.options.display.float_format = '{:.6f}'.format\n",
    "\n",
    "# import train-test split \n",
    "from sklearn.model_selection import train_test_split\n",
    "\n",
    "# import various functions from statsmodels\n",
    "import statsmodels\n",
    "import statsmodels.api as sm\n",
    "\n",
    "# import 'stats'\n",
    "from scipy import stats\n",
    "\n",
    "# 'metrics' from sklearn is used for evaluating the model performance\n",
    "from sklearn.metrics import mean_squared_error\n",
    "from sklearn.metrics import mean_absolute_error\n",
    "\n",
    "\n",
    "# import function to perform linear regression\n",
    "from sklearn.linear_model import LinearRegression\n",
    "\n",
    "# import StandardScaler to perform scaling\n",
    "from sklearn.preprocessing import StandardScaler \n",
    "\n",
    "# import SGDRegressor from sklearn to perform linear regression with stochastic gradient descent\n",
    "from sklearn.linear_model import SGDRegressor\n",
    "\n",
    "# import function for ridge regression\n",
    "from sklearn.linear_model import Ridge\n",
    "\n",
    "# import function for lasso regression\n",
    "from sklearn.linear_model import Lasso\n",
    "\n",
    "# import function for elastic net regression\n",
    "from sklearn.linear_model import ElasticNet\n",
    "\n",
    "# import function to perform GridSearchCV\n",
    "from sklearn.model_selection import GridSearchCV"
   ]
  },
  {
   "cell_type": "markdown",
   "metadata": {
    "id": "7YaoDQYsM4UR"
   },
   "source": [
    "#### Read the data\n",
    "\n",
    "Load the csv file and print the first five observations."
   ]
  },
  {
   "cell_type": "code",
   "execution_count": 3,
   "metadata": {
    "id": "9HB3flZnM4US"
   },
   "outputs": [
    {
     "data": {
      "text/html": [
       "<div>\n",
       "<style scoped>\n",
       "    .dataframe tbody tr th:only-of-type {\n",
       "        vertical-align: middle;\n",
       "    }\n",
       "\n",
       "    .dataframe tbody tr th {\n",
       "        vertical-align: top;\n",
       "    }\n",
       "\n",
       "    .dataframe thead th {\n",
       "        text-align: right;\n",
       "    }\n",
       "</style>\n",
       "<table border=\"1\" class=\"dataframe\">\n",
       "  <thead>\n",
       "    <tr style=\"text-align: right;\">\n",
       "      <th></th>\n",
       "      <th>Species</th>\n",
       "      <th>Weight</th>\n",
       "      <th>V_length</th>\n",
       "      <th>D_length</th>\n",
       "      <th>C_length</th>\n",
       "      <th>Height</th>\n",
       "      <th>Width</th>\n",
       "    </tr>\n",
       "  </thead>\n",
       "  <tbody>\n",
       "    <tr>\n",
       "      <th>0</th>\n",
       "      <td>Bream</td>\n",
       "      <td>242.000000</td>\n",
       "      <td>23.200000</td>\n",
       "      <td>25.400000</td>\n",
       "      <td>30.000000</td>\n",
       "      <td>11.520000</td>\n",
       "      <td>4.020000</td>\n",
       "    </tr>\n",
       "    <tr>\n",
       "      <th>1</th>\n",
       "      <td>Bream</td>\n",
       "      <td>290.000000</td>\n",
       "      <td>24.000000</td>\n",
       "      <td>26.300000</td>\n",
       "      <td>31.200000</td>\n",
       "      <td>12.480000</td>\n",
       "      <td>4.305600</td>\n",
       "    </tr>\n",
       "    <tr>\n",
       "      <th>2</th>\n",
       "      <td>Bream</td>\n",
       "      <td>340.000000</td>\n",
       "      <td>23.900000</td>\n",
       "      <td>26.500000</td>\n",
       "      <td>31.100000</td>\n",
       "      <td>12.377800</td>\n",
       "      <td>4.696100</td>\n",
       "    </tr>\n",
       "    <tr>\n",
       "      <th>3</th>\n",
       "      <td>Bream</td>\n",
       "      <td>363.000000</td>\n",
       "      <td>26.300000</td>\n",
       "      <td>29.000000</td>\n",
       "      <td>33.500000</td>\n",
       "      <td>12.730000</td>\n",
       "      <td>4.455500</td>\n",
       "    </tr>\n",
       "    <tr>\n",
       "      <th>4</th>\n",
       "      <td>Bream</td>\n",
       "      <td>430.000000</td>\n",
       "      <td>26.500000</td>\n",
       "      <td>29.000000</td>\n",
       "      <td>34.000000</td>\n",
       "      <td>12.444000</td>\n",
       "      <td>5.134000</td>\n",
       "    </tr>\n",
       "  </tbody>\n",
       "</table>\n",
       "</div>"
      ],
      "text/plain": [
       "  Species     Weight  V_length  D_length  C_length    Height    Width\n",
       "0   Bream 242.000000 23.200000 25.400000 30.000000 11.520000 4.020000\n",
       "1   Bream 290.000000 24.000000 26.300000 31.200000 12.480000 4.305600\n",
       "2   Bream 340.000000 23.900000 26.500000 31.100000 12.377800 4.696100\n",
       "3   Bream 363.000000 26.300000 29.000000 33.500000 12.730000 4.455500\n",
       "4   Bream 430.000000 26.500000 29.000000 34.000000 12.444000 5.134000"
      ]
     },
     "execution_count": 3,
     "metadata": {},
     "output_type": "execute_result"
    }
   ],
   "source": [
    "# type your code here\n",
    "df = pd.read_csv('fish.csv')\n",
    "df.head()"
   ]
  },
  {
   "cell_type": "markdown",
   "metadata": {
    "id": "12NRUg85M4UT"
   },
   "source": [
    "Our objective is to predict the weight of a fish."
   ]
  },
  {
   "cell_type": "markdown",
   "metadata": {
    "id": "Twqh_baaM4UU"
   },
   "source": [
    "**The data definition is as follows:** <br>\n",
    "\n",
    "**Species:** Species of a fish\n",
    "\n",
    "**Weight:** Weight of a fish (target/dependent variable)\n",
    "\n",
    "**V_length:** Vertical length of a fish\n",
    "\n",
    "**D_length:** Diagonal length of a fish\n",
    "\n",
    "**C_length:** Cross length of a fish\n",
    "\n",
    "**Height:** Height of a fish\n",
    "\n",
    "**Width:** Diagonal width of a fish"
   ]
  },
  {
   "cell_type": "markdown",
   "metadata": {
    "id": "vRW1-JA_M4UX"
   },
   "source": [
    "### Let's begin with some hands-on practice exercises"
   ]
  },
  {
   "cell_type": "markdown",
   "metadata": {
    "id": "vcuXh4lbM4UY"
   },
   "source": [
    "<table align=\"left\">\n",
    "    <tr>\n",
    "        <td width=\"6%\">\n",
    "            <img src=\"question_icon.png\">\n",
    "        </td>\n",
    "        <td>\n",
    "            <div align=\"left\", style=\"font-size:120%\">\n",
    "                <font color=\"#21618C\">\n",
    "                    <b>1. Build a full model on the scaled data and check whether the model is overfitting or not</b>\n",
    "                </font>\n",
    "            </div>\n",
    "        </td>\n",
    "    </tr>\n",
    "</table>"
   ]
  },
  {
   "cell_type": "code",
   "execution_count": 4,
   "metadata": {
    "id": "FBNsVzKjM4Ub"
   },
   "outputs": [],
   "source": [
    "# type your code here\n",
    "ss = StandardScaler()\n",
    "X = pd.DataFrame(ss.fit_transform(df.drop(['Species','Weight'],axis=1)))\n",
    "y = pd.DataFrame(ss.fit_transform(df[['Weight']]))"
   ]
  },
  {
   "cell_type": "code",
   "execution_count": 5,
   "metadata": {},
   "outputs": [],
   "source": [
    "encode = pd.get_dummies(df['Species'],drop_first=True)"
   ]
  },
  {
   "cell_type": "code",
   "execution_count": 7,
   "metadata": {},
   "outputs": [],
   "source": [
    "X_train,X_test,Y_train,Y_test = train_test_split(X,y,test_size=0.2,random_state=10)"
   ]
  },
  {
   "cell_type": "code",
   "execution_count": 8,
   "metadata": {},
   "outputs": [
    {
     "data": {
      "text/html": [
       "<div>\n",
       "<style scoped>\n",
       "    .dataframe tbody tr th:only-of-type {\n",
       "        vertical-align: middle;\n",
       "    }\n",
       "\n",
       "    .dataframe tbody tr th {\n",
       "        vertical-align: top;\n",
       "    }\n",
       "\n",
       "    .dataframe thead th {\n",
       "        text-align: right;\n",
       "    }\n",
       "</style>\n",
       "<table border=\"1\" class=\"dataframe\">\n",
       "  <thead>\n",
       "    <tr style=\"text-align: right;\">\n",
       "      <th></th>\n",
       "      <th>0</th>\n",
       "      <th>1</th>\n",
       "      <th>2</th>\n",
       "      <th>3</th>\n",
       "      <th>4</th>\n",
       "      <th>Parkki</th>\n",
       "      <th>Perch</th>\n",
       "      <th>Pike</th>\n",
       "      <th>Roach</th>\n",
       "      <th>Smelt</th>\n",
       "      <th>Whitefish</th>\n",
       "    </tr>\n",
       "  </thead>\n",
       "  <tbody>\n",
       "    <tr>\n",
       "      <th>0</th>\n",
       "      <td>-0.305789</td>\n",
       "      <td>-0.282303</td>\n",
       "      <td>-0.106020</td>\n",
       "      <td>0.596579</td>\n",
       "      <td>-0.236529</td>\n",
       "      <td>0</td>\n",
       "      <td>0</td>\n",
       "      <td>0</td>\n",
       "      <td>0</td>\n",
       "      <td>0</td>\n",
       "      <td>0</td>\n",
       "    </tr>\n",
       "    <tr>\n",
       "      <th>1</th>\n",
       "      <td>-0.225507</td>\n",
       "      <td>-0.198054</td>\n",
       "      <td>-0.002337</td>\n",
       "      <td>0.821261</td>\n",
       "      <td>-0.066579</td>\n",
       "      <td>0</td>\n",
       "      <td>0</td>\n",
       "      <td>0</td>\n",
       "      <td>0</td>\n",
       "      <td>0</td>\n",
       "      <td>0</td>\n",
       "    </tr>\n",
       "    <tr>\n",
       "      <th>2</th>\n",
       "      <td>-0.235542</td>\n",
       "      <td>-0.179332</td>\n",
       "      <td>-0.010977</td>\n",
       "      <td>0.797341</td>\n",
       "      <td>0.165793</td>\n",
       "      <td>0</td>\n",
       "      <td>0</td>\n",
       "      <td>0</td>\n",
       "      <td>0</td>\n",
       "      <td>0</td>\n",
       "      <td>0</td>\n",
       "    </tr>\n",
       "    <tr>\n",
       "      <th>3</th>\n",
       "      <td>0.005302</td>\n",
       "      <td>0.054694</td>\n",
       "      <td>0.196390</td>\n",
       "      <td>0.879771</td>\n",
       "      <td>0.022621</td>\n",
       "      <td>0</td>\n",
       "      <td>0</td>\n",
       "      <td>0</td>\n",
       "      <td>0</td>\n",
       "      <td>0</td>\n",
       "      <td>0</td>\n",
       "    </tr>\n",
       "    <tr>\n",
       "      <th>4</th>\n",
       "      <td>0.025372</td>\n",
       "      <td>0.054694</td>\n",
       "      <td>0.239592</td>\n",
       "      <td>0.812835</td>\n",
       "      <td>0.426371</td>\n",
       "      <td>0</td>\n",
       "      <td>0</td>\n",
       "      <td>0</td>\n",
       "      <td>0</td>\n",
       "      <td>0</td>\n",
       "      <td>0</td>\n",
       "    </tr>\n",
       "  </tbody>\n",
       "</table>\n",
       "</div>"
      ],
      "text/plain": [
       "          0         1         2        3         4  Parkki  Perch  Pike  \\\n",
       "0 -0.305789 -0.282303 -0.106020 0.596579 -0.236529       0      0     0   \n",
       "1 -0.225507 -0.198054 -0.002337 0.821261 -0.066579       0      0     0   \n",
       "2 -0.235542 -0.179332 -0.010977 0.797341  0.165793       0      0     0   \n",
       "3  0.005302  0.054694  0.196390 0.879771  0.022621       0      0     0   \n",
       "4  0.025372  0.054694  0.239592 0.812835  0.426371       0      0     0   \n",
       "\n",
       "   Roach  Smelt  Whitefish  \n",
       "0      0      0          0  \n",
       "1      0      0          0  \n",
       "2      0      0          0  \n",
       "3      0      0          0  \n",
       "4      0      0          0  "
      ]
     },
     "execution_count": 8,
     "metadata": {},
     "output_type": "execute_result"
    }
   ],
   "source": [
    "x = pd.concat([X,encode],axis=1)\n",
    "x.head()"
   ]
  },
  {
   "cell_type": "code",
   "execution_count": 13,
   "metadata": {},
   "outputs": [],
   "source": [
    "lr = LinearRegression()\n",
    "model = lr.fit(X,y)"
   ]
  },
  {
   "cell_type": "code",
   "execution_count": 14,
   "metadata": {},
   "outputs": [],
   "source": [
    "ypred_train = model.predict(X_train)\n",
    "ypred_test = model.predict(X_test)"
   ]
  },
  {
   "cell_type": "code",
   "execution_count": 15,
   "metadata": {},
   "outputs": [],
   "source": [
    "train_mse = mean_squared_error(Y_train,ypred_train)\n",
    "test_mse = mean_squared_error(Y_test,ypred_test)"
   ]
  },
  {
   "cell_type": "code",
   "execution_count": 16,
   "metadata": {},
   "outputs": [
    {
     "name": "stdout",
     "output_type": "stream",
     "text": [
      "the RMSE of train data is 0.35130023733534793\n",
      "the RMSE of test data is 0.27831128075396744\n"
     ]
    }
   ],
   "source": [
    "print('the RMSE of train data is',np.sqrt(train_mse))\n",
    "print('the RMSE of test data is',np.sqrt(test_mse))"
   ]
  },
  {
   "cell_type": "code",
   "execution_count": 17,
   "metadata": {},
   "outputs": [],
   "source": [
    "#inference : there is significant drop in RMSE, campartively from train data, the test data RMSE is less, \n",
    "#so model can be said it as overfit model"
   ]
  },
  {
   "cell_type": "markdown",
   "metadata": {
    "id": "ViNj1AIbM4Ud"
   },
   "source": [
    "<table align=\"left\">\n",
    "    <tr>\n",
    "        <td width=\"6%\">\n",
    "            <img src=\"question_icon.png\">\n",
    "        </td>\n",
    "        <td>\n",
    "            <div align=\"left\", style=\"font-size:120%\">\n",
    "                <font color=\"#21618C\">\n",
    "                    <b>2. Is there multicollinearity present in the scaled data?\n",
    "                     </b>\n",
    "                </font>\n",
    "            </div>\n",
    "        </td>\n",
    "    </tr>\n",
    "</table>"
   ]
  },
  {
   "cell_type": "code",
   "execution_count": null,
   "metadata": {
    "id": "84sSB8hTM4Uf"
   },
   "outputs": [],
   "source": [
    "#multicollinearity can be observed by VIF or OLS model"
   ]
  },
  {
   "cell_type": "code",
   "execution_count": 18,
   "metadata": {},
   "outputs": [],
   "source": [
    "X = pd.DataFrame(ss.fit_transform(df.drop(['Species','Weight'],axis=1)))\n",
    "y = pd.DataFrame(ss.fit_transform(df[['Weight']]))\n",
    "X = sm.add_constant(X)\n",
    "X = pd.concat([X,encode],axis=1)"
   ]
  },
  {
   "cell_type": "code",
   "execution_count": 19,
   "metadata": {},
   "outputs": [
    {
     "name": "stdout",
     "output_type": "stream",
     "text": [
      "                            OLS Regression Results                            \n",
      "==============================================================================\n",
      "Dep. Variable:                      0   R-squared:                       0.936\n",
      "Model:                            OLS   Adj. R-squared:                  0.931\n",
      "Method:                 Least Squares   F-statistic:                     194.7\n",
      "Date:                Wed, 14 Sep 2022   Prob (F-statistic):           9.67e-82\n",
      "Time:                        16:28:54   Log-Likelihood:                -7.3457\n",
      "No. Observations:                 159   AIC:                             38.69\n",
      "Df Residuals:                     147   BIC:                             75.52\n",
      "Df Model:                          11                                         \n",
      "Covariance Type:            nonrobust                                         \n",
      "==============================================================================\n",
      "                 coef    std err          t      P>|t|      [0.025      0.975]\n",
      "------------------------------------------------------------------------------\n",
      "const         -0.2510      0.236     -1.062      0.290      -0.718       0.216\n",
      "0             -2.2223      1.015     -2.188      0.030      -4.229      -0.216\n",
      "1              2.5059      1.372      1.827      0.070      -0.205       5.217\n",
      "2              0.9114      0.953      0.957      0.340      -0.971       2.794\n",
      "3              0.0763      0.157      0.487      0.627      -0.233       0.386\n",
      "4             -0.0049      0.113     -0.044      0.965      -0.228       0.218\n",
      "Parkki         0.4415      0.213      2.076      0.040       0.021       0.862\n",
      "Perch          0.3629      0.338      1.074      0.285      -0.305       1.031\n",
      "Pike          -0.5888      0.380     -1.549      0.123      -1.340       0.162\n",
      "Roach          0.3000      0.256      1.170      0.244      -0.207       0.807\n",
      "Smelt          1.2315      0.335      3.671      0.000       0.568       1.894\n",
      "Whitefish      0.2508      0.272      0.924      0.357      -0.286       0.787\n",
      "==============================================================================\n",
      "Omnibus:                       42.986   Durbin-Watson:                   0.947\n",
      "Prob(Omnibus):                  0.000   Jarque-Bera (JB):               95.736\n",
      "Skew:                           1.170   Prob(JB):                     1.63e-21\n",
      "Kurtosis:                       5.996   Cond. No.                         172.\n",
      "==============================================================================\n",
      "\n",
      "Notes:\n",
      "[1] Standard Errors assume that the covariance matrix of the errors is correctly specified.\n"
     ]
    }
   ],
   "source": [
    "model_OLS = sm.OLS(y,X).fit()\n",
    "print(model_OLS.summary())"
   ]
  },
  {
   "cell_type": "code",
   "execution_count": 20,
   "metadata": {},
   "outputs": [],
   "source": [
    "#as the condition number in between 100 - 1000, moderate multicolinearity existsin model"
   ]
  },
  {
   "cell_type": "markdown",
   "metadata": {
    "id": "quaM7aCXM4Ug"
   },
   "source": [
    "<table align=\"left\">\n",
    "    <tr>\n",
    "        <td width=\"6%\">\n",
    "            <img src=\"question_icon.png\">\n",
    "        </td>\n",
    "        <td>\n",
    "            <div align=\"left\", style=\"font-size:120%\">\n",
    "                <font color=\"#21618C\">\n",
    "                    <b>3. Apply the ridge regression with 'alpha = 1.5' and compare the RMSE on the test dataset with the RMSE obtained from linear regression using OLS\n",
    "                    </b>\n",
    "                </font>\n",
    "            </div>\n",
    "        </td>\n",
    "    </tr>\n",
    "</table>"
   ]
  },
  {
   "cell_type": "code",
   "execution_count": 21,
   "metadata": {
    "id": "pZm1q42VM4Uh"
   },
   "outputs": [],
   "source": [
    "X = pd.DataFrame(ss.fit_transform(df.drop(['Species','Weight'],axis=1)))\n",
    "y = pd.DataFrame(ss.fit_transform(df[['Weight']]))\n",
    "X = pd.concat([X,encode],axis=1)\n",
    "X_train,X_test,Y_train,Y_test = train_test_split(x,y,test_size=0.2,random_state=10)"
   ]
  },
  {
   "cell_type": "code",
   "execution_count": 22,
   "metadata": {},
   "outputs": [],
   "source": [
    "lr = LinearRegression()\n",
    "model = lr.fit(X_train,Y_train)"
   ]
  },
  {
   "cell_type": "code",
   "execution_count": 23,
   "metadata": {},
   "outputs": [],
   "source": [
    "ypred_test_lr = model.predict(X_test)"
   ]
  },
  {
   "cell_type": "code",
   "execution_count": 24,
   "metadata": {},
   "outputs": [
    {
     "name": "stdout",
     "output_type": "stream",
     "text": [
      "The RMSE of Linear Regrission on test data is  0.22355057201218592\n"
     ]
    }
   ],
   "source": [
    "test_rmse_lr = mean_squared_error(ypred_test_lr,Y_test)\n",
    "print('The RMSE of Linear Regrission on test data is ',np.sqrt(test_rmse_lr))"
   ]
  },
  {
   "cell_type": "code",
   "execution_count": 25,
   "metadata": {},
   "outputs": [
    {
     "name": "stdout",
     "output_type": "stream",
     "text": [
      "The RMSE of Riidge Regrission on test data is  0.21576809390002996\n"
     ]
    }
   ],
   "source": [
    "ridge = Ridge(alpha=1.5)\n",
    "model_ridge = ridge.fit(X_train,Y_train)\n",
    "ypred_test_ridge = model_ridge.predict(X_test)\n",
    "rmse_ridge_test = mean_squared_error(ypred_test_ridge,Y_test)\n",
    "print('The RMSE of Riidge Regrission on test data is ',np.sqrt(rmse_ridge_test))"
   ]
  },
  {
   "cell_type": "code",
   "execution_count": 26,
   "metadata": {},
   "outputs": [
    {
     "name": "stdout",
     "output_type": "stream",
     "text": [
      "The difference RMSE between models is  0.0077824781121559605\n"
     ]
    }
   ],
   "source": [
    "print('The difference RMSE between models is ',np.sqrt(test_rmse_lr)-np.sqrt(rmse_ridge_test))"
   ]
  },
  {
   "cell_type": "code",
   "execution_count": 27,
   "metadata": {},
   "outputs": [],
   "source": [
    "# # The RMSE obtained in reg model is less when compared to OLS model"
   ]
  },
  {
   "cell_type": "markdown",
   "metadata": {
    "id": "aYxD05AdM4Ui"
   },
   "source": [
    "<table align=\"left\">\n",
    "    <tr>\n",
    "        <td width=\"6%\">\n",
    "            <img src=\"question_icon.png\">\n",
    "        </td>\n",
    "        <td>\n",
    "            <div align=\"left\", style=\"font-size:120%\">\n",
    "                <font color=\"#21618C\">\n",
    "                    <b>4. Build a full model using SGD. Plot a multiple barchart to compare the beta coefficients for each variable obtained by the SGD model and the full model build using OLS \n",
    "                    </b>\n",
    "                </font>\n",
    "            </div>\n",
    "        </td>\n",
    "    </tr>\n",
    "</table>"
   ]
  },
  {
   "cell_type": "code",
   "execution_count": 28,
   "metadata": {
    "id": "8txfscjUM4Uj"
   },
   "outputs": [
    {
     "data": {
      "text/plain": [
       "array([[-2.34761475,  2.12445728,  1.47408608,  0.14933787, -0.09219748,\n",
       "         0.6299368 ,  0.65928123, -0.36752955,  0.42034048,  1.47396791,\n",
       "         0.48527451]])"
      ]
     },
     "execution_count": 28,
     "metadata": {},
     "output_type": "execute_result"
    }
   ],
   "source": [
    "# type your code here\n",
    "X = pd.DataFrame(ss.fit_transform(df.drop(['Species','Weight'],axis=1)))\n",
    "y = pd.DataFrame(ss.fit_transform(df[['Weight']]))\n",
    "X = pd.concat([X,encode],axis=1)\n",
    "X_train,X_test,Y_train,Y_test = train_test_split(x,y,test_size=0.2,random_state=10)\n",
    "\n",
    "lr = LinearRegression()\n",
    "model = lr.fit(X_train,Y_train)\n",
    "model.coef_"
   ]
  },
  {
   "cell_type": "code",
   "execution_count": 29,
   "metadata": {},
   "outputs": [
    {
     "data": {
      "text/plain": [
       "array([ 0.23009765,  0.22843706,  0.21672077,  0.13741639,  0.20686547,\n",
       "       -0.01068983,  0.01022117, -0.00976805, -0.06134839,  0.08943288,\n",
       "        0.00688484])"
      ]
     },
     "execution_count": 29,
     "metadata": {},
     "output_type": "execute_result"
    }
   ],
   "source": [
    "SGD = SGDRegressor()\n",
    "model_SGD = SGD.fit(X_train,Y_train)\n",
    "model_SGD.coef_"
   ]
  },
  {
   "cell_type": "code",
   "execution_count": 30,
   "metadata": {},
   "outputs": [],
   "source": [
    "def plot_coefficients(model, algorithm_name):\n",
    "    \n",
    "    df_coeff = pd.DataFrame({'Variable': X.columns, 'Coefficient': model.coef_.flatten()})\n",
    "\n",
    "    \n",
    "    #sorted_coeff = df_coeff.sort_values('Coefficient', ascending = False)\n",
    "\n",
    "    \n",
    "    sns.barplot(x = \"Coefficient\", y = \"Variable\", data = df_coeff)\n",
    "    \n",
    "    plt.xlabel(\"Coefficients from {}\".format(algorithm_name), fontsize = 15)"
   ]
  },
  {
   "cell_type": "code",
   "execution_count": 31,
   "metadata": {},
   "outputs": [
    {
     "data": {
      "image/png": "[encoded data removed]",
      "text/plain": [
       "<Figure size 432x288 with 2 Axes>"
      ]
     },
     "metadata": {
      "needs_background": "light"
     },
     "output_type": "display_data"
    }
   ],
   "source": [
    "plt.subplot(1,2,1)\n",
    "plot_coefficients(model, 'Linear Regression (OLS)')\n",
    "\n",
    "plt.subplot(1,2,2)\n",
    "plot_coefficients(model_SGD, 'Linear Regression (SGD)')\n",
    "\n",
    "plt.tight_layout()\n",
    "\n",
    "plt.show()"
   ]
  },
  {
   "cell_type": "code",
   "execution_count": null,
   "metadata": {},
   "outputs": [],
   "source": []
  },
  {
   "cell_type": "markdown",
   "metadata": {
    "id": "IvIHrw8gM4Ul"
   },
   "source": [
    "<table align=\"left\">\n",
    "    <tr>\n",
    "        <td width=\"6%\">\n",
    "            <img src=\"question_icon.png\">\n",
    "        </td>\n",
    "        <td>\n",
    "            <div align=\"left\", style=\"font-size:120%\">\n",
    "                <font color=\"#21618C\">\n",
    "                    <b>5. Identify the least significant variables in the data by considering 'alpha = 0.1' \n",
    "                    </b>\n",
    "                </font>\n",
    "            </div>\n",
    "        </td>\n",
    "    </tr>\n",
    "</table>"
   ]
  },
  {
   "cell_type": "code",
   "execution_count": 32,
   "metadata": {
    "id": "oSwnAgQUM4Um"
   },
   "outputs": [],
   "source": [
    "# type your code here\n",
    "X = pd.DataFrame(ss.fit_transform(df.drop(['Species','Weight'],axis=1)))\n",
    "y = pd.DataFrame(ss.fit_transform(df[['Weight']]))\n",
    "X = pd.concat([X,encode],axis=1)\n",
    "X_train,X_test,Y_train,Y_test = train_test_split(X,y,test_size=0.2,random_state=10)"
   ]
  },
  {
   "cell_type": "code",
   "execution_count": 33,
   "metadata": {},
   "outputs": [
    {
     "data": {
      "text/plain": [
       "array([ 0.        ,  0.14414781,  0.46788836,  0.        ,  0.26907029,\n",
       "       -0.        , -0.        , -0.        , -0.        ,  0.        ,\n",
       "        0.        ])"
      ]
     },
     "execution_count": 33,
     "metadata": {},
     "output_type": "execute_result"
    }
   ],
   "source": [
    "lasso = Lasso(alpha=0.1)\n",
    "model_las = lasso.fit(X_train,Y_train)\n",
    "model_las.coef_"
   ]
  },
  {
   "cell_type": "code",
   "execution_count": 34,
   "metadata": {},
   "outputs": [
    {
     "data": {
      "text/html": [
       "<div>\n",
       "<style scoped>\n",
       "    .dataframe tbody tr th:only-of-type {\n",
       "        vertical-align: middle;\n",
       "    }\n",
       "\n",
       "    .dataframe tbody tr th {\n",
       "        vertical-align: top;\n",
       "    }\n",
       "\n",
       "    .dataframe thead th {\n",
       "        text-align: right;\n",
       "    }\n",
       "</style>\n",
       "<table border=\"1\" class=\"dataframe\">\n",
       "  <thead>\n",
       "    <tr style=\"text-align: right;\">\n",
       "      <th></th>\n",
       "      <th>Variable</th>\n",
       "      <th>Coeff</th>\n",
       "    </tr>\n",
       "  </thead>\n",
       "  <tbody>\n",
       "    <tr>\n",
       "      <th>0</th>\n",
       "      <td>0</td>\n",
       "      <td>0.000000</td>\n",
       "    </tr>\n",
       "    <tr>\n",
       "      <th>1</th>\n",
       "      <td>1</td>\n",
       "      <td>0.144148</td>\n",
       "    </tr>\n",
       "    <tr>\n",
       "      <th>2</th>\n",
       "      <td>2</td>\n",
       "      <td>0.467888</td>\n",
       "    </tr>\n",
       "    <tr>\n",
       "      <th>3</th>\n",
       "      <td>3</td>\n",
       "      <td>0.000000</td>\n",
       "    </tr>\n",
       "    <tr>\n",
       "      <th>4</th>\n",
       "      <td>4</td>\n",
       "      <td>0.269070</td>\n",
       "    </tr>\n",
       "    <tr>\n",
       "      <th>5</th>\n",
       "      <td>Parkki</td>\n",
       "      <td>-0.000000</td>\n",
       "    </tr>\n",
       "    <tr>\n",
       "      <th>6</th>\n",
       "      <td>Perch</td>\n",
       "      <td>-0.000000</td>\n",
       "    </tr>\n",
       "    <tr>\n",
       "      <th>7</th>\n",
       "      <td>Pike</td>\n",
       "      <td>-0.000000</td>\n",
       "    </tr>\n",
       "    <tr>\n",
       "      <th>8</th>\n",
       "      <td>Roach</td>\n",
       "      <td>-0.000000</td>\n",
       "    </tr>\n",
       "    <tr>\n",
       "      <th>9</th>\n",
       "      <td>Smelt</td>\n",
       "      <td>0.000000</td>\n",
       "    </tr>\n",
       "    <tr>\n",
       "      <th>10</th>\n",
       "      <td>Whitefish</td>\n",
       "      <td>0.000000</td>\n",
       "    </tr>\n",
       "  </tbody>\n",
       "</table>\n",
       "</div>"
      ],
      "text/plain": [
       "     Variable     Coeff\n",
       "0           0  0.000000\n",
       "1           1  0.144148\n",
       "2           2  0.467888\n",
       "3           3  0.000000\n",
       "4           4  0.269070\n",
       "5      Parkki -0.000000\n",
       "6       Perch -0.000000\n",
       "7        Pike -0.000000\n",
       "8       Roach -0.000000\n",
       "9       Smelt  0.000000\n",
       "10  Whitefish  0.000000"
      ]
     },
     "execution_count": 34,
     "metadata": {},
     "output_type": "execute_result"
    }
   ],
   "source": [
    "frame=pd.DataFrame({'Variable':X_train.columns,'Coeff':model_las.coef_})\n",
    "frame"
   ]
  },
  {
   "cell_type": "code",
   "execution_count": 35,
   "metadata": {},
   "outputs": [
    {
     "data": {
      "image/png": "[encoded data removed]",
      "text/plain": [
       "<Figure size 432x288 with 1 Axes>"
      ]
     },
     "metadata": {
      "needs_background": "light"
     },
     "output_type": "display_data"
    }
   ],
   "source": [
    "sns.barplot(y=model_las.coef_,x=X.columns)\n",
    "plt.show()"
   ]
  },
  {
   "cell_type": "code",
   "execution_count": null,
   "metadata": {},
   "outputs": [],
   "source": []
  },
  {
   "cell_type": "markdown",
   "metadata": {
    "id": "UKDnoGQRM4Un"
   },
   "source": [
    "<table align=\"left\">\n",
    "    <tr>\n",
    "        <td width=\"6%\">\n",
    "            <img src=\"question_icon.png\">\n",
    "        </td>\n",
    "        <td>\n",
    "            <div align=\"left\", style=\"font-size:120%\">\n",
    "                <font color=\"#21618C\">\n",
    "                    <b>6. What is the impact of diagonal width on the weight of a fish?\n",
    "                    </b>\n",
    "                </font>\n",
    "            </div>\n",
    "        </td>\n",
    "    </tr>\n",
    "</table>"
   ]
  },
  {
   "cell_type": "code",
   "execution_count": 36,
   "metadata": {
    "id": "vPKxEmG9M4Un"
   },
   "outputs": [
    {
     "data": {
      "text/html": [
       "<div>\n",
       "<style scoped>\n",
       "    .dataframe tbody tr th:only-of-type {\n",
       "        vertical-align: middle;\n",
       "    }\n",
       "\n",
       "    .dataframe tbody tr th {\n",
       "        vertical-align: top;\n",
       "    }\n",
       "\n",
       "    .dataframe thead th {\n",
       "        text-align: right;\n",
       "    }\n",
       "</style>\n",
       "<table border=\"1\" class=\"dataframe\">\n",
       "  <thead>\n",
       "    <tr style=\"text-align: right;\">\n",
       "      <th></th>\n",
       "      <th>Species</th>\n",
       "      <th>Weight</th>\n",
       "      <th>V_length</th>\n",
       "      <th>D_length</th>\n",
       "      <th>C_length</th>\n",
       "      <th>Height</th>\n",
       "      <th>Width</th>\n",
       "    </tr>\n",
       "  </thead>\n",
       "  <tbody>\n",
       "    <tr>\n",
       "      <th>0</th>\n",
       "      <td>Bream</td>\n",
       "      <td>242.000000</td>\n",
       "      <td>23.200000</td>\n",
       "      <td>25.400000</td>\n",
       "      <td>30.000000</td>\n",
       "      <td>11.520000</td>\n",
       "      <td>4.020000</td>\n",
       "    </tr>\n",
       "    <tr>\n",
       "      <th>1</th>\n",
       "      <td>Bream</td>\n",
       "      <td>290.000000</td>\n",
       "      <td>24.000000</td>\n",
       "      <td>26.300000</td>\n",
       "      <td>31.200000</td>\n",
       "      <td>12.480000</td>\n",
       "      <td>4.305600</td>\n",
       "    </tr>\n",
       "    <tr>\n",
       "      <th>2</th>\n",
       "      <td>Bream</td>\n",
       "      <td>340.000000</td>\n",
       "      <td>23.900000</td>\n",
       "      <td>26.500000</td>\n",
       "      <td>31.100000</td>\n",
       "      <td>12.377800</td>\n",
       "      <td>4.696100</td>\n",
       "    </tr>\n",
       "    <tr>\n",
       "      <th>3</th>\n",
       "      <td>Bream</td>\n",
       "      <td>363.000000</td>\n",
       "      <td>26.300000</td>\n",
       "      <td>29.000000</td>\n",
       "      <td>33.500000</td>\n",
       "      <td>12.730000</td>\n",
       "      <td>4.455500</td>\n",
       "    </tr>\n",
       "    <tr>\n",
       "      <th>4</th>\n",
       "      <td>Bream</td>\n",
       "      <td>430.000000</td>\n",
       "      <td>26.500000</td>\n",
       "      <td>29.000000</td>\n",
       "      <td>34.000000</td>\n",
       "      <td>12.444000</td>\n",
       "      <td>5.134000</td>\n",
       "    </tr>\n",
       "  </tbody>\n",
       "</table>\n",
       "</div>"
      ],
      "text/plain": [
       "  Species     Weight  V_length  D_length  C_length    Height    Width\n",
       "0   Bream 242.000000 23.200000 25.400000 30.000000 11.520000 4.020000\n",
       "1   Bream 290.000000 24.000000 26.300000 31.200000 12.480000 4.305600\n",
       "2   Bream 340.000000 23.900000 26.500000 31.100000 12.377800 4.696100\n",
       "3   Bream 363.000000 26.300000 29.000000 33.500000 12.730000 4.455500\n",
       "4   Bream 430.000000 26.500000 29.000000 34.000000 12.444000 5.134000"
      ]
     },
     "execution_count": 36,
     "metadata": {},
     "output_type": "execute_result"
    }
   ],
   "source": [
    "# type your code here\n",
    "df.head()"
   ]
  },
  {
   "cell_type": "code",
   "execution_count": 37,
   "metadata": {},
   "outputs": [
    {
     "data": {
      "text/html": [
       "<div>\n",
       "<style scoped>\n",
       "    .dataframe tbody tr th:only-of-type {\n",
       "        vertical-align: middle;\n",
       "    }\n",
       "\n",
       "    .dataframe tbody tr th {\n",
       "        vertical-align: top;\n",
       "    }\n",
       "\n",
       "    .dataframe thead th {\n",
       "        text-align: right;\n",
       "    }\n",
       "</style>\n",
       "<table border=\"1\" class=\"dataframe\">\n",
       "  <thead>\n",
       "    <tr style=\"text-align: right;\">\n",
       "      <th></th>\n",
       "      <th>Width</th>\n",
       "      <th>Weight</th>\n",
       "    </tr>\n",
       "  </thead>\n",
       "  <tbody>\n",
       "    <tr>\n",
       "      <th>Width</th>\n",
       "      <td>1.000000</td>\n",
       "      <td>0.886960</td>\n",
       "    </tr>\n",
       "    <tr>\n",
       "      <th>Weight</th>\n",
       "      <td>0.886960</td>\n",
       "      <td>1.000000</td>\n",
       "    </tr>\n",
       "  </tbody>\n",
       "</table>\n",
       "</div>"
      ],
      "text/plain": [
       "          Width   Weight\n",
       "Width  1.000000 0.886960\n",
       "Weight 0.886960 1.000000"
      ]
     },
     "execution_count": 37,
     "metadata": {},
     "output_type": "execute_result"
    }
   ],
   "source": [
    "df[['Width','Weight']].corr()"
   ]
  },
  {
   "cell_type": "code",
   "execution_count": 38,
   "metadata": {},
   "outputs": [
    {
     "name": "stdout",
     "output_type": "stream",
     "text": [
      "                            OLS Regression Results                            \n",
      "==============================================================================\n",
      "Dep. Variable:                      y   R-squared:                       0.787\n",
      "Model:                            OLS   Adj. R-squared:                  0.785\n",
      "Method:                 Least Squares   F-statistic:                     579.0\n",
      "Date:                Wed, 14 Sep 2022   Prob (F-statistic):           1.52e-54\n",
      "Time:                        16:32:03   Log-Likelihood:                -102.78\n",
      "No. Observations:                 159   AIC:                             209.6\n",
      "Df Residuals:                     157   BIC:                             215.7\n",
      "Df Model:                           1                                         \n",
      "Covariance Type:            nonrobust                                         \n",
      "==============================================================================\n",
      "                 coef    std err          t      P>|t|      [0.025      0.975]\n",
      "------------------------------------------------------------------------------\n",
      "const       -8.76e-17      0.037  -2.38e-15      1.000      -0.073       0.073\n",
      "x1             0.8870      0.037     24.063      0.000       0.814       0.960\n",
      "==============================================================================\n",
      "Omnibus:                      100.078   Durbin-Watson:                   0.341\n",
      "Prob(Omnibus):                  0.000   Jarque-Bera (JB):              635.292\n",
      "Skew:                           2.298   Prob(JB):                    1.12e-138\n",
      "Kurtosis:                      11.647   Cond. No.                         1.00\n",
      "==============================================================================\n",
      "\n",
      "Notes:\n",
      "[1] Standard Errors assume that the covariance matrix of the errors is correctly specified.\n"
     ]
    }
   ],
   "source": [
    "X = ss.fit_transform(df[['Width']])\n",
    "y = ss.fit_transform(df[['Weight']])\n",
    "X = sm.add_constant(X)\n",
    "model = sm.OLS(y,X).fit().summary()\n",
    "print(model)"
   ]
  },
  {
   "cell_type": "code",
   "execution_count": 39,
   "metadata": {},
   "outputs": [],
   "source": [
    "#based on pvalue we can conclude that it is significant"
   ]
  },
  {
   "cell_type": "markdown",
   "metadata": {
    "id": "qVu2nusPM4Uo"
   },
   "source": [
    "<table align=\"left\">\n",
    "    <tr>\n",
    "        <td width=\"6%\">\n",
    "            <img src=\"question_icon.png\">\n",
    "        </td>\n",
    "        <td>\n",
    "            <div align=\"left\", style=\"font-size:120%\">\n",
    "                <font color=\"#21618C\">\n",
    "                    <b>7. Which value of alpha from the list of values returns lowest RMSE on the test set in ridge regression\n",
    "                    </b>\n",
    "                </font>\n",
    "            </div>\n",
    "        </td>\n",
    "    </tr>\n",
    "</table>"
   ]
  },
  {
   "cell_type": "markdown",
   "metadata": {
    "id": "sQqXNtn6M4Up"
   },
   "source": [
    "Consider the list of values for alpha:\n",
    "\n",
    "    list_of_alpha = [0.00001, 0.001, 0.1, 10, 100]\n",
    "    \n",
    "Consider 5-fold cross validation."
   ]
  },
  {
   "cell_type": "code",
   "execution_count": 40,
   "metadata": {
    "id": "1pfURhhcM4Up"
   },
   "outputs": [],
   "source": [
    "# type your code here\n",
    "param = [{'alpha' :[0.00001, 0.001, 0.1, 10, 100]}]"
   ]
  },
  {
   "cell_type": "code",
   "execution_count": 41,
   "metadata": {},
   "outputs": [],
   "source": [
    "X = pd.DataFrame(ss.fit_transform(df.drop(['Species','Weight'],axis=1)))\n",
    "y = pd.DataFrame(ss.fit_transform(df[['Weight']]))\n",
    "X = pd.concat([X,encode],axis=1)\n",
    "X_train,X_test,Y_train,Y_test = train_test_split(X,y,test_size=0.2,random_state=10)\n",
    "\n",
    "ridge = Ridge()"
   ]
  },
  {
   "cell_type": "code",
   "execution_count": 42,
   "metadata": {},
   "outputs": [
    {
     "name": "stdout",
     "output_type": "stream",
     "text": [
      "Best parameters for Ridge Regression:  {'alpha': 0.1}\n"
     ]
    }
   ],
   "source": [
    "grid_ridge = GridSearchCV(estimator=ridge,\n",
    "            param_grid=param,\n",
    "            cv=5)\n",
    "grid_ridge.fit(X_train,Y_train)\n",
    "print('Best parameters for Ridge Regression: ', grid_ridge.best_params_)"
   ]
  },
  {
   "cell_type": "code",
   "execution_count": 43,
   "metadata": {},
   "outputs": [
    {
     "name": "stdout",
     "output_type": "stream",
     "text": [
      "The RMSE of Ridge Regression is  0.2156938068118691\n"
     ]
    }
   ],
   "source": [
    "ridge = Ridge(alpha=0.1)\n",
    "prof = ridge.fit(X_train,Y_train)\n",
    "ypred = prof.predict(X_test)\n",
    "mse_prof = mean_squared_error(ypred,Y_test)\n",
    "print('The RMSE of Ridge Regression is ',np.sqrt(mse_prof))"
   ]
  },
  {
   "cell_type": "code",
   "execution_count": null,
   "metadata": {},
   "outputs": [],
   "source": []
  },
  {
   "cell_type": "markdown",
   "metadata": {
    "id": "7t2kXmlbM4Uq"
   },
   "source": [
    "<table align=\"left\">\n",
    "    <tr>\n",
    "        <td width=\"6%\">\n",
    "            <img src=\"question_icon.png\">\n",
    "        </td>\n",
    "        <td>\n",
    "            <div align=\"left\", style=\"font-size:120%\">\n",
    "                <font color=\"#21618C\">\n",
    "                    <b>8. Select the best value for the elastic net mixing parameter from the list of values\n",
    "                    </b>\n",
    "                </font>\n",
    "            </div>\n",
    "        </td>\n",
    "    </tr>\n",
    "</table>"
   ]
  },
  {
   "cell_type": "markdown",
   "metadata": {
    "id": "ROIgV0o7M4Ur"
   },
   "source": [
    "Consider the below list of values:\n",
    "\n",
    "    list_of_parameter = [0.0001, 0.001, 0.01, 0.1, 1]\n",
    "\n",
    "Consider 5-fold cross validation."
   ]
  },
  {
   "cell_type": "code",
   "execution_count": 44,
   "metadata": {
    "id": "AJsdLUluM4Us"
   },
   "outputs": [],
   "source": [
    "# type your code here\n",
    "param = [{'alpha' :[0.0001, 0.001, 0.01, 0.1, 1]}]"
   ]
  },
  {
   "cell_type": "code",
   "execution_count": 45,
   "metadata": {},
   "outputs": [],
   "source": [
    "X = pd.DataFrame(ss.fit_transform(df.drop(['Species','Weight'],axis=1)))\n",
    "y = pd.DataFrame(ss.fit_transform(df[['Weight']]))\n",
    "X = pd.concat([X,encode],axis=1)\n",
    "X_train,X_test,Y_train,Y_test = train_test_split(X,y,test_size=0.2,random_state=10)\n",
    "\n",
    "elastic = ElasticNet()"
   ]
  },
  {
   "cell_type": "code",
   "execution_count": 46,
   "metadata": {},
   "outputs": [
    {
     "name": "stdout",
     "output_type": "stream",
     "text": [
      "Best parameters for Ridge Regression:  {'alpha': 0.001}\n"
     ]
    }
   ],
   "source": [
    "grid_elastic = GridSearchCV(estimator=elastic,\n",
    "            param_grid=param,\n",
    "            cv=5)\n",
    "grid_elastic.fit(X_train,Y_train)\n",
    "print('Best parameters for Ridge Regression: ', grid_elastic.best_params_)"
   ]
  },
  {
   "cell_type": "code",
   "execution_count": 47,
   "metadata": {},
   "outputs": [
    {
     "name": "stdout",
     "output_type": "stream",
     "text": [
      "The RMSE of Ridge Regression is  0.2115285760586591\n"
     ]
    }
   ],
   "source": [
    "elastic = ElasticNet(alpha=0.001)\n",
    "professor = elastic.fit(X_train,Y_train)\n",
    "ypred = professor.predict(X_test)\n",
    "mse_professor = mean_squared_error(ypred,Y_test)\n",
    "print('The RMSE of Ridge Regression is ',np.sqrt(mse_professor))"
   ]
  },
  {
   "cell_type": "markdown",
   "metadata": {
    "id": "RuMRuzlPM4Uu"
   },
   "source": [
    "<table align=\"left\">\n",
    "    <tr>\n",
    "        <td width=\"6%\">\n",
    "            <img src=\"question_icon.png\">\n",
    "        </td>\n",
    "        <td>\n",
    "            <div align=\"left\", style=\"font-size:120%\">\n",
    "                <font color=\"#21618C\">\n",
    "                    <b>9. Identify the best value of alpha from the list of values for lasso regression\n",
    "                    </b>\n",
    "                </font>\n",
    "            </div>\n",
    "        </td>\n",
    "    </tr>\n",
    "</table>"
   ]
  },
  {
   "cell_type": "markdown",
   "metadata": {
    "id": "sFkFvTB8M4Uv"
   },
   "source": [
    "Consider the list of values for alpha:\n",
    "\n",
    "    list_of_alpha = [0.0001, 0.001, 0.1, 1, 2, 3]\n",
    "    \n",
    "Consider 5-fold cross validation."
   ]
  },
  {
   "cell_type": "code",
   "execution_count": 48,
   "metadata": {
    "id": "B89ACXxdM4Uv"
   },
   "outputs": [],
   "source": [
    "# type your code here\n",
    "param = [{'alpha' :[0.0001, 0.001, 0.1, 1, 2, 3]}]"
   ]
  },
  {
   "cell_type": "code",
   "execution_count": 49,
   "metadata": {},
   "outputs": [],
   "source": [
    "X = pd.DataFrame(ss.fit_transform(df.drop(['Species','Weight'],axis=1)))\n",
    "y = pd.DataFrame(ss.fit_transform(df[['Weight']]))\n",
    "X = pd.concat([X,encode],axis=1)\n",
    "X_train,X_test,Y_train,Y_test = train_test_split(X,y,test_size=0.2,random_state=10)\n",
    "\n",
    "lasso = Lasso()"
   ]
  },
  {
   "cell_type": "code",
   "execution_count": 50,
   "metadata": {},
   "outputs": [
    {
     "name": "stdout",
     "output_type": "stream",
     "text": [
      "Best parameters for Ridge Regression:  {'alpha': 0.001}\n"
     ]
    }
   ],
   "source": [
    "grid_lasso = GridSearchCV(estimator=lasso,\n",
    "            param_grid=param,\n",
    "            cv=5)\n",
    "grid_lasso.fit(X_train,Y_train)\n",
    "print('Best parameters for Ridge Regression: ', grid_lasso.best_params_)"
   ]
  },
  {
   "cell_type": "code",
   "execution_count": 51,
   "metadata": {},
   "outputs": [
    {
     "name": "stdout",
     "output_type": "stream",
     "text": [
      "The RMSE of Ridge Regression is  0.2079267469607952\n"
     ]
    }
   ],
   "source": [
    "lasso = Lasso(alpha=0.001)\n",
    "model_lasso = lasso.fit(X_train,Y_train)\n",
    "ypred = model_lasso.predict(X_test)\n",
    "mse_lasso = mean_squared_error(ypred,Y_test)\n",
    "print('The RMSE of Ridge Regression is ',np.sqrt(mse_lasso))"
   ]
  },
  {
   "cell_type": "markdown",
   "metadata": {
    "id": "3cElEQAQM4Uw"
   },
   "source": [
    "<table align=\"left\">\n",
    "    <tr>\n",
    "        <td width=\"6%\">\n",
    "            <img src=\"question_icon.png\">\n",
    "        </td>\n",
    "        <td>\n",
    "            <div align=\"left\", style=\"font-size:120%\">\n",
    "                <font color=\"#21618C\">\n",
    "                    <b>10. Build the elastic net regression model with 'alpha = 0.1' and best l1_ratio obtained by the GridSearchCV method. Also, compute the RMSE for test set\n",
    "                    </b>\n",
    "                </font>\n",
    "            </div>\n",
    "        </td>\n",
    "    </tr>\n",
    "</table>"
   ]
  },
  {
   "cell_type": "code",
   "execution_count": 52,
   "metadata": {
    "id": "bSYv2RkYM4Uw"
   },
   "outputs": [],
   "source": [
    "# type your code here\n",
    "tuned_paramaters = [{'alpha':[0.1],\n",
    "                      'l1_ratio':[0.0001, 0.0002, 0.001, 0.01, 0.1, 0.2]}]"
   ]
  },
  {
   "cell_type": "code",
   "execution_count": 53,
   "metadata": {},
   "outputs": [],
   "source": [
    "X = pd.DataFrame(ss.fit_transform(df.drop(['Species','Weight'],axis=1)))\n",
    "y = pd.DataFrame(ss.fit_transform(df[['Weight']]))\n",
    "X = pd.concat([X,encode],axis=1)\n",
    "X_train,X_test,Y_train,Y_test = train_test_split(X,y,test_size=0.2,random_state=10)\n",
    "elastic = ElasticNet()"
   ]
  },
  {
   "cell_type": "code",
   "execution_count": 54,
   "metadata": {},
   "outputs": [
    {
     "name": "stdout",
     "output_type": "stream",
     "text": [
      "Best parameters for Elastic Regression:  {'alpha': 0.1, 'l1_ratio': 0.0001}\n"
     ]
    }
   ],
   "source": [
    "grid_elastic = GridSearchCV(estimator=elastic,\n",
    "            param_grid=tuned_paramaters,\n",
    "            cv=5)\n",
    "grid_elastic.fit(X_train,Y_train)\n",
    "print('Best parameters for Elastic Regression: ', grid_elastic.best_params_)"
   ]
  },
  {
   "cell_type": "code",
   "execution_count": 55,
   "metadata": {},
   "outputs": [
    {
     "name": "stdout",
     "output_type": "stream",
     "text": [
      "The RMSE of Elastic Regression is  0.25425010213007165\n"
     ]
    }
   ],
   "source": [
    "elastic = ElasticNet(alpha=0.1,l1_ratio=0.0001)\n",
    "professor = elastic.fit(X_train,Y_train)\n",
    "ypred = professor.predict(X_test)\n",
    "mse_professor = mean_squared_error(ypred,Y_test)\n",
    "print('The RMSE of Elastic Regression is ',np.sqrt(mse_professor))"
   ]
  },
  {
   "cell_type": "code",
   "execution_count": null,
   "metadata": {},
   "outputs": [],
   "source": []
  }
 ],
 "metadata": {
  "colab": {
   "collapsed_sections": [],
   "name": "SLR - Take home (Day 3) - Questions [v1.0 - 270420].ipynb",
   "provenance": []
  },
  "kernelspec": {
   "display_name": "Python 3 (ipykernel)",
   "language": "python",
   "name": "python3"
  },
  "language_info": {
   "codemirror_mode": {
    "name": "ipython",
    "version": 3
   },
   "file_extension": ".py",
   "mimetype": "text/x-python",
   "name": "python",
   "nbconvert_exporter": "python",
   "pygments_lexer": "ipython3",
   "version": "3.9.7"
  }
 },
 "nbformat": 4,
 "nbformat_minor": 1
}
