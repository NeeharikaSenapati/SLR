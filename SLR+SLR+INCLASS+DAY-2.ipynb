{
 "cells": [
  {
   "cell_type": "markdown",
   "metadata": {},
   "source": [
    "<table align=\"center\" width=100%>\n",
    "    <tr>\n",
    "        <td width=\"15%\">\n",
    "            <img src=\"in_class.png\">\n",
    "        </td>\n",
    "        <td>\n",
    "            <div align=\"center\">\n",
    "                <font color=\"#21618C\" size=8px>\n",
    "                    <b> Inclass - Lab <br>(Day 2)\n",
    "                    </b>\n",
    "                </font>\n",
    "            </div>\n",
    "        </td>\n",
    "    </tr>\n",
    "</table>"
   ]
  },
  {
   "cell_type": "markdown",
   "metadata": {},
   "source": [
    "### About the data set (White wine data)\n",
    "\n",
    "The dataset contains information about several factors describing the quality of white wine. <br> Attribute information: \n",
    "\n",
    "**Fixed_Acidity:** The ph value for titrable acid content (0-7)\n",
    "\n",
    "**Volatile_Acidity:** Measure of acidity due to bacteria\n",
    "\n",
    "**Citric_Acid:** Amount of citric acid present in wine\n",
    "\n",
    "**Residual_Sugar:** Amount of grape sugar in gms/litre\n",
    "\n",
    "**Chlorides:** Amount of chlorides present in wine\n",
    "\n",
    "**Free_Sulfur-dioxide:** Amount of SO2 that is not bound to other molecules\n",
    "\n",
    "**Total_Sulfur-dioxide:** Portion of SO2 that is free in the wine plus the portion that is bound to other chemicals in the wine\n",
    "\n",
    "**Density:** Density of wine (gms/cm<sup>3</sup>)\n",
    "\n",
    "**pH:** The pH value of wine (0-14)\n",
    "\n",
    "**Sulphates:** Amount of salts of sulphuric acid \n",
    "\n",
    "**Alcohol:** Alcohol content in percentage\n",
    "\n",
    "**Quality:** Wine quality \n",
    "\n",
    "Data citation: P. Cortez, A. Cerdeira, F. Almeida, T. Matos and J. Reis. Modeling wine preferences by data mining from physicochemical properties. In Decision Support Systems, Elsevier, 47(4):547-553, 2009."
   ]
  },
  {
   "cell_type": "markdown",
   "metadata": {},
   "source": [
    "## Table of Content\n",
    "\n",
    "1. **[Feature Transformation](#trans)**\n",
    "2. **[Feature Selection](#sel)**\n",
    "3. **[Model Validation](#cv)**"
   ]
  },
  {
   "cell_type": "markdown",
   "metadata": {},
   "source": [
    "**Import the required libraries**"
   ]
  },
  {
   "cell_type": "code",
   "execution_count": 1,
   "metadata": {},
   "outputs": [],
   "source": [
    "# import 'Pandas' \n",
    "import pandas as pd \n",
    "\n",
    "# import 'Numpy' \n",
    "import numpy as np\n",
    "\n",
    "# import subpackage of Matplotlib\n",
    "import matplotlib.pyplot as plt\n",
    "\n",
    "# import 'Seaborn' \n",
    "import seaborn as sns\n",
    "\n",
    "# to suppress warnings \n",
    "from warnings import filterwarnings\n",
    "filterwarnings('ignore')\n",
    "\n",
    "# display all columns of the dataframe\n",
    "pd.options.display.max_columns = None\n",
    "\n",
    "# display all rows of the dataframe\n",
    "pd.options.display.max_rows = None\n",
    " \n",
    "# to display the float values upto 6 decimal places     \n",
    "pd.options.display.float_format = '{:.6f}'.format\n",
    "\n",
    "# import train-test split \n",
    "from sklearn.model_selection import train_test_split\n",
    "\n",
    "# import various functions from statsmodels\n",
    "import statsmodels\n",
    "import statsmodels.api as sm\n",
    "import statsmodels.stats.api as sms\n",
    "from statsmodels.graphics.gofplots import qqplot\n",
    "\n",
    "# import 'stats'\n",
    "from scipy import stats\n",
    "\n",
    "# 'metrics' from sklearn is used for evaluating the model performance\n",
    "from sklearn.metrics import mean_squared_error\n",
    "\n",
    "# import functions to perform feature selection\n",
    "from mlxtend.feature_selection import SequentialFeatureSelector as sfs\n",
    "from sklearn.feature_selection import RFE\n",
    "\n",
    "# import function to perform linear regression\n",
    "from sklearn.linear_model import LinearRegression\n",
    "\n",
    "# import functions to perform cross validation\n",
    "from sklearn.model_selection import LeaveOneOut\n",
    "from sklearn.model_selection import cross_val_score\n",
    "from sklearn.model_selection import KFold"
   ]
  },
  {
   "cell_type": "markdown",
   "metadata": {},
   "source": [
    "#### Load the first dataset and check the first two observations"
   ]
  },
  {
   "cell_type": "code",
   "execution_count": 70,
   "metadata": {},
   "outputs": [
    {
     "data": {
      "text/html": [
       "<div>\n",
       "<style scoped>\n",
       "    .dataframe tbody tr th:only-of-type {\n",
       "        vertical-align: middle;\n",
       "    }\n",
       "\n",
       "    .dataframe tbody tr th {\n",
       "        vertical-align: top;\n",
       "    }\n",
       "\n",
       "    .dataframe thead th {\n",
       "        text-align: right;\n",
       "    }\n",
       "</style>\n",
       "<table border=\"1\" class=\"dataframe\">\n",
       "  <thead>\n",
       "    <tr style=\"text-align: right;\">\n",
       "      <th></th>\n",
       "      <th>fixed acidity</th>\n",
       "      <th>volatile acidity</th>\n",
       "      <th>citric acid</th>\n",
       "      <th>residual sugar</th>\n",
       "      <th>chlorides</th>\n",
       "      <th>free sulfur dioxide</th>\n",
       "      <th>total sulfur dioxide</th>\n",
       "      <th>density</th>\n",
       "      <th>pH</th>\n",
       "      <th>sulphates</th>\n",
       "      <th>alcohol</th>\n",
       "      <th>quality</th>\n",
       "    </tr>\n",
       "  </thead>\n",
       "  <tbody>\n",
       "    <tr>\n",
       "      <th>0</th>\n",
       "      <td>7.000000</td>\n",
       "      <td>0.270000</td>\n",
       "      <td>0.360000</td>\n",
       "      <td>20.700000</td>\n",
       "      <td>0.045000</td>\n",
       "      <td>45.000000</td>\n",
       "      <td>170.000000</td>\n",
       "      <td>1.001000</td>\n",
       "      <td>3.000000</td>\n",
       "      <td>0.450000</td>\n",
       "      <td>8.800000</td>\n",
       "      <td>6</td>\n",
       "    </tr>\n",
       "    <tr>\n",
       "      <th>1</th>\n",
       "      <td>6.300000</td>\n",
       "      <td>0.300000</td>\n",
       "      <td>0.340000</td>\n",
       "      <td>1.600000</td>\n",
       "      <td>0.049000</td>\n",
       "      <td>14.000000</td>\n",
       "      <td>132.000000</td>\n",
       "      <td>0.994000</td>\n",
       "      <td>3.300000</td>\n",
       "      <td>0.490000</td>\n",
       "      <td>9.500000</td>\n",
       "      <td>6</td>\n",
       "    </tr>\n",
       "  </tbody>\n",
       "</table>\n",
       "</div>"
      ],
      "text/plain": [
       "   fixed acidity  volatile acidity  citric acid  residual sugar  chlorides  \\\n",
       "0       7.000000          0.270000     0.360000       20.700000   0.045000   \n",
       "1       6.300000          0.300000     0.340000        1.600000   0.049000   \n",
       "\n",
       "   free sulfur dioxide  total sulfur dioxide  density       pH  sulphates  \\\n",
       "0            45.000000            170.000000 1.001000 3.000000   0.450000   \n",
       "1            14.000000            132.000000 0.994000 3.300000   0.490000   \n",
       "\n",
       "   alcohol  quality  \n",
       "0 8.800000        6  \n",
       "1 9.500000        6  "
      ]
     },
     "execution_count": 70,
     "metadata": {},
     "output_type": "execute_result"
    }
   ],
   "source": [
    "wine=pd.read_csv(\"whitewine.csv\",sep=';')\n",
    "wine.head(2)"
   ]
  },
  {
   "cell_type": "code",
   "execution_count": 3,
   "metadata": {},
   "outputs": [
    {
     "data": {
      "text/plain": [
       "fixed acidity           float64\n",
       "volatile acidity        float64\n",
       "citric acid             float64\n",
       "residual sugar          float64\n",
       "chlorides               float64\n",
       "free sulfur dioxide     float64\n",
       "total sulfur dioxide    float64\n",
       "density                 float64\n",
       "pH                      float64\n",
       "sulphates               float64\n",
       "alcohol                 float64\n",
       "quality                   int64\n",
       "dtype: object"
      ]
     },
     "execution_count": 3,
     "metadata": {},
     "output_type": "execute_result"
    }
   ],
   "source": [
    "wine.dtypes"
   ]
  },
  {
   "cell_type": "markdown",
   "metadata": {},
   "source": [
    "### Let's begin with some hands-on practice exercises"
   ]
  },
  {
   "cell_type": "markdown",
   "metadata": {},
   "source": [
    "<a id=\"trans\"> </a>\n",
    "## 1. Feature Transformation"
   ]
  },
  {
   "cell_type": "markdown",
   "metadata": {},
   "source": [
    "## We shall use the wine quality dataset"
   ]
  },
  {
   "cell_type": "markdown",
   "metadata": {
    "collapsed": true
   },
   "source": [
    "<table align=\"left\">\n",
    "    <tr>\n",
    "        <td width=\"6%\">\n",
    "            <img src=\"question_icon.png\">\n",
    "        </td>\n",
    "        <td>\n",
    "            <div align=\"left\", style=\"font-size:120%\">\n",
    "                <font color=\"#21618C\">\n",
    "                    <b>1. Does the variable 'volatile acidity' need transformation ?</b>\n",
    "                </font>\n",
    "            </div>\n",
    "        </td>\n",
    "    </tr>\n",
    "</table>"
   ]
  },
  {
   "cell_type": "code",
   "execution_count": 4,
   "metadata": {},
   "outputs": [
    {
     "name": "stdout",
     "output_type": "stream",
     "text": [
      "skewness of Volatile Acidity is: 1.5769795029952025\n"
     ]
    },
    {
     "data": {
      "image/png": "[encoded data removed]",
      "text/plain": [
       "<Figure size 1296x648 with 1 Axes>"
      ]
     },
     "metadata": {
      "needs_background": "light"
     },
     "output_type": "display_data"
    }
   ],
   "source": [
    "print(\"skewness of Volatile Acidity is:\",wine['volatile acidity'].skew())\n",
    "plt.figure(figsize=(18,9))\n",
    "sns.kdeplot(wine['volatile acidity'])\n",
    "plt.title(\"VOLATILE ACIDITY DISTRIBUTION\")\n",
    "plt.show()"
   ]
  },
  {
   "cell_type": "markdown",
   "metadata": {},
   "source": [
    "#needs a transformation as the variable is very skewed towards the right"
   ]
  },
  {
   "cell_type": "markdown",
   "metadata": {
    "collapsed": true
   },
   "source": [
    "<table align=\"left\">\n",
    "    <tr>\n",
    "        <td width=\"6%\">\n",
    "            <img src=\"question_icon.png\">\n",
    "        </td>\n",
    "        <td>\n",
    "            <div align=\"left\", style=\"font-size:120%\">\n",
    "                <font color=\"#21618C\">\n",
    "                    <b>2. How can we reduce skewness of variable 'Residual_Sugar'?</b>\n",
    "                </font>\n",
    "            </div>\n",
    "        </td>\n",
    "    </tr>\n",
    "</table>"
   ]
  },
  {
   "cell_type": "code",
   "execution_count": 5,
   "metadata": {},
   "outputs": [
    {
     "name": "stdout",
     "output_type": "stream",
     "text": [
      "skewness of Residual Sugar is: 1.0770937564240868\n"
     ]
    },
    {
     "data": {
      "image/png": "[encoded data removed]",
      "text/plain": [
       "<Figure size 1296x648 with 1 Axes>"
      ]
     },
     "metadata": {
      "needs_background": "light"
     },
     "output_type": "display_data"
    }
   ],
   "source": [
    "print(\"skewness of Residual Sugar is:\",wine['residual sugar'].skew())\n",
    "plt.figure(figsize=(18,9))\n",
    "sns.kdeplot(wine['residual sugar'])\n",
    "plt.title(\"RESIDUAL SUGAR DISTRIBUTION\")\n",
    "plt.show()"
   ]
  },
  {
   "cell_type": "code",
   "execution_count": 6,
   "metadata": {},
   "outputs": [],
   "source": [
    "#since it is very right skewed we can use the log transformation"
   ]
  },
  {
   "cell_type": "code",
   "execution_count": 7,
   "metadata": {},
   "outputs": [],
   "source": [
    "wine['sugar_root']=np.log(wine['residual sugar'])"
   ]
  },
  {
   "cell_type": "code",
   "execution_count": 8,
   "metadata": {},
   "outputs": [
    {
     "name": "stdout",
     "output_type": "stream",
     "text": [
      "skewness of transformed sugar is: -0.1611568975182972\n"
     ]
    },
    {
     "data": {
      "image/png": "[encoded data removed]",
      "text/plain": [
       "<Figure size 1296x648 with 1 Axes>"
      ]
     },
     "metadata": {
      "needs_background": "light"
     },
     "output_type": "display_data"
    }
   ],
   "source": [
    "print(\"skewness of transformed sugar is:\",wine['sugar_root'].skew())\n",
    "plt.figure(figsize=(18,9))\n",
    "sns.kdeplot(wine['sugar_root'])\n",
    "plt.title(\"TRANSFORMED SUGAR DISTRIBUTION\")\n",
    "plt.show()"
   ]
  },
  {
   "cell_type": "markdown",
   "metadata": {
    "collapsed": true
   },
   "source": [
    "<table align=\"left\">\n",
    "    <tr>\n",
    "        <td width=\"6%\">\n",
    "            <img src=\"question_icon.png\">\n",
    "        </td>\n",
    "        <td>\n",
    "            <div align=\"left\", style=\"font-size:120%\">\n",
    "                <font color=\"#21618C\">\n",
    "                    <b>3. Are there features in the dataset that add little to no information ?</b>\n",
    "                </font>\n",
    "            </div>\n",
    "        </td>\n",
    "    </tr>\n",
    "</table>"
   ]
  },
  {
   "cell_type": "code",
   "execution_count": 9,
   "metadata": {},
   "outputs": [
    {
     "data": {
      "text/plain": [
       "fixed acidity             0.712114\n",
       "volatile acidity          0.010160\n",
       "citric acid               0.014646\n",
       "residual sugar           25.725770\n",
       "chlorides                 0.000477\n",
       "free sulfur dioxide     289.242720\n",
       "total sulfur dioxide   1806.085491\n",
       "density                   0.000009\n",
       "pH                        0.022801\n",
       "sulphates                 0.013025\n",
       "alcohol                   1.514427\n",
       "quality                   0.784356\n",
       "sugar_root                0.849615\n",
       "dtype: float64"
      ]
     },
     "execution_count": 9,
     "metadata": {},
     "output_type": "execute_result"
    }
   ],
   "source": [
    "wine.var()"
   ]
  },
  {
   "cell_type": "code",
   "execution_count": 10,
   "metadata": {},
   "outputs": [
    {
     "name": "stdout",
     "output_type": "stream",
     "text": [
      "                            OLS Regression Results                            \n",
      "==============================================================================\n",
      "Dep. Variable:                quality   R-squared:                       0.282\n",
      "Model:                            OLS   Adj. R-squared:                  0.280\n",
      "Method:                 Least Squares   F-statistic:                     174.3\n",
      "Date:                Thu, 05 Aug 2021   Prob (F-statistic):               0.00\n",
      "Time:                        12:22:58   Log-Likelihood:                -5543.7\n",
      "No. Observations:                4898   AIC:                         1.111e+04\n",
      "Df Residuals:                    4886   BIC:                         1.119e+04\n",
      "Df Model:                          11                                         \n",
      "Covariance Type:            nonrobust                                         \n",
      "========================================================================================\n",
      "                           coef    std err          t      P>|t|      [0.025      0.975]\n",
      "----------------------------------------------------------------------------------------\n",
      "const                  150.1928     18.804      7.987      0.000     113.328     187.057\n",
      "fixed acidity            0.0655      0.021      3.139      0.002       0.025       0.106\n",
      "volatile acidity        -1.8632      0.114    -16.373      0.000      -2.086      -1.640\n",
      "citric acid              0.0221      0.096      0.231      0.818      -0.166       0.210\n",
      "residual sugar           0.0815      0.008     10.825      0.000       0.067       0.096\n",
      "chlorides               -0.2473      0.547     -0.452      0.651      -1.319       0.824\n",
      "free sulfur dioxide      0.0037      0.001      4.422      0.000       0.002       0.005\n",
      "total sulfur dioxide    -0.0003      0.000     -0.756      0.450      -0.001       0.000\n",
      "density               -150.2842     19.075     -7.879      0.000    -187.679    -112.890\n",
      "pH                       0.6863      0.105      6.513      0.000       0.480       0.893\n",
      "sulphates                0.6315      0.100      6.291      0.000       0.435       0.828\n",
      "alcohol                  0.1935      0.024      7.988      0.000       0.146       0.241\n",
      "==============================================================================\n",
      "Omnibus:                      114.161   Durbin-Watson:                   1.621\n",
      "Prob(Omnibus):                  0.000   Jarque-Bera (JB):              251.637\n",
      "Skew:                           0.073   Prob(JB):                     2.28e-55\n",
      "Kurtosis:                       4.101   Cond. No.                     3.74e+05\n",
      "==============================================================================\n",
      "\n",
      "Notes:\n",
      "[1] Standard Errors assume that the covariance matrix of the errors is correctly specified.\n",
      "[2] The condition number is large, 3.74e+05. This might indicate that there are\n",
      "strong multicollinearity or other numerical problems.\n"
     ]
    }
   ],
   "source": [
    "X=wine.drop(['quality','sugar_root'],axis=1)\n",
    "X=sm.add_constant(X)\n",
    "y=wine['quality']\n",
    "model0=sm.OLS(y,X).fit()\n",
    "print(model0.summary())"
   ]
  },
  {
   "cell_type": "markdown",
   "metadata": {
    "collapsed": true
   },
   "source": [
    "<table align=\"left\">\n",
    "    <tr>\n",
    "        <td width=\"6%\">\n",
    "            <img src=\"question_icon.png\">\n",
    "        </td>\n",
    "        <td>\n",
    "            <div align=\"left\", style=\"font-size:120%\">\n",
    "                <font color=\"#21618C\">\n",
    "                    <b>4. Which transformation method is best suited to treat the skewness in variable 'alcohol'?</b>\n",
    "                </font>\n",
    "            </div>\n",
    "        </td>\n",
    "    </tr>\n",
    "</table>"
   ]
  },
  {
   "cell_type": "code",
   "execution_count": 11,
   "metadata": {},
   "outputs": [
    {
     "name": "stdout",
     "output_type": "stream",
     "text": [
      "skewness of alcohol is: 0.4873419932161276\n"
     ]
    },
    {
     "data": {
      "image/png": "[encoded data removed]",
      "text/plain": [
       "<Figure size 1296x648 with 1 Axes>"
      ]
     },
     "metadata": {
      "needs_background": "light"
     },
     "output_type": "display_data"
    }
   ],
   "source": [
    "print(\"skewness of alcohol is:\",wine['alcohol'].skew())\n",
    "plt.figure(figsize=(18,9))\n",
    "sns.kdeplot(wine['alcohol'])\n",
    "plt.title(\"ALCOHOL DISTRIBUTION\")\n",
    "plt.show()"
   ]
  },
  {
   "cell_type": "code",
   "execution_count": 12,
   "metadata": {},
   "outputs": [],
   "source": [
    "#slightly right skewed we can use "
   ]
  },
  {
   "cell_type": "markdown",
   "metadata": {
    "collapsed": true
   },
   "source": [
    "<table align=\"left\">\n",
    "    <tr>\n",
    "        <td width=\"6%\">\n",
    "            <img src=\"question_icon.png\">\n",
    "        </td>\n",
    "        <td>\n",
    "            <div align=\"left\", style=\"font-size:120%\">\n",
    "                <font color=\"#21618C\">\n",
    "                    <b>5. Does scaling the feature 'pH' lead to better prediction when considering a full model ?</b>\n",
    "                </font>\n",
    "            </div>\n",
    "        </td>\n",
    "    </tr>\n",
    "</table>"
   ]
  },
  {
   "cell_type": "code",
   "execution_count": 13,
   "metadata": {},
   "outputs": [
    {
     "name": "stdout",
     "output_type": "stream",
     "text": [
      "                            OLS Regression Results                            \n",
      "==============================================================================\n",
      "Dep. Variable:                quality   R-squared:                       0.282\n",
      "Model:                            OLS   Adj. R-squared:                  0.280\n",
      "Method:                 Least Squares   F-statistic:                     174.3\n",
      "Date:                Thu, 05 Aug 2021   Prob (F-statistic):               0.00\n",
      "Time:                        12:22:58   Log-Likelihood:                -5543.7\n",
      "No. Observations:                4898   AIC:                         1.111e+04\n",
      "Df Residuals:                    4886   BIC:                         1.119e+04\n",
      "Df Model:                          11                                         \n",
      "Covariance Type:            nonrobust                                         \n",
      "========================================================================================\n",
      "                           coef    std err          t      P>|t|      [0.025      0.975]\n",
      "----------------------------------------------------------------------------------------\n",
      "const                  150.1928     18.804      7.987      0.000     113.328     187.057\n",
      "fixed acidity            0.0655      0.021      3.139      0.002       0.025       0.106\n",
      "volatile acidity        -1.8632      0.114    -16.373      0.000      -2.086      -1.640\n",
      "citric acid              0.0221      0.096      0.231      0.818      -0.166       0.210\n",
      "residual sugar           0.0815      0.008     10.825      0.000       0.067       0.096\n",
      "chlorides               -0.2473      0.547     -0.452      0.651      -1.319       0.824\n",
      "free sulfur dioxide      0.0037      0.001      4.422      0.000       0.002       0.005\n",
      "total sulfur dioxide    -0.0003      0.000     -0.756      0.450      -0.001       0.000\n",
      "density               -150.2842     19.075     -7.879      0.000    -187.679    -112.890\n",
      "pH                       0.6863      0.105      6.513      0.000       0.480       0.893\n",
      "sulphates                0.6315      0.100      6.291      0.000       0.435       0.828\n",
      "alcohol                  0.1935      0.024      7.988      0.000       0.146       0.241\n",
      "==============================================================================\n",
      "Omnibus:                      114.161   Durbin-Watson:                   1.621\n",
      "Prob(Omnibus):                  0.000   Jarque-Bera (JB):              251.637\n",
      "Skew:                           0.073   Prob(JB):                     2.28e-55\n",
      "Kurtosis:                       4.101   Cond. No.                     3.74e+05\n",
      "==============================================================================\n",
      "\n",
      "Notes:\n",
      "[1] Standard Errors assume that the covariance matrix of the errors is correctly specified.\n",
      "[2] The condition number is large, 3.74e+05. This might indicate that there are\n",
      "strong multicollinearity or other numerical problems.\n"
     ]
    }
   ],
   "source": [
    "X=wine.drop(['quality','sugar_root'],axis=1)\n",
    "X=sm.add_constant(X)\n",
    "y=wine['quality']\n",
    "model0=sm.OLS(y,X).fit()\n",
    "print(model0.summary())"
   ]
  },
  {
   "cell_type": "code",
   "execution_count": 14,
   "metadata": {},
   "outputs": [],
   "source": [
    "from sklearn.preprocessing import StandardScaler\n",
    "SS=StandardScaler()"
   ]
  },
  {
   "cell_type": "code",
   "execution_count": 15,
   "metadata": {},
   "outputs": [],
   "source": [
    "wine['scaled_pH']=SS.fit_transform(wine[['pH']])"
   ]
  },
  {
   "cell_type": "code",
   "execution_count": 16,
   "metadata": {},
   "outputs": [
    {
     "name": "stdout",
     "output_type": "stream",
     "text": [
      "                            OLS Regression Results                            \n",
      "==============================================================================\n",
      "Dep. Variable:                quality   R-squared:                       0.282\n",
      "Model:                            OLS   Adj. R-squared:                  0.280\n",
      "Method:                 Least Squares   F-statistic:                     174.3\n",
      "Date:                Thu, 05 Aug 2021   Prob (F-statistic):               0.00\n",
      "Time:                        12:22:59   Log-Likelihood:                -5543.7\n",
      "No. Observations:                4898   AIC:                         1.111e+04\n",
      "Df Residuals:                    4886   BIC:                         1.119e+04\n",
      "Df Model:                          11                                         \n",
      "Covariance Type:            nonrobust                                         \n",
      "========================================================================================\n",
      "                           coef    std err          t      P>|t|      [0.025      0.975]\n",
      "----------------------------------------------------------------------------------------\n",
      "const                  152.3811     19.013      8.015      0.000     115.108     189.655\n",
      "fixed acidity            0.0655      0.021      3.139      0.002       0.025       0.106\n",
      "volatile acidity        -1.8632      0.114    -16.373      0.000      -2.086      -1.640\n",
      "citric acid              0.0221      0.096      0.231      0.818      -0.166       0.210\n",
      "residual sugar           0.0815      0.008     10.825      0.000       0.067       0.096\n",
      "chlorides               -0.2473      0.547     -0.452      0.651      -1.319       0.824\n",
      "free sulfur dioxide      0.0037      0.001      4.422      0.000       0.002       0.005\n",
      "total sulfur dioxide    -0.0003      0.000     -0.756      0.450      -0.001       0.000\n",
      "density               -150.2842     19.075     -7.879      0.000    -187.679    -112.890\n",
      "sulphates                0.6315      0.100      6.291      0.000       0.435       0.828\n",
      "alcohol                  0.1935      0.024      7.988      0.000       0.146       0.241\n",
      "scaled_pH                0.1036      0.016      6.513      0.000       0.072       0.135\n",
      "==============================================================================\n",
      "Omnibus:                      114.161   Durbin-Watson:                   1.621\n",
      "Prob(Omnibus):                  0.000   Jarque-Bera (JB):              251.637\n",
      "Skew:                           0.073   Prob(JB):                     2.28e-55\n",
      "Kurtosis:                       4.101   Cond. No.                     3.76e+05\n",
      "==============================================================================\n",
      "\n",
      "Notes:\n",
      "[1] Standard Errors assume that the covariance matrix of the errors is correctly specified.\n",
      "[2] The condition number is large, 3.76e+05. This might indicate that there are\n",
      "strong multicollinearity or other numerical problems.\n"
     ]
    }
   ],
   "source": [
    "X=wine.drop(['quality','sugar_root','pH'],axis=1)\n",
    "X=sm.add_constant(X)\n",
    "y=wine['quality']\n",
    "model0=sm.OLS(y,X).fit()\n",
    "print(model0.summary())"
   ]
  },
  {
   "cell_type": "code",
   "execution_count": 17,
   "metadata": {},
   "outputs": [],
   "source": [
    "#we can see no changes in both models."
   ]
  },
  {
   "cell_type": "markdown",
   "metadata": {
    "collapsed": true
   },
   "source": [
    "<table align=\"left\">\n",
    "    <tr>\n",
    "        <td width=\"6%\">\n",
    "            <img src=\"question_icon.png\">\n",
    "        </td>\n",
    "        <td>\n",
    "            <div align=\"left\", style=\"font-size:120%\">\n",
    "                <font color=\"#21618C\">\n",
    "                    <b>6. What could be done to resolve the issue of multicollinearity if present?</b>\n",
    "                </font>\n",
    "            </div>\n",
    "        </td>\n",
    "    </tr>\n",
    "</table>"
   ]
  },
  {
   "cell_type": "code",
   "execution_count": 18,
   "metadata": {},
   "outputs": [],
   "source": [
    "from statsmodels.stats.outliers_influence import variance_inflation_factor"
   ]
  },
  {
   "cell_type": "code",
   "execution_count": 19,
   "metadata": {},
   "outputs": [
    {
     "name": "stdout",
     "output_type": "stream",
     "text": [
      "                features         VIF\n",
      "0          fixed acidity   92.861483\n",
      "1       volatile acidity    9.730569\n",
      "2            citric acid   10.007114\n",
      "3         residual sugar    3.830272\n",
      "4              chlorides    6.497448\n",
      "5    free sulfur dioxide    9.261556\n",
      "6   total sulfur dioxide   24.980802\n",
      "7                density 1056.497431\n",
      "8                     pH  609.861725\n",
      "9              sulphates   20.527123\n",
      "10               alcohol  118.707368\n"
     ]
    }
   ],
   "source": [
    "vif=pd.DataFrame()\n",
    "X=wine.drop(['quality','sugar_root','scaled_pH'],axis=1)\n",
    "vif['features']=X.columns\n",
    "vif['VIF']=[variance_inflation_factor(X.values,i)for i in range(X.shape[1])]\n",
    "print(vif)\n",
    "#drop the density column"
   ]
  },
  {
   "cell_type": "code",
   "execution_count": 20,
   "metadata": {},
   "outputs": [
    {
     "name": "stdout",
     "output_type": "stream",
     "text": [
      "               features        VIF\n",
      "0         fixed acidity  58.337764\n",
      "1      volatile acidity   9.683289\n",
      "2           citric acid  10.002239\n",
      "3        residual sugar   3.429412\n",
      "4             chlorides   6.093775\n",
      "5   free sulfur dioxide   9.210046\n",
      "6  total sulfur dioxide  24.980442\n",
      "7                    pH 160.145168\n",
      "8             sulphates  20.526697\n",
      "9               alcohol 103.478234\n"
     ]
    }
   ],
   "source": [
    "vif=pd.DataFrame()\n",
    "X1=wine.drop(['quality','sugar_root','scaled_pH','density'],axis=1)\n",
    "vif['features']=X1.columns\n",
    "vif['VIF']=[variance_inflation_factor(X1.values,i)for i in range(X1.shape[1])]\n",
    "print(vif)"
   ]
  },
  {
   "cell_type": "code",
   "execution_count": 21,
   "metadata": {},
   "outputs": [
    {
     "name": "stdout",
     "output_type": "stream",
     "text": [
      "               features       VIF\n",
      "0         fixed acidity 54.541049\n",
      "1      volatile acidity  9.683068\n",
      "2           citric acid  9.959726\n",
      "3        residual sugar  3.367263\n",
      "4             chlorides  5.680984\n",
      "5   free sulfur dioxide  9.208379\n",
      "6  total sulfur dioxide 23.263297\n",
      "7             sulphates 18.965802\n",
      "8               alcohol 45.630540\n"
     ]
    }
   ],
   "source": [
    "vif=pd.DataFrame()\n",
    "X2=wine.drop(['quality','sugar_root','scaled_pH','density','pH'],axis=1)\n",
    "vif['features']=X2.columns\n",
    "vif['VIF']=[variance_inflation_factor(X2.values,i)for i in range(X2.shape[1])]\n",
    "print(vif)"
   ]
  },
  {
   "cell_type": "code",
   "execution_count": 22,
   "metadata": {},
   "outputs": [
    {
     "name": "stdout",
     "output_type": "stream",
     "text": [
      "               features       VIF\n",
      "0      volatile acidity  9.678151\n",
      "1           citric acid  9.002814\n",
      "2        residual sugar  3.240373\n",
      "3             chlorides  5.526225\n",
      "4   free sulfur dioxide  9.027919\n",
      "5  total sulfur dioxide 21.661213\n",
      "6             sulphates 18.777964\n",
      "7               alcohol 25.796804\n"
     ]
    }
   ],
   "source": [
    "vif=pd.DataFrame()\n",
    "X3=wine.drop(['quality','sugar_root','scaled_pH','density','pH','fixed acidity'],axis=1)\n",
    "vif['features']=X3.columns\n",
    "vif['VIF']=[variance_inflation_factor(X3.values,i)for i in range(X3.shape[1])]\n",
    "print(vif)"
   ]
  },
  {
   "cell_type": "code",
   "execution_count": 23,
   "metadata": {},
   "outputs": [
    {
     "name": "stdout",
     "output_type": "stream",
     "text": [
      "              features       VIF\n",
      "0     volatile acidity  9.079616\n",
      "1          citric acid  8.846688\n",
      "2       residual sugar  3.003763\n",
      "3            chlorides  5.361558\n",
      "4  free sulfur dioxide  5.806088\n",
      "5            sulphates 17.571828\n",
      "6              alcohol 25.784880\n"
     ]
    }
   ],
   "source": [
    "vif=pd.DataFrame()\n",
    "X4=wine.drop(['quality','sugar_root','scaled_pH','density','pH','fixed acidity','total sulfur dioxide'],axis=1)\n",
    "vif['features']=X4.columns\n",
    "vif['VIF']=[variance_inflation_factor(X4.values,i)for i in range(X4.shape[1])]\n",
    "print(vif)"
   ]
  },
  {
   "cell_type": "code",
   "execution_count": 24,
   "metadata": {},
   "outputs": [
    {
     "name": "stdout",
     "output_type": "stream",
     "text": [
      "              features       VIF\n",
      "0     volatile acidity  6.746062\n",
      "1          citric acid  7.625044\n",
      "2       residual sugar  2.898728\n",
      "3            chlorides  5.359688\n",
      "4  free sulfur dioxide  5.638688\n",
      "5            sulphates 11.714178\n"
     ]
    }
   ],
   "source": [
    "vif=pd.DataFrame()\n",
    "X5=wine.drop(['quality','sugar_root','scaled_pH','density','pH','fixed acidity','total sulfur dioxide','alcohol'],axis=1)\n",
    "vif['features']=X5.columns\n",
    "vif['VIF']=[variance_inflation_factor(X5.values,i)for i in range(X5.shape[1])]\n",
    "print(vif)"
   ]
  },
  {
   "cell_type": "code",
   "execution_count": 25,
   "metadata": {},
   "outputs": [
    {
     "name": "stdout",
     "output_type": "stream",
     "text": [
      "              features      VIF\n",
      "0     volatile acidity 5.346423\n",
      "1          citric acid 6.150995\n",
      "2       residual sugar 2.896183\n",
      "3            chlorides 5.194186\n",
      "4  free sulfur dioxide 5.157428\n"
     ]
    }
   ],
   "source": [
    "vif=pd.DataFrame()\n",
    "X6=wine.drop(['quality','sugar_root','scaled_pH','density','pH','fixed acidity','total sulfur dioxide','alcohol','sulphates'],axis=1)\n",
    "vif['features']=X6.columns\n",
    "vif['VIF']=[variance_inflation_factor(X6.values,i)for i in range(X6.shape[1])]\n",
    "print(vif)"
   ]
  },
  {
   "cell_type": "markdown",
   "metadata": {
    "collapsed": true
   },
   "source": [
    "<table align=\"left\">\n",
    "    <tr>\n",
    "        <td width=\"6%\">\n",
    "            <img src=\"question_icon.png\">\n",
    "        </td>\n",
    "        <td>\n",
    "            <div align=\"left\", style=\"font-size:120%\">\n",
    "                <font color=\"#21618C\">\n",
    "                    <b>7.  Fit a full model. Is the assumption for normality of residuals violated ?</b>\n",
    "                </font>\n",
    "            </div>\n",
    "        </td>\n",
    "    </tr>\n",
    "</table>"
   ]
  },
  {
   "cell_type": "code",
   "execution_count": 26,
   "metadata": {},
   "outputs": [
    {
     "name": "stdout",
     "output_type": "stream",
     "text": [
      "                            OLS Regression Results                            \n",
      "==============================================================================\n",
      "Dep. Variable:                quality   R-squared:                       0.282\n",
      "Model:                            OLS   Adj. R-squared:                  0.280\n",
      "Method:                 Least Squares   F-statistic:                     174.3\n",
      "Date:                Thu, 05 Aug 2021   Prob (F-statistic):               0.00\n",
      "Time:                        12:23:01   Log-Likelihood:                -5543.7\n",
      "No. Observations:                4898   AIC:                         1.111e+04\n",
      "Df Residuals:                    4886   BIC:                         1.119e+04\n",
      "Df Model:                          11                                         \n",
      "Covariance Type:            nonrobust                                         \n",
      "========================================================================================\n",
      "                           coef    std err          t      P>|t|      [0.025      0.975]\n",
      "----------------------------------------------------------------------------------------\n",
      "const                  150.1928     18.804      7.987      0.000     113.328     187.057\n",
      "fixed acidity            0.0655      0.021      3.139      0.002       0.025       0.106\n",
      "volatile acidity        -1.8632      0.114    -16.373      0.000      -2.086      -1.640\n",
      "citric acid              0.0221      0.096      0.231      0.818      -0.166       0.210\n",
      "residual sugar           0.0815      0.008     10.825      0.000       0.067       0.096\n",
      "chlorides               -0.2473      0.547     -0.452      0.651      -1.319       0.824\n",
      "free sulfur dioxide      0.0037      0.001      4.422      0.000       0.002       0.005\n",
      "total sulfur dioxide    -0.0003      0.000     -0.756      0.450      -0.001       0.000\n",
      "density               -150.2842     19.075     -7.879      0.000    -187.679    -112.890\n",
      "pH                       0.6863      0.105      6.513      0.000       0.480       0.893\n",
      "sulphates                0.6315      0.100      6.291      0.000       0.435       0.828\n",
      "alcohol                  0.1935      0.024      7.988      0.000       0.146       0.241\n",
      "==============================================================================\n",
      "Omnibus:                      114.161   Durbin-Watson:                   1.621\n",
      "Prob(Omnibus):                  0.000   Jarque-Bera (JB):              251.637\n",
      "Skew:                           0.073   Prob(JB):                     2.28e-55\n",
      "Kurtosis:                       4.101   Cond. No.                     3.74e+05\n",
      "==============================================================================\n",
      "\n",
      "Notes:\n",
      "[1] Standard Errors assume that the covariance matrix of the errors is correctly specified.\n",
      "[2] The condition number is large, 3.74e+05. This might indicate that there are\n",
      "strong multicollinearity or other numerical problems.\n"
     ]
    }
   ],
   "source": [
    "X=wine.drop(['quality','sugar_root','scaled_pH'],axis=1)\n",
    "X=sm.add_constant(X)\n",
    "y=wine['quality']\n",
    "model0=sm.OLS(y,X).fit()\n",
    "print(model0.summary())\n",
    "#We need to do Jarque-Bera test to verify the normality of residuals\n",
    "#The Prob(JB) is les than the l.o.s. thus we can say the assumption is violated"
   ]
  },
  {
   "cell_type": "markdown",
   "metadata": {
    "collapsed": true
   },
   "source": [
    "<table align=\"left\">\n",
    "    <tr>\n",
    "        <td width=\"6%\">\n",
    "            <img src=\"question_icon.png\">\n",
    "        </td>\n",
    "        <td>\n",
    "            <div align=\"left\", style=\"font-size:120%\">\n",
    "                <font color=\"#21618C\">\n",
    "                    <b>8. Does the transformation of variable 'citric acid' affect the performance of prediction model?</b>\n",
    "                </font>\n",
    "            </div>\n",
    "        </td>\n",
    "    </tr>\n",
    "</table>"
   ]
  },
  {
   "cell_type": "code",
   "execution_count": 27,
   "metadata": {},
   "outputs": [
    {
     "name": "stdout",
     "output_type": "stream",
     "text": [
      "                            OLS Regression Results                            \n",
      "==============================================================================\n",
      "Dep. Variable:                quality   R-squared:                       0.282\n",
      "Model:                            OLS   Adj. R-squared:                  0.280\n",
      "Method:                 Least Squares   F-statistic:                     174.3\n",
      "Date:                Thu, 05 Aug 2021   Prob (F-statistic):               0.00\n",
      "Time:                        12:23:01   Log-Likelihood:                -5543.7\n",
      "No. Observations:                4898   AIC:                         1.111e+04\n",
      "Df Residuals:                    4886   BIC:                         1.119e+04\n",
      "Df Model:                          11                                         \n",
      "Covariance Type:            nonrobust                                         \n",
      "========================================================================================\n",
      "                           coef    std err          t      P>|t|      [0.025      0.975]\n",
      "----------------------------------------------------------------------------------------\n",
      "const                  150.1928     18.804      7.987      0.000     113.328     187.057\n",
      "fixed acidity            0.0655      0.021      3.139      0.002       0.025       0.106\n",
      "volatile acidity        -1.8632      0.114    -16.373      0.000      -2.086      -1.640\n",
      "citric acid              0.0221      0.096      0.231      0.818      -0.166       0.210\n",
      "residual sugar           0.0815      0.008     10.825      0.000       0.067       0.096\n",
      "chlorides               -0.2473      0.547     -0.452      0.651      -1.319       0.824\n",
      "free sulfur dioxide      0.0037      0.001      4.422      0.000       0.002       0.005\n",
      "total sulfur dioxide    -0.0003      0.000     -0.756      0.450      -0.001       0.000\n",
      "density               -150.2842     19.075     -7.879      0.000    -187.679    -112.890\n",
      "pH                       0.6863      0.105      6.513      0.000       0.480       0.893\n",
      "sulphates                0.6315      0.100      6.291      0.000       0.435       0.828\n",
      "alcohol                  0.1935      0.024      7.988      0.000       0.146       0.241\n",
      "==============================================================================\n",
      "Omnibus:                      114.161   Durbin-Watson:                   1.621\n",
      "Prob(Omnibus):                  0.000   Jarque-Bera (JB):              251.637\n",
      "Skew:                           0.073   Prob(JB):                     2.28e-55\n",
      "Kurtosis:                       4.101   Cond. No.                     3.74e+05\n",
      "==============================================================================\n",
      "\n",
      "Notes:\n",
      "[1] Standard Errors assume that the covariance matrix of the errors is correctly specified.\n",
      "[2] The condition number is large, 3.74e+05. This might indicate that there are\n",
      "strong multicollinearity or other numerical problems.\n"
     ]
    }
   ],
   "source": [
    "X=wine.drop(['quality','sugar_root','scaled_pH'],axis=1)\n",
    "X=sm.add_constant(X)\n",
    "y=wine['quality']\n",
    "model0=sm.OLS(y,X).fit()\n",
    "print(model0.summary())"
   ]
  },
  {
   "cell_type": "code",
   "execution_count": 28,
   "metadata": {},
   "outputs": [],
   "source": [
    "wine['scaled_citric_acid']=SS.fit_transform(wine[['citric acid']])"
   ]
  },
  {
   "cell_type": "code",
   "execution_count": 29,
   "metadata": {},
   "outputs": [
    {
     "name": "stdout",
     "output_type": "stream",
     "text": [
      "                            OLS Regression Results                            \n",
      "==============================================================================\n",
      "Dep. Variable:                quality   R-squared:                       0.282\n",
      "Model:                            OLS   Adj. R-squared:                  0.280\n",
      "Method:                 Least Squares   F-statistic:                     174.3\n",
      "Date:                Thu, 05 Aug 2021   Prob (F-statistic):               0.00\n",
      "Time:                        12:23:01   Log-Likelihood:                -5543.7\n",
      "No. Observations:                4898   AIC:                         1.111e+04\n",
      "Df Residuals:                    4886   BIC:                         1.119e+04\n",
      "Df Model:                          11                                         \n",
      "Covariance Type:            nonrobust                                         \n",
      "========================================================================================\n",
      "                           coef    std err          t      P>|t|      [0.025      0.975]\n",
      "----------------------------------------------------------------------------------------\n",
      "const                  150.2002     18.806      7.987      0.000     113.331     187.069\n",
      "fixed acidity            0.0655      0.021      3.139      0.002       0.025       0.106\n",
      "volatile acidity        -1.8632      0.114    -16.373      0.000      -2.086      -1.640\n",
      "residual sugar           0.0815      0.008     10.825      0.000       0.067       0.096\n",
      "chlorides               -0.2473      0.547     -0.452      0.651      -1.319       0.824\n",
      "free sulfur dioxide      0.0037      0.001      4.422      0.000       0.002       0.005\n",
      "total sulfur dioxide    -0.0003      0.000     -0.756      0.450      -0.001       0.000\n",
      "density               -150.2842     19.075     -7.879      0.000    -187.679    -112.890\n",
      "pH                       0.6863      0.105      6.513      0.000       0.480       0.893\n",
      "sulphates                0.6315      0.100      6.291      0.000       0.435       0.828\n",
      "alcohol                  0.1935      0.024      7.988      0.000       0.146       0.241\n",
      "scaled_citric_acid       0.0027      0.012      0.231      0.818      -0.020       0.025\n",
      "==============================================================================\n",
      "Omnibus:                      114.161   Durbin-Watson:                   1.621\n",
      "Prob(Omnibus):                  0.000   Jarque-Bera (JB):              251.637\n",
      "Skew:                           0.073   Prob(JB):                     2.28e-55\n",
      "Kurtosis:                       4.101   Cond. No.                     3.74e+05\n",
      "==============================================================================\n",
      "\n",
      "Notes:\n",
      "[1] Standard Errors assume that the covariance matrix of the errors is correctly specified.\n",
      "[2] The condition number is large, 3.74e+05. This might indicate that there are\n",
      "strong multicollinearity or other numerical problems.\n"
     ]
    }
   ],
   "source": [
    "X=wine.drop(['quality','sugar_root','scaled_pH','citric acid'],axis=1)\n",
    "X=sm.add_constant(X)\n",
    "y=wine['quality']\n",
    "model1=sm.OLS(y,X).fit()\n",
    "print(model1.summary())"
   ]
  },
  {
   "cell_type": "code",
   "execution_count": 30,
   "metadata": {},
   "outputs": [],
   "source": [
    "#i see no changes"
   ]
  },
  {
   "cell_type": "markdown",
   "metadata": {
    "collapsed": true
   },
   "source": [
    "<table align=\"left\">\n",
    "    <tr>\n",
    "        <td width=\"6%\">\n",
    "            <img src=\"question_icon.png\">\n",
    "        </td>\n",
    "        <td>\n",
    "            <div align=\"left\", style=\"font-size:120%\">\n",
    "                <font color=\"#21618C\">\n",
    "                    <b>9. Fit a full model. Check whether variable has linear relationship with the wine quality<br></b>\n",
    "                </font>\n",
    "            </div>\n",
    "        </td>\n",
    "    </tr>\n",
    "</table>"
   ]
  },
  {
   "cell_type": "code",
   "execution_count": 31,
   "metadata": {},
   "outputs": [
    {
     "name": "stdout",
     "output_type": "stream",
     "text": [
      "                            OLS Regression Results                            \n",
      "==============================================================================\n",
      "Dep. Variable:                quality   R-squared:                       0.282\n",
      "Model:                            OLS   Adj. R-squared:                  0.280\n",
      "Method:                 Least Squares   F-statistic:                     174.3\n",
      "Date:                Thu, 05 Aug 2021   Prob (F-statistic):               0.00\n",
      "Time:                        12:23:01   Log-Likelihood:                -5543.7\n",
      "No. Observations:                4898   AIC:                         1.111e+04\n",
      "Df Residuals:                    4886   BIC:                         1.119e+04\n",
      "Df Model:                          11                                         \n",
      "Covariance Type:            nonrobust                                         \n",
      "========================================================================================\n",
      "                           coef    std err          t      P>|t|      [0.025      0.975]\n",
      "----------------------------------------------------------------------------------------\n",
      "const                  150.1928     18.804      7.987      0.000     113.328     187.057\n",
      "fixed acidity            0.0655      0.021      3.139      0.002       0.025       0.106\n",
      "volatile acidity        -1.8632      0.114    -16.373      0.000      -2.086      -1.640\n",
      "citric acid              0.0221      0.096      0.231      0.818      -0.166       0.210\n",
      "residual sugar           0.0815      0.008     10.825      0.000       0.067       0.096\n",
      "chlorides               -0.2473      0.547     -0.452      0.651      -1.319       0.824\n",
      "free sulfur dioxide      0.0037      0.001      4.422      0.000       0.002       0.005\n",
      "total sulfur dioxide    -0.0003      0.000     -0.756      0.450      -0.001       0.000\n",
      "density               -150.2842     19.075     -7.879      0.000    -187.679    -112.890\n",
      "pH                       0.6863      0.105      6.513      0.000       0.480       0.893\n",
      "sulphates                0.6315      0.100      6.291      0.000       0.435       0.828\n",
      "alcohol                  0.1935      0.024      7.988      0.000       0.146       0.241\n",
      "==============================================================================\n",
      "Omnibus:                      114.161   Durbin-Watson:                   1.621\n",
      "Prob(Omnibus):                  0.000   Jarque-Bera (JB):              251.637\n",
      "Skew:                           0.073   Prob(JB):                     2.28e-55\n",
      "Kurtosis:                       4.101   Cond. No.                     3.74e+05\n",
      "==============================================================================\n",
      "\n",
      "Notes:\n",
      "[1] Standard Errors assume that the covariance matrix of the errors is correctly specified.\n",
      "[2] The condition number is large, 3.74e+05. This might indicate that there are\n",
      "strong multicollinearity or other numerical problems.\n"
     ]
    },
    {
     "data": {
      "image/png": "[encoded data removed]",
      "text/plain": [
       "<Figure size 1080x576 with 10 Axes>"
      ]
     },
     "metadata": {
      "needs_background": "light"
     },
     "output_type": "display_data"
    }
   ],
   "source": [
    "X=wine.drop(['quality','sugar_root','scaled_pH','scaled_citric_acid'],axis=1)\n",
    "X=sm.add_constant(X)\n",
    "y=wine['quality']\n",
    "model2=sm.OLS(y,X).fit()\n",
    "print(model2.summary())\n",
    "\n",
    "residuals = model2.resid\n",
    "\n",
    "# create subplots of scatter plots\n",
    "# pass the number of rows in a subplot to 'nrows'\n",
    "# pass the number of columns in a subplot to 'ncolumns'\n",
    "# set plot size using 'figsize'\n",
    "fig, ax = plt.subplots(nrows = 2, ncols= 5, figsize=(15,8))\n",
    "# use for loop to create scatter plot for residuals and each independent variable (do not cosider the intercept)\n",
    "# 'ax' assigns axes object to draw the plot onto\n",
    "# set_ylabel() is used to set label to y axis\n",
    "for variable, subplot in zip(X.columns[1:], ax.flatten()):\n",
    "    z = sns.scatterplot(X[variable], residuals , ax=subplot)\n",
    "    z.set_ylabel(\"Residuals\", fontsize = 10)"
   ]
  },
  {
   "cell_type": "code",
   "execution_count": 32,
   "metadata": {},
   "outputs": [],
   "source": [
    "#since the points are at random and do not display any certain pattern we can say they are linear with wine quality"
   ]
  },
  {
   "cell_type": "markdown",
   "metadata": {},
   "source": [
    "<a id=\"sel\"> </a>\n",
    "## 2. Feature Selection"
   ]
  },
  {
   "cell_type": "markdown",
   "metadata": {
    "collapsed": true
   },
   "source": [
    "<table align=\"left\">\n",
    "    <tr>\n",
    "        <td width=\"6%\">\n",
    "            <img src=\"question_icon.png\">\n",
    "        </td>\n",
    "        <td>\n",
    "            <div align=\"left\", style=\"font-size:120%\">\n",
    "                <font color=\"#21618C\">\n",
    "                    <b>10. Find the top five significant variables from the dataset using forward selection technique. Also display the R-squared score for the model built using these five variables.</b>\n",
    "                </font>\n",
    "            </div>\n",
    "        </td>\n",
    "    </tr>\n",
    "</table>"
   ]
  },
  {
   "cell_type": "code",
   "execution_count": 33,
   "metadata": {},
   "outputs": [],
   "source": [
    "from sklearn.linear_model import LinearRegression\n",
    "from sklearn.model_selection import train_test_split"
   ]
  },
  {
   "cell_type": "code",
   "execution_count": 34,
   "metadata": {},
   "outputs": [
    {
     "name": "stderr",
     "output_type": "stream",
     "text": [
      "[Parallel(n_jobs=1)]: Using backend SequentialBackend with 1 concurrent workers.\n",
      "[Parallel(n_jobs=1)]: Done   1 out of   1 | elapsed:    0.0s remaining:    0.0s\n",
      "[Parallel(n_jobs=1)]: Done  14 out of  14 | elapsed:    0.1s finished\n",
      "\n",
      "[2021-08-05 12:23:04] Features: 1/5 -- score: 0.18565846860352717[Parallel(n_jobs=1)]: Using backend SequentialBackend with 1 concurrent workers.\n",
      "[Parallel(n_jobs=1)]: Done   1 out of   1 | elapsed:    0.0s remaining:    0.0s\n",
      "[Parallel(n_jobs=1)]: Done  13 out of  13 | elapsed:    0.1s finished\n",
      "\n",
      "[2021-08-05 12:23:04] Features: 2/5 -- score: 0.23629929361188456[Parallel(n_jobs=1)]: Using backend SequentialBackend with 1 concurrent workers.\n",
      "[Parallel(n_jobs=1)]: Done   1 out of   1 | elapsed:    0.0s remaining:    0.0s\n",
      "[Parallel(n_jobs=1)]: Done  12 out of  12 | elapsed:    0.1s finished\n",
      "\n",
      "[2021-08-05 12:23:04] Features: 3/5 -- score: 0.2583305552189094[Parallel(n_jobs=1)]: Using backend SequentialBackend with 1 concurrent workers.\n",
      "[Parallel(n_jobs=1)]: Done   1 out of   1 | elapsed:    0.0s remaining:    0.0s\n",
      "[Parallel(n_jobs=1)]: Done  11 out of  11 | elapsed:    0.1s finished\n",
      "\n",
      "[2021-08-05 12:23:04] Features: 4/5 -- score: 0.2642076005730881[Parallel(n_jobs=1)]: Using backend SequentialBackend with 1 concurrent workers.\n",
      "[Parallel(n_jobs=1)]: Done   1 out of   1 | elapsed:    0.0s remaining:    0.0s\n",
      "[Parallel(n_jobs=1)]: Done  10 out of  10 | elapsed:    0.1s finished\n",
      "\n",
      "[2021-08-05 12:23:05] Features: 5/5 -- score: 0.2685242748182352"
     ]
    }
   ],
   "source": [
    "lr=LinearRegression()\n",
    "fs=sfs(lr,k_features=5,forward=True,scoring='r2',verbose=2)\n",
    "X=wine.drop(['quality'],axis=1)\n",
    "y=wine['quality']\n",
    "X_train,X_test,y_train,y_test=train_test_split(X,y,test_size=0.2,random_state=10)\n",
    "model1=fs.fit(X_train,y_train)"
   ]
  },
  {
   "cell_type": "code",
   "execution_count": 35,
   "metadata": {},
   "outputs": [
    {
     "data": {
      "text/plain": [
       "('fixed acidity', 'volatile acidity', 'sulphates', 'alcohol', 'sugar_root')"
      ]
     },
     "execution_count": 35,
     "metadata": {},
     "output_type": "execute_result"
    }
   ],
   "source": [
    "model1.k_feature_names_"
   ]
  },
  {
   "cell_type": "code",
   "execution_count": 36,
   "metadata": {},
   "outputs": [
    {
     "data": {
      "text/plain": [
       "0.2685242748182352"
      ]
     },
     "execution_count": 36,
     "metadata": {},
     "output_type": "execute_result"
    }
   ],
   "source": [
    "model1.k_score_"
   ]
  },
  {
   "cell_type": "markdown",
   "metadata": {
    "collapsed": true
   },
   "source": [
    "<table align=\"left\">\n",
    "    <tr>\n",
    "        <td width=\"6%\">\n",
    "            <img src=\"question_icon.png\">\n",
    "        </td>\n",
    "        <td>\n",
    "            <div align=\"left\", style=\"font-size:120%\">\n",
    "                <font color=\"#21618C\">\n",
    "                        <b>11. Find the top five significant variables from the dataset using backward elimination technique. Also display the R-squared score for the model built using these five variables.<br><br> Compare the R-squared value obtained from question 10 with the value obtained using backward elimination.</b>\n",
    "                </font>\n",
    "            </div>\n",
    "        </td>\n",
    "    </tr>\n",
    "</table>"
   ]
  },
  {
   "cell_type": "code",
   "execution_count": 37,
   "metadata": {},
   "outputs": [
    {
     "name": "stderr",
     "output_type": "stream",
     "text": [
      "[Parallel(n_jobs=1)]: Using backend SequentialBackend with 1 concurrent workers.\n",
      "[Parallel(n_jobs=1)]: Done   1 out of   1 | elapsed:    0.0s remaining:    0.0s\n",
      "[Parallel(n_jobs=1)]: Done  14 out of  14 | elapsed:    0.2s finished\n",
      "\n",
      "[2021-08-05 12:23:05] Features: 13/5 -- score: 0.2716450721293267[Parallel(n_jobs=1)]: Using backend SequentialBackend with 1 concurrent workers.\n",
      "[Parallel(n_jobs=1)]: Done   1 out of   1 | elapsed:    0.0s remaining:    0.0s\n",
      "[Parallel(n_jobs=1)]: Done  13 out of  13 | elapsed:    0.1s finished\n",
      "\n",
      "[2021-08-05 12:23:06] Features: 12/5 -- score: 0.2724841931045639[Parallel(n_jobs=1)]: Using backend SequentialBackend with 1 concurrent workers.\n",
      "[Parallel(n_jobs=1)]: Done   1 out of   1 | elapsed:    0.0s remaining:    0.0s\n",
      "[Parallel(n_jobs=1)]: Done  12 out of  12 | elapsed:    0.2s finished\n",
      "\n",
      "[2021-08-05 12:23:06] Features: 11/5 -- score: 0.2729302135625951[Parallel(n_jobs=1)]: Using backend SequentialBackend with 1 concurrent workers.\n",
      "[Parallel(n_jobs=1)]: Done   1 out of   1 | elapsed:    0.0s remaining:    0.0s\n",
      "[Parallel(n_jobs=1)]: Done  11 out of  11 | elapsed:    0.1s finished\n",
      "\n",
      "[2021-08-05 12:23:06] Features: 10/5 -- score: 0.27316374708151736[Parallel(n_jobs=1)]: Using backend SequentialBackend with 1 concurrent workers.\n",
      "[Parallel(n_jobs=1)]: Done   1 out of   1 | elapsed:    0.0s remaining:    0.0s\n",
      "[Parallel(n_jobs=1)]: Done  10 out of  10 | elapsed:    0.1s finished\n",
      "\n",
      "[2021-08-05 12:23:06] Features: 9/5 -- score: 0.27316370765473597[Parallel(n_jobs=1)]: Using backend SequentialBackend with 1 concurrent workers.\n",
      "[Parallel(n_jobs=1)]: Done   1 out of   1 | elapsed:    0.0s remaining:    0.0s\n",
      "[Parallel(n_jobs=1)]: Done   9 out of   9 | elapsed:    0.1s finished\n",
      "\n",
      "[2021-08-05 12:23:06] Features: 8/5 -- score: 0.2739750715783848[Parallel(n_jobs=1)]: Using backend SequentialBackend with 1 concurrent workers.\n",
      "[Parallel(n_jobs=1)]: Done   1 out of   1 | elapsed:    0.0s remaining:    0.0s\n",
      "[Parallel(n_jobs=1)]: Done   8 out of   8 | elapsed:    0.1s finished\n",
      "\n",
      "[2021-08-05 12:23:07] Features: 7/5 -- score: 0.2739751646460153[Parallel(n_jobs=1)]: Using backend SequentialBackend with 1 concurrent workers.\n",
      "[Parallel(n_jobs=1)]: Done   1 out of   1 | elapsed:    0.0s remaining:    0.0s\n",
      "[Parallel(n_jobs=1)]: Done   7 out of   7 | elapsed:    0.0s finished\n",
      "\n",
      "[2021-08-05 12:23:07] Features: 6/5 -- score: 0.27246859850973654[Parallel(n_jobs=1)]: Using backend SequentialBackend with 1 concurrent workers.\n",
      "[Parallel(n_jobs=1)]: Done   1 out of   1 | elapsed:    0.0s remaining:    0.0s\n",
      "[Parallel(n_jobs=1)]: Done   6 out of   6 | elapsed:    0.0s finished\n",
      "\n",
      "[2021-08-05 12:23:07] Features: 5/5 -- score: 0.2667934266541939"
     ]
    }
   ],
   "source": [
    "be=sfs(lr,k_features=5,forward=False,scoring='r2',verbose=2)\n",
    "model2=be.fit(X_train,y_train)"
   ]
  },
  {
   "cell_type": "code",
   "execution_count": 38,
   "metadata": {},
   "outputs": [
    {
     "data": {
      "text/plain": [
       "('volatile acidity', 'residual sugar', 'density', 'sulphates', 'alcohol')"
      ]
     },
     "execution_count": 38,
     "metadata": {},
     "output_type": "execute_result"
    }
   ],
   "source": [
    "model2.k_feature_names_"
   ]
  },
  {
   "cell_type": "code",
   "execution_count": 39,
   "metadata": {},
   "outputs": [
    {
     "data": {
      "text/plain": [
       "0.2667934266541939"
      ]
     },
     "execution_count": 39,
     "metadata": {},
     "output_type": "execute_result"
    }
   ],
   "source": [
    "model2.k_score_"
   ]
  },
  {
   "cell_type": "code",
   "execution_count": 40,
   "metadata": {},
   "outputs": [],
   "source": [
    "#almost same with the model obtained from q10"
   ]
  },
  {
   "cell_type": "markdown",
   "metadata": {
    "collapsed": true
   },
   "source": [
    "<table align=\"left\">\n",
    "    <tr>\n",
    "        <td width=\"6%\">\n",
    "            <img src=\"question_icon.png\">\n",
    "        </td>\n",
    "        <td>\n",
    "            <div align=\"left\", style=\"font-size:120%\">\n",
    "                <font color=\"#21618C\">\n",
    "                    <b>12. Find the best set of significant variables from the dataset using forward selection technique such that the selected set should have 2 to 6 features. Also display the R-squared score for the model built using the selected variables</b>\n",
    "                </font>\n",
    "            </div>\n",
    "        </td>\n",
    "    </tr>\n",
    "</table>"
   ]
  },
  {
   "cell_type": "code",
   "execution_count": 41,
   "metadata": {},
   "outputs": [
    {
     "name": "stderr",
     "output_type": "stream",
     "text": [
      "[Parallel(n_jobs=1)]: Using backend SequentialBackend with 1 concurrent workers.\n",
      "[Parallel(n_jobs=1)]: Done   1 out of   1 | elapsed:    0.0s remaining:    0.0s\n",
      "[Parallel(n_jobs=1)]: Done  14 out of  14 | elapsed:    0.2s finished\n",
      "\n",
      "[2021-08-05 12:23:08] Features: 1/6 -- score: 0.18565846860352717[Parallel(n_jobs=1)]: Using backend SequentialBackend with 1 concurrent workers.\n",
      "[Parallel(n_jobs=1)]: Done   1 out of   1 | elapsed:    0.0s remaining:    0.0s\n",
      "[Parallel(n_jobs=1)]: Done  13 out of  13 | elapsed:    0.1s finished\n",
      "\n",
      "[2021-08-05 12:23:08] Features: 2/6 -- score: 0.23629929361188456[Parallel(n_jobs=1)]: Using backend SequentialBackend with 1 concurrent workers.\n",
      "[Parallel(n_jobs=1)]: Done   1 out of   1 | elapsed:    0.0s remaining:    0.0s\n",
      "[Parallel(n_jobs=1)]: Done  12 out of  12 | elapsed:    0.1s finished\n",
      "\n",
      "[2021-08-05 12:23:08] Features: 3/6 -- score: 0.2583305552189094[Parallel(n_jobs=1)]: Using backend SequentialBackend with 1 concurrent workers.\n",
      "[Parallel(n_jobs=1)]: Done   1 out of   1 | elapsed:    0.0s remaining:    0.0s\n",
      "[Parallel(n_jobs=1)]: Done  11 out of  11 | elapsed:    0.1s finished\n",
      "\n",
      "[2021-08-05 12:23:08] Features: 4/6 -- score: 0.2642076005730881[Parallel(n_jobs=1)]: Using backend SequentialBackend with 1 concurrent workers.\n",
      "[Parallel(n_jobs=1)]: Done   1 out of   1 | elapsed:    0.0s remaining:    0.0s\n",
      "[Parallel(n_jobs=1)]: Done  10 out of  10 | elapsed:    0.1s finished\n",
      "\n",
      "[2021-08-05 12:23:08] Features: 5/6 -- score: 0.2685242748182352[Parallel(n_jobs=1)]: Using backend SequentialBackend with 1 concurrent workers.\n",
      "[Parallel(n_jobs=1)]: Done   1 out of   1 | elapsed:    0.0s remaining:    0.0s\n",
      "[Parallel(n_jobs=1)]: Done   9 out of   9 | elapsed:    0.1s finished\n",
      "\n",
      "[2021-08-05 12:23:08] Features: 6/6 -- score: 0.2699197596586568"
     ]
    }
   ],
   "source": [
    "fs1=sfs(lr,k_features=(2,6),forward=True,scoring='r2',verbose=2)\n",
    "model3=fs1.fit(X_train,y_train)"
   ]
  },
  {
   "cell_type": "code",
   "execution_count": 42,
   "metadata": {},
   "outputs": [
    {
     "data": {
      "text/plain": [
       "('fixed acidity',\n",
       " 'volatile acidity',\n",
       " 'free sulfur dioxide',\n",
       " 'sulphates',\n",
       " 'alcohol',\n",
       " 'sugar_root')"
      ]
     },
     "execution_count": 42,
     "metadata": {},
     "output_type": "execute_result"
    }
   ],
   "source": [
    "model3.k_feature_names_"
   ]
  },
  {
   "cell_type": "code",
   "execution_count": 43,
   "metadata": {},
   "outputs": [
    {
     "data": {
      "text/plain": [
       "0.2699197596586568"
      ]
     },
     "execution_count": 43,
     "metadata": {},
     "output_type": "execute_result"
    }
   ],
   "source": [
    "model3.k_score_"
   ]
  },
  {
   "cell_type": "markdown",
   "metadata": {
    "collapsed": true
   },
   "source": [
    "<table align=\"left\">\n",
    "    <tr>\n",
    "        <td width=\"6%\">\n",
    "            <img src=\"question_icon.png\">\n",
    "        </td>\n",
    "        <td>\n",
    "            <div align=\"left\", style=\"font-size:120%\">\n",
    "                <font color=\"#21618C\">\n",
    "                    <b>13. Find the best set of significant variables from the dataset using forward selection technique. Also display the R-squared score for the model built using the selected variables.</b>\n",
    "                </font>\n",
    "            </div>\n",
    "        </td>\n",
    "    </tr>\n",
    "</table>"
   ]
  },
  {
   "cell_type": "code",
   "execution_count": 44,
   "metadata": {},
   "outputs": [
    {
     "name": "stderr",
     "output_type": "stream",
     "text": [
      "[Parallel(n_jobs=1)]: Using backend SequentialBackend with 1 concurrent workers.\n",
      "[Parallel(n_jobs=1)]: Done   1 out of   1 | elapsed:    0.0s remaining:    0.0s\n",
      "[Parallel(n_jobs=1)]: Done  14 out of  14 | elapsed:    0.1s finished\n",
      "\n",
      "[2021-08-05 12:23:09] Features: 1/14 -- score: 0.18565846860352717[Parallel(n_jobs=1)]: Using backend SequentialBackend with 1 concurrent workers.\n",
      "[Parallel(n_jobs=1)]: Done   1 out of   1 | elapsed:    0.0s remaining:    0.0s\n",
      "[Parallel(n_jobs=1)]: Done  13 out of  13 | elapsed:    0.1s finished\n",
      "\n",
      "[2021-08-05 12:23:09] Features: 2/14 -- score: 0.23629929361188456[Parallel(n_jobs=1)]: Using backend SequentialBackend with 1 concurrent workers.\n",
      "[Parallel(n_jobs=1)]: Done   1 out of   1 | elapsed:    0.0s remaining:    0.0s\n",
      "[Parallel(n_jobs=1)]: Done  12 out of  12 | elapsed:    0.2s finished\n",
      "\n",
      "[2021-08-05 12:23:09] Features: 3/14 -- score: 0.2583305552189094[Parallel(n_jobs=1)]: Using backend SequentialBackend with 1 concurrent workers.\n",
      "[Parallel(n_jobs=1)]: Done   1 out of   1 | elapsed:    0.0s remaining:    0.0s\n",
      "[Parallel(n_jobs=1)]: Done  11 out of  11 | elapsed:    0.3s finished\n",
      "\n",
      "[2021-08-05 12:23:10] Features: 4/14 -- score: 0.2642076005730881[Parallel(n_jobs=1)]: Using backend SequentialBackend with 1 concurrent workers.\n",
      "[Parallel(n_jobs=1)]: Done   1 out of   1 | elapsed:    0.0s remaining:    0.0s\n",
      "[Parallel(n_jobs=1)]: Done  10 out of  10 | elapsed:    0.0s finished\n",
      "\n",
      "[2021-08-05 12:23:10] Features: 5/14 -- score: 0.2685242748182352[Parallel(n_jobs=1)]: Using backend SequentialBackend with 1 concurrent workers.\n",
      "[Parallel(n_jobs=1)]: Done   1 out of   1 | elapsed:    0.0s remaining:    0.0s\n",
      "[Parallel(n_jobs=1)]: Done   9 out of   9 | elapsed:    0.1s finished\n",
      "\n",
      "[2021-08-05 12:23:10] Features: 6/14 -- score: 0.2699197596586568[Parallel(n_jobs=1)]: Using backend SequentialBackend with 1 concurrent workers.\n",
      "[Parallel(n_jobs=1)]: Done   1 out of   1 | elapsed:    0.0s remaining:    0.0s\n",
      "[Parallel(n_jobs=1)]: Done   8 out of   8 | elapsed:    0.0s finished\n",
      "\n",
      "[2021-08-05 12:23:10] Features: 7/14 -- score: 0.27037013240742425[Parallel(n_jobs=1)]: Using backend SequentialBackend with 1 concurrent workers.\n",
      "[Parallel(n_jobs=1)]: Done   1 out of   1 | elapsed:    0.0s remaining:    0.0s\n",
      "[Parallel(n_jobs=1)]: Done   7 out of   7 | elapsed:    0.0s finished\n",
      "\n",
      "[2021-08-05 12:23:10] Features: 8/14 -- score: 0.2702226070943903[Parallel(n_jobs=1)]: Using backend SequentialBackend with 1 concurrent workers.\n",
      "[Parallel(n_jobs=1)]: Done   1 out of   1 | elapsed:    0.0s remaining:    0.0s\n",
      "[Parallel(n_jobs=1)]: Done   6 out of   6 | elapsed:    0.0s finished\n",
      "\n",
      "[2021-08-05 12:23:10] Features: 9/14 -- score: 0.2696895378597065[Parallel(n_jobs=1)]: Using backend SequentialBackend with 1 concurrent workers.\n",
      "[Parallel(n_jobs=1)]: Done   1 out of   1 | elapsed:    0.0s remaining:    0.0s\n",
      "[Parallel(n_jobs=1)]: Done   5 out of   5 | elapsed:    0.0s finished\n",
      "\n",
      "[2021-08-05 12:23:11] Features: 10/14 -- score: 0.26968953785970634[Parallel(n_jobs=1)]: Using backend SequentialBackend with 1 concurrent workers.\n",
      "[Parallel(n_jobs=1)]: Done   1 out of   1 | elapsed:    0.0s remaining:    0.0s\n",
      "[Parallel(n_jobs=1)]: Done   4 out of   4 | elapsed:    0.0s finished\n",
      "\n",
      "[2021-08-05 12:23:11] Features: 11/14 -- score: 0.26906799577901086[Parallel(n_jobs=1)]: Using backend SequentialBackend with 1 concurrent workers.\n",
      "[Parallel(n_jobs=1)]: Done   1 out of   1 | elapsed:    0.0s remaining:    0.0s\n",
      "[Parallel(n_jobs=1)]: Done   3 out of   3 | elapsed:    0.0s finished\n",
      "\n",
      "[2021-08-05 12:23:11] Features: 12/14 -- score: 0.26907179004347254[Parallel(n_jobs=1)]: Using backend SequentialBackend with 1 concurrent workers.\n",
      "[Parallel(n_jobs=1)]: Done   1 out of   1 | elapsed:    0.0s remaining:    0.0s\n",
      "[Parallel(n_jobs=1)]: Done   2 out of   2 | elapsed:    0.0s finished\n",
      "\n",
      "[2021-08-05 12:23:11] Features: 13/14 -- score: 0.2680337782571612[Parallel(n_jobs=1)]: Using backend SequentialBackend with 1 concurrent workers.\n",
      "[Parallel(n_jobs=1)]: Done   1 out of   1 | elapsed:    0.0s remaining:    0.0s\n",
      "[Parallel(n_jobs=1)]: Done   1 out of   1 | elapsed:    0.0s finished\n",
      "\n",
      "[2021-08-05 12:23:11] Features: 14/14 -- score: 0.2681075621037582"
     ]
    }
   ],
   "source": [
    "fs2=sfs(lr,k_features='best',forward=True,scoring='r2',verbose=2)\n",
    "model4=fs2.fit(X_train,y_train)"
   ]
  },
  {
   "cell_type": "code",
   "execution_count": 45,
   "metadata": {},
   "outputs": [
    {
     "data": {
      "text/plain": [
       "('fixed acidity',\n",
       " 'volatile acidity',\n",
       " 'free sulfur dioxide',\n",
       " 'total sulfur dioxide',\n",
       " 'sulphates',\n",
       " 'alcohol',\n",
       " 'sugar_root')"
      ]
     },
     "execution_count": 45,
     "metadata": {},
     "output_type": "execute_result"
    }
   ],
   "source": [
    "model4.k_feature_names_"
   ]
  },
  {
   "cell_type": "code",
   "execution_count": 46,
   "metadata": {},
   "outputs": [
    {
     "data": {
      "text/plain": [
       "0.27037013240742425"
      ]
     },
     "execution_count": 46,
     "metadata": {},
     "output_type": "execute_result"
    }
   ],
   "source": [
    "model4.k_score_"
   ]
  },
  {
   "cell_type": "markdown",
   "metadata": {
    "collapsed": true
   },
   "source": [
    "<table align=\"left\">\n",
    "    <tr>\n",
    "        <td width=\"6%\">\n",
    "            <img src=\"question_icon.png\">\n",
    "        </td>\n",
    "        <td>\n",
    "            <div align=\"left\", style=\"font-size:120%\">\n",
    "                <font color=\"#21618C\">\n",
    "                    <b>14. Find the best set of significant variables from the dataset using backward elimination technique. Also display the R-squared score for the model built using the selected variables. <br><br>Compare the R-squared value obtained from question 13 with the value obtained using backward elimination.</b>\n",
    "                </font>\n",
    "            </div>\n",
    "        </td>\n",
    "    </tr>\n",
    "</table>"
   ]
  },
  {
   "cell_type": "code",
   "execution_count": 47,
   "metadata": {},
   "outputs": [
    {
     "name": "stderr",
     "output_type": "stream",
     "text": [
      "[Parallel(n_jobs=1)]: Using backend SequentialBackend with 1 concurrent workers.\n",
      "[Parallel(n_jobs=1)]: Done   1 out of   1 | elapsed:    0.0s remaining:    0.0s\n",
      "[Parallel(n_jobs=1)]: Done  14 out of  14 | elapsed:    0.2s finished\n",
      "\n",
      "[2021-08-05 12:23:11] Features: 13/1 -- score: 0.2716450721293267[Parallel(n_jobs=1)]: Using backend SequentialBackend with 1 concurrent workers.\n",
      "[Parallel(n_jobs=1)]: Done   1 out of   1 | elapsed:    0.0s remaining:    0.0s\n",
      "[Parallel(n_jobs=1)]: Done  13 out of  13 | elapsed:    0.1s finished\n",
      "\n",
      "[2021-08-05 12:23:12] Features: 12/1 -- score: 0.2724841931045639[Parallel(n_jobs=1)]: Using backend SequentialBackend with 1 concurrent workers.\n",
      "[Parallel(n_jobs=1)]: Done   1 out of   1 | elapsed:    0.0s remaining:    0.0s\n",
      "[Parallel(n_jobs=1)]: Done  12 out of  12 | elapsed:    0.2s finished\n",
      "\n",
      "[2021-08-05 12:23:12] Features: 11/1 -- score: 0.2729302135625951[Parallel(n_jobs=1)]: Using backend SequentialBackend with 1 concurrent workers.\n",
      "[Parallel(n_jobs=1)]: Done   1 out of   1 | elapsed:    0.0s remaining:    0.0s\n",
      "[Parallel(n_jobs=1)]: Done  11 out of  11 | elapsed:    0.1s finished\n",
      "\n",
      "[2021-08-05 12:23:12] Features: 10/1 -- score: 0.27316374708151736[Parallel(n_jobs=1)]: Using backend SequentialBackend with 1 concurrent workers.\n",
      "[Parallel(n_jobs=1)]: Done   1 out of   1 | elapsed:    0.0s remaining:    0.0s\n",
      "[Parallel(n_jobs=1)]: Done  10 out of  10 | elapsed:    0.1s finished\n",
      "\n",
      "[2021-08-05 12:23:12] Features: 9/1 -- score: 0.27316370765473597[Parallel(n_jobs=1)]: Using backend SequentialBackend with 1 concurrent workers.\n",
      "[Parallel(n_jobs=1)]: Done   1 out of   1 | elapsed:    0.0s remaining:    0.0s\n",
      "[Parallel(n_jobs=1)]: Done   9 out of   9 | elapsed:    0.1s finished\n",
      "\n",
      "[2021-08-05 12:23:12] Features: 8/1 -- score: 0.2739750715783848[Parallel(n_jobs=1)]: Using backend SequentialBackend with 1 concurrent workers.\n",
      "[Parallel(n_jobs=1)]: Done   1 out of   1 | elapsed:    0.0s remaining:    0.0s\n",
      "[Parallel(n_jobs=1)]: Done   8 out of   8 | elapsed:    0.1s finished\n",
      "\n",
      "[2021-08-05 12:23:13] Features: 7/1 -- score: 0.2739751646460153[Parallel(n_jobs=1)]: Using backend SequentialBackend with 1 concurrent workers.\n",
      "[Parallel(n_jobs=1)]: Done   1 out of   1 | elapsed:    0.0s remaining:    0.0s\n",
      "[Parallel(n_jobs=1)]: Done   7 out of   7 | elapsed:    0.0s finished\n",
      "\n",
      "[2021-08-05 12:23:13] Features: 6/1 -- score: 0.27246859850973654[Parallel(n_jobs=1)]: Using backend SequentialBackend with 1 concurrent workers.\n",
      "[Parallel(n_jobs=1)]: Done   1 out of   1 | elapsed:    0.0s remaining:    0.0s\n",
      "[Parallel(n_jobs=1)]: Done   6 out of   6 | elapsed:    0.0s finished\n",
      "\n",
      "[2021-08-05 12:23:13] Features: 5/1 -- score: 0.2667934266541939[Parallel(n_jobs=1)]: Using backend SequentialBackend with 1 concurrent workers.\n",
      "[Parallel(n_jobs=1)]: Done   1 out of   1 | elapsed:    0.0s remaining:    0.0s\n",
      "[Parallel(n_jobs=1)]: Done   5 out of   5 | elapsed:    0.0s finished\n",
      "\n",
      "[2021-08-05 12:23:13] Features: 4/1 -- score: 0.25898932339359704[Parallel(n_jobs=1)]: Using backend SequentialBackend with 1 concurrent workers.\n",
      "[Parallel(n_jobs=1)]: Done   1 out of   1 | elapsed:    0.0s remaining:    0.0s\n",
      "[Parallel(n_jobs=1)]: Done   4 out of   4 | elapsed:    0.0s finished\n",
      "\n",
      "[2021-08-05 12:23:13] Features: 3/1 -- score: 0.25400120554059435[Parallel(n_jobs=1)]: Using backend SequentialBackend with 1 concurrent workers.\n",
      "[Parallel(n_jobs=1)]: Done   1 out of   1 | elapsed:    0.0s remaining:    0.0s\n",
      "[Parallel(n_jobs=1)]: Done   3 out of   3 | elapsed:    0.0s finished\n",
      "\n",
      "[2021-08-05 12:23:13] Features: 2/1 -- score: 0.23629929361188456[Parallel(n_jobs=1)]: Using backend SequentialBackend with 1 concurrent workers.\n",
      "[Parallel(n_jobs=1)]: Done   1 out of   1 | elapsed:    0.0s remaining:    0.0s\n",
      "[Parallel(n_jobs=1)]: Done   2 out of   2 | elapsed:    0.0s finished\n",
      "\n",
      "[2021-08-05 12:23:13] Features: 1/1 -- score: 0.18565846860352717"
     ]
    }
   ],
   "source": [
    "be1=sfs(lr,k_features='best',forward=False,scoring='r2',verbose=2)\n",
    "model5=be1.fit(X_train,y_train)"
   ]
  },
  {
   "cell_type": "code",
   "execution_count": 48,
   "metadata": {},
   "outputs": [
    {
     "data": {
      "text/plain": [
       "('volatile acidity',\n",
       " 'residual sugar',\n",
       " 'free sulfur dioxide',\n",
       " 'density',\n",
       " 'pH',\n",
       " 'sulphates',\n",
       " 'alcohol')"
      ]
     },
     "execution_count": 48,
     "metadata": {},
     "output_type": "execute_result"
    }
   ],
   "source": [
    "model5.k_feature_names_"
   ]
  },
  {
   "cell_type": "code",
   "execution_count": 49,
   "metadata": {},
   "outputs": [
    {
     "data": {
      "text/plain": [
       "0.2739751646460153"
      ]
     },
     "execution_count": 49,
     "metadata": {},
     "output_type": "execute_result"
    }
   ],
   "source": [
    "model5.k_score_"
   ]
  },
  {
   "cell_type": "code",
   "execution_count": 50,
   "metadata": {},
   "outputs": [],
   "source": [
    "#almost same"
   ]
  },
  {
   "cell_type": "markdown",
   "metadata": {
    "collapsed": true
   },
   "source": [
    "<table align=\"left\">\n",
    "    <tr>\n",
    "        <td width=\"6%\">\n",
    "            <img src=\"question_icon.png\">\n",
    "        </td>\n",
    "        <td>\n",
    "            <div align=\"left\", style=\"font-size:120%\">\n",
    "                <font color=\"#21618C\">\n",
    "                    <b>15. Find the best set of significant variables from the dataset among all the possible subsets of the variables. Build a linear regression model using the best subset and find the R-Squared value for that model.</b>\n",
    "                </font>\n",
    "            </div>\n",
    "        </td>\n",
    "    </tr>\n",
    "</table>"
   ]
  },
  {
   "cell_type": "code",
   "execution_count": 51,
   "metadata": {},
   "outputs": [],
   "source": [
    "rfe1=RFE(lr,n_features_to_select=5)\n",
    "model6=rfe1.fit(X_train,y_train)"
   ]
  },
  {
   "cell_type": "code",
   "execution_count": 52,
   "metadata": {},
   "outputs": [
    {
     "data": {
      "text/html": [
       "<div>\n",
       "<style scoped>\n",
       "    .dataframe tbody tr th:only-of-type {\n",
       "        vertical-align: middle;\n",
       "    }\n",
       "\n",
       "    .dataframe tbody tr th {\n",
       "        vertical-align: top;\n",
       "    }\n",
       "\n",
       "    .dataframe thead th {\n",
       "        text-align: right;\n",
       "    }\n",
       "</style>\n",
       "<table border=\"1\" class=\"dataframe\">\n",
       "  <thead>\n",
       "    <tr style=\"text-align: right;\">\n",
       "      <th></th>\n",
       "      <th>rank</th>\n",
       "    </tr>\n",
       "  </thead>\n",
       "  <tbody>\n",
       "    <tr>\n",
       "      <th>fixed acidity</th>\n",
       "      <td>5</td>\n",
       "    </tr>\n",
       "    <tr>\n",
       "      <th>volatile acidity</th>\n",
       "      <td>1</td>\n",
       "    </tr>\n",
       "    <tr>\n",
       "      <th>citric acid</th>\n",
       "      <td>9</td>\n",
       "    </tr>\n",
       "    <tr>\n",
       "      <th>residual sugar</th>\n",
       "      <td>4</td>\n",
       "    </tr>\n",
       "    <tr>\n",
       "      <th>chlorides</th>\n",
       "      <td>2</td>\n",
       "    </tr>\n",
       "    <tr>\n",
       "      <th>free sulfur dioxide</th>\n",
       "      <td>8</td>\n",
       "    </tr>\n",
       "    <tr>\n",
       "      <th>total sulfur dioxide</th>\n",
       "      <td>10</td>\n",
       "    </tr>\n",
       "    <tr>\n",
       "      <th>density</th>\n",
       "      <td>1</td>\n",
       "    </tr>\n",
       "    <tr>\n",
       "      <th>pH</th>\n",
       "      <td>6</td>\n",
       "    </tr>\n",
       "    <tr>\n",
       "      <th>sulphates</th>\n",
       "      <td>1</td>\n",
       "    </tr>\n",
       "    <tr>\n",
       "      <th>alcohol</th>\n",
       "      <td>1</td>\n",
       "    </tr>\n",
       "    <tr>\n",
       "      <th>sugar_root</th>\n",
       "      <td>1</td>\n",
       "    </tr>\n",
       "    <tr>\n",
       "      <th>scaled_pH</th>\n",
       "      <td>3</td>\n",
       "    </tr>\n",
       "    <tr>\n",
       "      <th>scaled_citric_acid</th>\n",
       "      <td>7</td>\n",
       "    </tr>\n",
       "  </tbody>\n",
       "</table>\n",
       "</div>"
      ],
      "text/plain": [
       "                      rank\n",
       "fixed acidity            5\n",
       "volatile acidity         1\n",
       "citric acid              9\n",
       "residual sugar           4\n",
       "chlorides                2\n",
       "free sulfur dioxide      8\n",
       "total sulfur dioxide    10\n",
       "density                  1\n",
       "pH                       6\n",
       "sulphates                1\n",
       "alcohol                  1\n",
       "sugar_root               1\n",
       "scaled_pH                3\n",
       "scaled_citric_acid       7"
      ]
     },
     "execution_count": 52,
     "metadata": {},
     "output_type": "execute_result"
    }
   ],
   "source": [
    "feat_index=pd.DataFrame(model6.ranking_,index=X_train.columns,columns=['rank'])\n",
    "feat_index"
   ]
  },
  {
   "cell_type": "code",
   "execution_count": 53,
   "metadata": {},
   "outputs": [
    {
     "data": {
      "text/plain": [
       "['volatile acidity', 'density', 'sulphates', 'alcohol', 'sugar_root']"
      ]
     },
     "execution_count": 53,
     "metadata": {},
     "output_type": "execute_result"
    }
   ],
   "source": [
    "feat_index[feat_index['rank']==1].index.to_list()"
   ]
  },
  {
   "cell_type": "code",
   "execution_count": 54,
   "metadata": {},
   "outputs": [
    {
     "data": {
      "text/plain": [
       "0.2712898665074829"
      ]
     },
     "execution_count": 54,
     "metadata": {},
     "output_type": "execute_result"
    }
   ],
   "source": [
    "X1=X_train[feat_index[feat_index['rank']==1].index.to_list()]\n",
    "model7=lr.fit(X1,y_train)\n",
    "model7.score(X1,y_train)"
   ]
  },
  {
   "cell_type": "markdown",
   "metadata": {
    "collapsed": true
   },
   "source": [
    "<table align=\"left\">\n",
    "    <tr>\n",
    "        <td width=\"6%\">\n",
    "            <img src=\"question_icon.png\">\n",
    "        </td>\n",
    "        <td>\n",
    "            <div align=\"left\", style=\"font-size:120%\">\n",
    "                <font color=\"#21618C\">\n",
    "                    <b>16. Calculate the RMSE for the train set and test set for the model created using the top 5 variables obtained from forward selection in question 10. Check if the model is overfitted on the train set or not. If yes, then why do you think so?</b>\n",
    "                </font>\n",
    "            </div>\n",
    "        </td>\n",
    "    </tr>\n",
    "</table>"
   ]
  },
  {
   "cell_type": "code",
   "execution_count": 55,
   "metadata": {},
   "outputs": [
    {
     "name": "stderr",
     "output_type": "stream",
     "text": [
      "[Parallel(n_jobs=1)]: Using backend SequentialBackend with 1 concurrent workers.\n",
      "[Parallel(n_jobs=1)]: Done   1 out of   1 | elapsed:    0.0s remaining:    0.0s\n",
      "[Parallel(n_jobs=1)]: Done  14 out of  14 | elapsed:    0.1s finished\n",
      "\n",
      "[2021-08-05 12:23:14] Features: 1/5 -- score: 0.18565846860352717[Parallel(n_jobs=1)]: Using backend SequentialBackend with 1 concurrent workers.\n",
      "[Parallel(n_jobs=1)]: Done   1 out of   1 | elapsed:    0.0s remaining:    0.0s\n",
      "[Parallel(n_jobs=1)]: Done  13 out of  13 | elapsed:    0.1s finished\n",
      "\n",
      "[2021-08-05 12:23:15] Features: 2/5 -- score: 0.23629929361188456[Parallel(n_jobs=1)]: Using backend SequentialBackend with 1 concurrent workers.\n",
      "[Parallel(n_jobs=1)]: Done   1 out of   1 | elapsed:    0.0s remaining:    0.0s\n",
      "[Parallel(n_jobs=1)]: Done  12 out of  12 | elapsed:    0.1s finished\n",
      "\n",
      "[2021-08-05 12:23:15] Features: 3/5 -- score: 0.2583305552189094[Parallel(n_jobs=1)]: Using backend SequentialBackend with 1 concurrent workers.\n",
      "[Parallel(n_jobs=1)]: Done   1 out of   1 | elapsed:    0.0s remaining:    0.0s\n",
      "[Parallel(n_jobs=1)]: Done  11 out of  11 | elapsed:    0.1s finished\n",
      "\n",
      "[2021-08-05 12:23:15] Features: 4/5 -- score: 0.2642076005730881[Parallel(n_jobs=1)]: Using backend SequentialBackend with 1 concurrent workers.\n",
      "[Parallel(n_jobs=1)]: Done   1 out of   1 | elapsed:    0.0s remaining:    0.0s\n",
      "[Parallel(n_jobs=1)]: Done  10 out of  10 | elapsed:    0.1s finished\n",
      "\n",
      "[2021-08-05 12:23:15] Features: 5/5 -- score: 0.2685242748182352"
     ]
    }
   ],
   "source": [
    "lr=LinearRegression()\n",
    "fs=sfs(lr,k_features=5,forward=True,scoring='r2',verbose=2)\n",
    "X=wine.drop(['quality'],axis=1)\n",
    "y=wine['quality']\n",
    "X_train,X_test,y_train,y_test=train_test_split(X,y,test_size=0.2,random_state=10)\n",
    "model1=fs.fit(X_train,y_train)"
   ]
  },
  {
   "cell_type": "code",
   "execution_count": 56,
   "metadata": {},
   "outputs": [],
   "source": [
    "X=wine[list(model1.k_feature_names_)]\n",
    "y=wine['quality']\n",
    "X_train,X_test,y_train,y_test=train_test_split(X,y,test_size=0.2,random_state=10)"
   ]
  },
  {
   "cell_type": "code",
   "execution_count": 57,
   "metadata": {},
   "outputs": [],
   "source": [
    "lrmodel=lr.fit(X_train,y_train)\n",
    "train_predict=lrmodel.predict(X_train)\n",
    "test_predict=lrmodel.predict(X_test)\n",
    "train_rmse=np.sqrt(mean_squared_error(y_train,train_predict))\n",
    "test_rmse=np.sqrt(mean_squared_error(y_test,test_predict))"
   ]
  },
  {
   "cell_type": "code",
   "execution_count": 58,
   "metadata": {},
   "outputs": [
    {
     "data": {
      "text/plain": [
       "(0.7576335763800829, 0.7538151523395094)"
      ]
     },
     "execution_count": 58,
     "metadata": {},
     "output_type": "execute_result"
    }
   ],
   "source": [
    "train_rmse,test_rmse #underfit"
   ]
  },
  {
   "cell_type": "markdown",
   "metadata": {},
   "source": [
    "<a id=\"cv\"> </a>\n",
    "## 3. Model Validation"
   ]
  },
  {
   "cell_type": "markdown",
   "metadata": {
    "collapsed": true
   },
   "source": [
    "<table align=\"left\">\n",
    "    <tr>\n",
    "        <td width=\"6%\">\n",
    "            <img src=\"question_icon.png\">\n",
    "        </td>\n",
    "        <td>\n",
    "            <div align=\"left\", style=\"font-size:120%\">\n",
    "                <font color=\"#21618C\">\n",
    "                    <b>17. Create a new feature based on the 'pH' which tells whether wine is acidic, basic or neutral. Will this variable significantly contribute to the model?</b>\n",
    "                </font>\n",
    "            </div>\n",
    "        </td>\n",
    "    </tr>\n",
    "</table>"
   ]
  },
  {
   "cell_type": "code",
   "execution_count": 59,
   "metadata": {},
   "outputs": [
    {
     "data": {
      "text/plain": [
       "A    4898\n",
       "Name: New_pH, dtype: int64"
      ]
     },
     "execution_count": 59,
     "metadata": {},
     "output_type": "execute_result"
    }
   ],
   "source": [
    "New_pH=[]\n",
    "for i in range(0, wine.pH.shape[0]):\n",
    "    if wine.pH.iloc[i]==7:\n",
    "        New_pH.append('N')\n",
    "    elif wine.pH.iloc[i]>7:\n",
    "        New_pH.append('B')\n",
    "    elif wine.pH.iloc[i]<7:\n",
    "        New_pH.append('A')\n",
    "wine['New_pH']= New_pH\n",
    "wine.New_pH.value_counts() #only one type and"
   ]
  },
  {
   "cell_type": "markdown",
   "metadata": {
    "collapsed": true
   },
   "source": [
    "<table align=\"left\">\n",
    "    <tr>\n",
    "        <td width=\"6%\">\n",
    "            <img src=\"question_icon.png\">\n",
    "        </td>\n",
    "        <td>\n",
    "            <div align=\"left\", style=\"font-size:120%\">\n",
    "                <font color=\"#21618C\">\n",
    "                    <b>18. Fit the a full model. Validate the model using cross validation method</b>\n",
    "                </font>\n",
    "            </div>\n",
    "        </td>\n",
    "    </tr>\n",
    "</table>"
   ]
  },
  {
   "cell_type": "code",
   "execution_count": 60,
   "metadata": {},
   "outputs": [],
   "source": [
    "from sklearn.linear_model import LinearRegression\n",
    "from sklearn.model_selection import train_test_split"
   ]
  },
  {
   "cell_type": "code",
   "execution_count": 71,
   "metadata": {},
   "outputs": [
    {
     "data": {
      "text/plain": [
       "(3918, 11)"
      ]
     },
     "execution_count": 71,
     "metadata": {},
     "output_type": "execute_result"
    }
   ],
   "source": [
    "x=wine.drop('quality',axis=1)\n",
    "y=wine['quality']\n",
    "x_train,x_test,y_train,y_test=train_test_split(x,y,test_size=0.2,random_state=10)\n",
    "lr=LinearRegression()\n",
    "x_train.shape"
   ]
  },
  {
   "cell_type": "code",
   "execution_count": 72,
   "metadata": {},
   "outputs": [],
   "source": [
    "scores = cross_val_score(estimator = LinearRegression(), \n",
    "                         X = x_train, \n",
    "                         y = y_train, \n",
    "                         cv = 10, \n",
    "                         scoring = 'r2')"
   ]
  },
  {
   "cell_type": "code",
   "execution_count": 73,
   "metadata": {},
   "outputs": [
    {
     "data": {
      "text/plain": [
       "0.27192978235421544"
      ]
     },
     "execution_count": 73,
     "metadata": {},
     "output_type": "execute_result"
    }
   ],
   "source": [
    "scores.mean()"
   ]
  },
  {
   "cell_type": "markdown",
   "metadata": {
    "collapsed": true
   },
   "source": [
    "<table align=\"left\">\n",
    "    <tr>\n",
    "        <td width=\"6%\">\n",
    "            <img src=\"question_icon.png\">\n",
    "        </td>\n",
    "        <td>\n",
    "            <div align=\"left\", style=\"font-size:120%\">\n",
    "                <font color=\"#21618C\">\n",
    "                    <b>19. Fit the a full model. Validate the model using 5 - fold cross validation</b>\n",
    "                </font>\n",
    "            </div>\n",
    "        </td>\n",
    "    </tr>\n",
    "</table>"
   ]
  },
  {
   "cell_type": "code",
   "execution_count": 74,
   "metadata": {},
   "outputs": [
    {
     "data": {
      "text/plain": [
       "0.2685242748182351"
      ]
     },
     "execution_count": 74,
     "metadata": {},
     "output_type": "execute_result"
    }
   ],
   "source": [
    "scores = cross_val_score(estimator = LinearRegression(), \n",
    "                         X = X_train, \n",
    "                         y = y_train, \n",
    "                         cv = 5, \n",
    "                         scoring = 'r2')\n",
    "scores.mean()"
   ]
  },
  {
   "cell_type": "markdown",
   "metadata": {
    "collapsed": true
   },
   "source": [
    "<table align=\"left\">\n",
    "    <tr>\n",
    "        <td width=\"6%\">\n",
    "            <img src=\"question_icon.png\">\n",
    "        </td>\n",
    "        <td>\n",
    "            <div align=\"left\", style=\"font-size:120%\">\n",
    "                <font color=\"#21618C\">\n",
    "                    <b>20. Fit the a full model. Validate the model using leave one out cross validation</b>\n",
    "                </font>\n",
    "            </div>\n",
    "        </td>\n",
    "    </tr>\n",
    "</table>"
   ]
  },
  {
   "cell_type": "code",
   "execution_count": 76,
   "metadata": {},
   "outputs": [],
   "source": [
    "loocv_rmse = []\n",
    "\n",
    "loocv = LeaveOneOut()\n",
    "for train_index, test_index in loocv.split(X_train):\n",
    "    X_train_l, X_test_l, y_train_l, y_test_l = X_train.iloc[train_index], X_train.iloc[test_index], \\\n",
    "                                               y_train.iloc[train_index], y_train.iloc[test_index]\n",
    "    linreg = LinearRegression()\n",
    "    linreg.fit(X_train_l, y_train_l)\n",
    "    mse = mean_squared_error(y_test_l, linreg.predict(X_test_l))\n",
    "    rmse = np.sqrt(mse)\n",
    "    loocv_rmse.append(rmse)"
   ]
  },
  {
   "cell_type": "code",
   "execution_count": 77,
   "metadata": {},
   "outputs": [
    {
     "data": {
      "text/plain": [
       "0.5923926723461611"
      ]
     },
     "execution_count": 77,
     "metadata": {},
     "output_type": "execute_result"
    }
   ],
   "source": [
    "np.array(loocv_rmse).mean()"
   ]
  }
 ],
 "metadata": {
  "kernelspec": {
   "display_name": "Python 3 (ipykernel)",
   "language": "python",
   "name": "python3"
  },
  "language_info": {
   "codemirror_mode": {
    "name": "ipython",
    "version": 3
   },
   "file_extension": ".py",
   "mimetype": "text/x-python",
   "name": "python",
   "nbconvert_exporter": "python",
   "pygments_lexer": "ipython3",
   "version": "3.9.7"
  }
 },
 "nbformat": 4,
 "nbformat_minor": 2
}
