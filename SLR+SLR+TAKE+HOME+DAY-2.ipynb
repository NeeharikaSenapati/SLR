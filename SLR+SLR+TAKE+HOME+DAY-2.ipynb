{
 "cells": [
  {
   "cell_type": "markdown",
   "metadata": {},
   "source": [
    "<table align=\"center\" width=100%>\n",
    "    <tr>\n",
    "        <td width=\"15%\">\n",
    "            <img src=\"homework.png\">\n",
    "        </td>\n",
    "        <td>\n",
    "            <div align=\"center\">\n",
    "                <font color=\"#21618C\" size=8px>\n",
    "                    <b> Take-Home <br>(Day 2)\n",
    "                    </b>\n",
    "                </font>\n",
    "            </div>\n",
    "        </td>\n",
    "    </tr>\n",
    "</table>"
   ]
  },
  {
   "cell_type": "markdown",
   "metadata": {},
   "source": [
    "#### Import the required libraries"
   ]
  },
  {
   "cell_type": "code",
   "execution_count": 121,
   "metadata": {},
   "outputs": [],
   "source": [
    "# import 'Pandas' \n",
    "import pandas as pd \n",
    "\n",
    "# import 'Numpy' \n",
    "import numpy as np\n",
    "\n",
    "# import subpackage of Matplotlib\n",
    "import matplotlib.pyplot as plt\n",
    "\n",
    "# import 'Seaborn' \n",
    "import seaborn as sns\n",
    "\n",
    "# to suppress warnings \n",
    "from warnings import filterwarnings\n",
    "filterwarnings('ignore')\n",
    "\n",
    "# display all columns of the dataframe\n",
    "pd.options.display.max_columns = None\n",
    "\n",
    "# display all rows of the dataframe\n",
    "pd.options.display.max_rows = None\n",
    " \n",
    "# to display the float values upto 6 decimal places     \n",
    "pd.options.display.float_format = '{:.6f}'.format\n",
    "\n",
    "# import train-test split \n",
    "from sklearn.model_selection import train_test_split\n",
    "\n",
    "# import various functions from statsmodels\n",
    "import statsmodels\n",
    "import statsmodels.api as sm\n",
    "import statsmodels.stats.api as sms\n",
    "from statsmodels.graphics.gofplots import qqplot\n",
    "\n",
    "# import 'stats'\n",
    "from scipy import stats\n",
    "\n",
    "# 'metrics' from sklearn is used for evaluating the model performance\n",
    "from sklearn.metrics import mean_squared_error\n",
    "\n",
    "# import functions to perform feature selection\n",
    "#from mlxtend.feature_selection import SequentialFeatureSelector as sfs\n",
    "from sklearn.feature_selection import RFE\n",
    "\n",
    "# import function to perform linear regression\n",
    "from sklearn.linear_model import LinearRegression\n",
    "\n",
    "# import functions to perform cross validation\n",
    "from sklearn.model_selection import LeaveOneOut\n",
    "from sklearn.model_selection import cross_val_score\n",
    "from sklearn.model_selection import KFold"
   ]
  },
  {
   "cell_type": "markdown",
   "metadata": {},
   "source": [
    "#### Read the data\n",
    "\n",
    "Load the csv file and print the first five observations."
   ]
  },
  {
   "cell_type": "code",
   "execution_count": 149,
   "metadata": {},
   "outputs": [
    {
     "data": {
      "text/html": [
       "<div>\n",
       "<style scoped>\n",
       "    .dataframe tbody tr th:only-of-type {\n",
       "        vertical-align: middle;\n",
       "    }\n",
       "\n",
       "    .dataframe tbody tr th {\n",
       "        vertical-align: top;\n",
       "    }\n",
       "\n",
       "    .dataframe thead th {\n",
       "        text-align: right;\n",
       "    }\n",
       "</style>\n",
       "<table border=\"1\" class=\"dataframe\">\n",
       "  <thead>\n",
       "    <tr style=\"text-align: right;\">\n",
       "      <th></th>\n",
       "      <th>carat</th>\n",
       "      <th>cut</th>\n",
       "      <th>color</th>\n",
       "      <th>depth</th>\n",
       "      <th>table</th>\n",
       "      <th>price</th>\n",
       "      <th>x</th>\n",
       "      <th>y</th>\n",
       "      <th>z</th>\n",
       "    </tr>\n",
       "  </thead>\n",
       "  <tbody>\n",
       "    <tr>\n",
       "      <td>0</td>\n",
       "      <td>0.300000</td>\n",
       "      <td>Good</td>\n",
       "      <td>F</td>\n",
       "      <td>61.100000</td>\n",
       "      <td>61.000000</td>\n",
       "      <td>682</td>\n",
       "      <td>4.290000</td>\n",
       "      <td>4.320000</td>\n",
       "      <td>2.630000</td>\n",
       "    </tr>\n",
       "    <tr>\n",
       "      <td>1</td>\n",
       "      <td>0.720000</td>\n",
       "      <td>Ideal</td>\n",
       "      <td>H</td>\n",
       "      <td>62.000000</td>\n",
       "      <td>56.000000</td>\n",
       "      <td>2443</td>\n",
       "      <td>5.800000</td>\n",
       "      <td>5.740000</td>\n",
       "      <td>3.580000</td>\n",
       "    </tr>\n",
       "    <tr>\n",
       "      <td>2</td>\n",
       "      <td>1.710000</td>\n",
       "      <td>Premium</td>\n",
       "      <td>J</td>\n",
       "      <td>62.900000</td>\n",
       "      <td>58.000000</td>\n",
       "      <td>8848</td>\n",
       "      <td>7.640000</td>\n",
       "      <td>7.580000</td>\n",
       "      <td>4.790000</td>\n",
       "    </tr>\n",
       "    <tr>\n",
       "      <td>3</td>\n",
       "      <td>1.010000</td>\n",
       "      <td>Premium</td>\n",
       "      <td>E</td>\n",
       "      <td>59.200000</td>\n",
       "      <td>59.000000</td>\n",
       "      <td>7287</td>\n",
       "      <td>6.670000</td>\n",
       "      <td>6.600000</td>\n",
       "      <td>3.930000</td>\n",
       "    </tr>\n",
       "    <tr>\n",
       "      <td>4</td>\n",
       "      <td>0.520000</td>\n",
       "      <td>Ideal</td>\n",
       "      <td>D</td>\n",
       "      <td>62.700000</td>\n",
       "      <td>56.000000</td>\n",
       "      <td>1720</td>\n",
       "      <td>5.170000</td>\n",
       "      <td>5.140000</td>\n",
       "      <td>3.230000</td>\n",
       "    </tr>\n",
       "  </tbody>\n",
       "</table>\n",
       "</div>"
      ],
      "text/plain": [
       "     carat      cut color     depth     table  price        x        y  \\\n",
       "0 0.300000     Good     F 61.100000 61.000000    682 4.290000 4.320000   \n",
       "1 0.720000    Ideal     H 62.000000 56.000000   2443 5.800000 5.740000   \n",
       "2 1.710000  Premium     J 62.900000 58.000000   8848 7.640000 7.580000   \n",
       "3 1.010000  Premium     E 59.200000 59.000000   7287 6.670000 6.600000   \n",
       "4 0.520000    Ideal     D 62.700000 56.000000   1720 5.170000 5.140000   \n",
       "\n",
       "         z  \n",
       "0 2.630000  \n",
       "1 3.580000  \n",
       "2 4.790000  \n",
       "3 3.930000  \n",
       "4 3.230000  "
      ]
     },
     "execution_count": 149,
     "metadata": {},
     "output_type": "execute_result"
    }
   ],
   "source": [
    "df = pd.read_csv('diamond_data.csv')\n",
    "df.head()"
   ]
  },
  {
   "cell_type": "code",
   "execution_count": 3,
   "metadata": {},
   "outputs": [
    {
     "data": {
      "text/plain": [
       "carat    0\n",
       "cut      0\n",
       "color    0\n",
       "depth    0\n",
       "table    0\n",
       "price    0\n",
       "x        0\n",
       "y        0\n",
       "z        0\n",
       "dtype: int64"
      ]
     },
     "execution_count": 3,
     "metadata": {},
     "output_type": "execute_result"
    }
   ],
   "source": [
    "df.isna().sum()"
   ]
  },
  {
   "cell_type": "code",
   "execution_count": 4,
   "metadata": {},
   "outputs": [
    {
     "data": {
      "text/plain": [
       "carat    float64\n",
       "cut       object\n",
       "color     object\n",
       "depth    float64\n",
       "table    float64\n",
       "price      int64\n",
       "x        float64\n",
       "y        float64\n",
       "z        float64\n",
       "dtype: object"
      ]
     },
     "execution_count": 4,
     "metadata": {},
     "output_type": "execute_result"
    }
   ],
   "source": [
    "df.dtypes"
   ]
  },
  {
   "cell_type": "markdown",
   "metadata": {},
   "source": [
    "Our objective is to predict the price of the diamond."
   ]
  },
  {
   "cell_type": "markdown",
   "metadata": {},
   "source": [
    "**The data definition is as follows:** <br>\n",
    "\n",
    "**carat**: Weight of the diamond\n",
    "\n",
    "**cut**: Quality of the cut (Fair, Good, Very Good, Premium, Ideal)\n",
    "\n",
    "**color**: Diamond color\n",
    "\n",
    "**depth**: Total depth percentage (it is calculated as: 2 * z / (x + y))\n",
    "\n",
    "**table**: Width of top of the diamond relative to the widest point \n",
    "\n",
    "**price**: Price of a diamond in US dollars (target/dependent variable)\n",
    "\n",
    "**x**: Length of a diamond in mm\n",
    "\n",
    "**y**: Width of a diamond in mm\n",
    "\n",
    "**z**: Depth of a diamond in mm"
   ]
  },
  {
   "cell_type": "markdown",
   "metadata": {},
   "source": [
    "### Let's begin with some hands-on practice exercises"
   ]
  },
  {
   "cell_type": "markdown",
   "metadata": {},
   "source": [
    "<table align=\"left\">\n",
    "    <tr>\n",
    "        <td width=\"6%\">\n",
    "            <img src=\"question_icon.png\">\n",
    "        </td>\n",
    "        <td>\n",
    "            <div align=\"left\", style=\"font-size:120%\">\n",
    "                <font color=\"#21618C\">\n",
    "                    <b>1. Is the variable representing the width of a diamond skewed? If yes, apply an appropriate technique to make the distribution less skewed </b>\n",
    "                </font>\n",
    "            </div>\n",
    "        </td>\n",
    "    </tr>\n",
    "</table>"
   ]
  },
  {
   "cell_type": "code",
   "execution_count": 5,
   "metadata": {},
   "outputs": [
    {
     "data": {
      "text/plain": [
       "0.4383878452014628"
      ]
     },
     "execution_count": 5,
     "metadata": {},
     "output_type": "execute_result"
    }
   ],
   "source": [
    "df['y'].skew()"
   ]
  },
  {
   "cell_type": "code",
   "execution_count": null,
   "metadata": {},
   "outputs": [],
   "source": [
    "sns.distplot(df['y'])"
   ]
  },
  {
   "cell_type": "code",
   "execution_count": 7,
   "metadata": {},
   "outputs": [
    {
     "data": {
      "text/plain": [
       "0.15322643692701352"
      ]
     },
     "execution_count": 7,
     "metadata": {},
     "output_type": "execute_result"
    }
   ],
   "source": [
    "np.log(df['y']).skew()"
   ]
  },
  {
   "cell_type": "code",
   "execution_count": 8,
   "metadata": {},
   "outputs": [],
   "source": [
    "from sklearn.preprocessing import PowerTransformer"
   ]
  },
  {
   "cell_type": "code",
   "execution_count": 9,
   "metadata": {},
   "outputs": [],
   "source": [
    "pt = PowerTransformer()"
   ]
  },
  {
   "cell_type": "code",
   "execution_count": 16,
   "metadata": {},
   "outputs": [
    {
     "name": "stdout",
     "output_type": "stream",
     "text": [
      "the skewness after applying transformation using power transforme is 0   0.041319\n",
      "dtype: float64\n"
     ]
    }
   ],
   "source": [
    "r = pd.DataFrame(pt.fit_transform(df[['y']]))\n",
    "print('the skewness after applying transformation using power transforme is',r.skew())"
   ]
  },
  {
   "cell_type": "code",
   "execution_count": 15,
   "metadata": {},
   "outputs": [
    {
     "data": {
      "text/plain": [
       "array([-0.67664821])"
      ]
     },
     "execution_count": 15,
     "metadata": {},
     "output_type": "execute_result"
    }
   ],
   "source": [
    "pt.lambdas_"
   ]
  },
  {
   "cell_type": "markdown",
   "metadata": {},
   "source": [
    "<table align=\"left\">\n",
    "    <tr>\n",
    "        <td width=\"6%\">\n",
    "            <img src=\"question_icon.png\">\n",
    "        </td>\n",
    "        <td>\n",
    "            <div align=\"left\", style=\"font-size:120%\">\n",
    "                <font color=\"#21618C\">\n",
    "                    <b>2. Build a full model and check whether the errors have a serial correlation or not</b>\n",
    "                </font>\n",
    "            </div>\n",
    "        </td>\n",
    "    </tr>\n",
    "</table>"
   ]
  },
  {
   "cell_type": "code",
   "execution_count": 17,
   "metadata": {},
   "outputs": [
    {
     "data": {
      "text/html": [
       "<div>\n",
       "<style scoped>\n",
       "    .dataframe tbody tr th:only-of-type {\n",
       "        vertical-align: middle;\n",
       "    }\n",
       "\n",
       "    .dataframe tbody tr th {\n",
       "        vertical-align: top;\n",
       "    }\n",
       "\n",
       "    .dataframe thead th {\n",
       "        text-align: right;\n",
       "    }\n",
       "</style>\n",
       "<table border=\"1\" class=\"dataframe\">\n",
       "  <thead>\n",
       "    <tr style=\"text-align: right;\">\n",
       "      <th></th>\n",
       "      <th>carat</th>\n",
       "      <th>cut</th>\n",
       "      <th>color</th>\n",
       "      <th>depth</th>\n",
       "      <th>table</th>\n",
       "      <th>price</th>\n",
       "      <th>x</th>\n",
       "      <th>y</th>\n",
       "      <th>z</th>\n",
       "    </tr>\n",
       "  </thead>\n",
       "  <tbody>\n",
       "    <tr>\n",
       "      <td>0</td>\n",
       "      <td>0.300000</td>\n",
       "      <td>Good</td>\n",
       "      <td>F</td>\n",
       "      <td>61.100000</td>\n",
       "      <td>61.000000</td>\n",
       "      <td>682</td>\n",
       "      <td>4.290000</td>\n",
       "      <td>4.320000</td>\n",
       "      <td>2.630000</td>\n",
       "    </tr>\n",
       "    <tr>\n",
       "      <td>1</td>\n",
       "      <td>0.720000</td>\n",
       "      <td>Ideal</td>\n",
       "      <td>H</td>\n",
       "      <td>62.000000</td>\n",
       "      <td>56.000000</td>\n",
       "      <td>2443</td>\n",
       "      <td>5.800000</td>\n",
       "      <td>5.740000</td>\n",
       "      <td>3.580000</td>\n",
       "    </tr>\n",
       "    <tr>\n",
       "      <td>2</td>\n",
       "      <td>1.710000</td>\n",
       "      <td>Premium</td>\n",
       "      <td>J</td>\n",
       "      <td>62.900000</td>\n",
       "      <td>58.000000</td>\n",
       "      <td>8848</td>\n",
       "      <td>7.640000</td>\n",
       "      <td>7.580000</td>\n",
       "      <td>4.790000</td>\n",
       "    </tr>\n",
       "    <tr>\n",
       "      <td>3</td>\n",
       "      <td>1.010000</td>\n",
       "      <td>Premium</td>\n",
       "      <td>E</td>\n",
       "      <td>59.200000</td>\n",
       "      <td>59.000000</td>\n",
       "      <td>7287</td>\n",
       "      <td>6.670000</td>\n",
       "      <td>6.600000</td>\n",
       "      <td>3.930000</td>\n",
       "    </tr>\n",
       "    <tr>\n",
       "      <td>4</td>\n",
       "      <td>0.520000</td>\n",
       "      <td>Ideal</td>\n",
       "      <td>D</td>\n",
       "      <td>62.700000</td>\n",
       "      <td>56.000000</td>\n",
       "      <td>1720</td>\n",
       "      <td>5.170000</td>\n",
       "      <td>5.140000</td>\n",
       "      <td>3.230000</td>\n",
       "    </tr>\n",
       "  </tbody>\n",
       "</table>\n",
       "</div>"
      ],
      "text/plain": [
       "     carat      cut color     depth     table  price        x        y  \\\n",
       "0 0.300000     Good     F 61.100000 61.000000    682 4.290000 4.320000   \n",
       "1 0.720000    Ideal     H 62.000000 56.000000   2443 5.800000 5.740000   \n",
       "2 1.710000  Premium     J 62.900000 58.000000   8848 7.640000 7.580000   \n",
       "3 1.010000  Premium     E 59.200000 59.000000   7287 6.670000 6.600000   \n",
       "4 0.520000    Ideal     D 62.700000 56.000000   1720 5.170000 5.140000   \n",
       "\n",
       "         z  \n",
       "0 2.630000  \n",
       "1 3.580000  \n",
       "2 4.790000  \n",
       "3 3.930000  \n",
       "4 3.230000  "
      ]
     },
     "execution_count": 17,
     "metadata": {},
     "output_type": "execute_result"
    }
   ],
   "source": [
    "df.head()"
   ]
  },
  {
   "cell_type": "code",
   "execution_count": 123,
   "metadata": {},
   "outputs": [
    {
     "data": {
      "text/html": [
       "<div>\n",
       "<style scoped>\n",
       "    .dataframe tbody tr th:only-of-type {\n",
       "        vertical-align: middle;\n",
       "    }\n",
       "\n",
       "    .dataframe tbody tr th {\n",
       "        vertical-align: top;\n",
       "    }\n",
       "\n",
       "    .dataframe thead th {\n",
       "        text-align: right;\n",
       "    }\n",
       "</style>\n",
       "<table border=\"1\" class=\"dataframe\">\n",
       "  <thead>\n",
       "    <tr style=\"text-align: right;\">\n",
       "      <th></th>\n",
       "      <th>carat</th>\n",
       "      <th>depth</th>\n",
       "      <th>table</th>\n",
       "      <th>price</th>\n",
       "      <th>x</th>\n",
       "      <th>y</th>\n",
       "      <th>z</th>\n",
       "      <th>cut_Good</th>\n",
       "      <th>cut_Ideal</th>\n",
       "      <th>cut_Premium</th>\n",
       "      <th>cut_Very Good</th>\n",
       "      <th>color_E</th>\n",
       "      <th>color_F</th>\n",
       "      <th>color_G</th>\n",
       "      <th>color_H</th>\n",
       "      <th>color_I</th>\n",
       "      <th>color_J</th>\n",
       "    </tr>\n",
       "  </thead>\n",
       "  <tbody>\n",
       "    <tr>\n",
       "      <td>0</td>\n",
       "      <td>0.300000</td>\n",
       "      <td>61.100000</td>\n",
       "      <td>61.000000</td>\n",
       "      <td>682</td>\n",
       "      <td>4.290000</td>\n",
       "      <td>4.320000</td>\n",
       "      <td>2.630000</td>\n",
       "      <td>1</td>\n",
       "      <td>0</td>\n",
       "      <td>0</td>\n",
       "      <td>0</td>\n",
       "      <td>0</td>\n",
       "      <td>1</td>\n",
       "      <td>0</td>\n",
       "      <td>0</td>\n",
       "      <td>0</td>\n",
       "      <td>0</td>\n",
       "    </tr>\n",
       "    <tr>\n",
       "      <td>1</td>\n",
       "      <td>0.720000</td>\n",
       "      <td>62.000000</td>\n",
       "      <td>56.000000</td>\n",
       "      <td>2443</td>\n",
       "      <td>5.800000</td>\n",
       "      <td>5.740000</td>\n",
       "      <td>3.580000</td>\n",
       "      <td>0</td>\n",
       "      <td>1</td>\n",
       "      <td>0</td>\n",
       "      <td>0</td>\n",
       "      <td>0</td>\n",
       "      <td>0</td>\n",
       "      <td>0</td>\n",
       "      <td>1</td>\n",
       "      <td>0</td>\n",
       "      <td>0</td>\n",
       "    </tr>\n",
       "    <tr>\n",
       "      <td>2</td>\n",
       "      <td>1.710000</td>\n",
       "      <td>62.900000</td>\n",
       "      <td>58.000000</td>\n",
       "      <td>8848</td>\n",
       "      <td>7.640000</td>\n",
       "      <td>7.580000</td>\n",
       "      <td>4.790000</td>\n",
       "      <td>0</td>\n",
       "      <td>0</td>\n",
       "      <td>1</td>\n",
       "      <td>0</td>\n",
       "      <td>0</td>\n",
       "      <td>0</td>\n",
       "      <td>0</td>\n",
       "      <td>0</td>\n",
       "      <td>0</td>\n",
       "      <td>1</td>\n",
       "    </tr>\n",
       "    <tr>\n",
       "      <td>3</td>\n",
       "      <td>1.010000</td>\n",
       "      <td>59.200000</td>\n",
       "      <td>59.000000</td>\n",
       "      <td>7287</td>\n",
       "      <td>6.670000</td>\n",
       "      <td>6.600000</td>\n",
       "      <td>3.930000</td>\n",
       "      <td>0</td>\n",
       "      <td>0</td>\n",
       "      <td>1</td>\n",
       "      <td>0</td>\n",
       "      <td>1</td>\n",
       "      <td>0</td>\n",
       "      <td>0</td>\n",
       "      <td>0</td>\n",
       "      <td>0</td>\n",
       "      <td>0</td>\n",
       "    </tr>\n",
       "    <tr>\n",
       "      <td>4</td>\n",
       "      <td>0.520000</td>\n",
       "      <td>62.700000</td>\n",
       "      <td>56.000000</td>\n",
       "      <td>1720</td>\n",
       "      <td>5.170000</td>\n",
       "      <td>5.140000</td>\n",
       "      <td>3.230000</td>\n",
       "      <td>0</td>\n",
       "      <td>1</td>\n",
       "      <td>0</td>\n",
       "      <td>0</td>\n",
       "      <td>0</td>\n",
       "      <td>0</td>\n",
       "      <td>0</td>\n",
       "      <td>0</td>\n",
       "      <td>0</td>\n",
       "      <td>0</td>\n",
       "    </tr>\n",
       "  </tbody>\n",
       "</table>\n",
       "</div>"
      ],
      "text/plain": [
       "     carat     depth     table  price        x        y        z  cut_Good  \\\n",
       "0 0.300000 61.100000 61.000000    682 4.290000 4.320000 2.630000         1   \n",
       "1 0.720000 62.000000 56.000000   2443 5.800000 5.740000 3.580000         0   \n",
       "2 1.710000 62.900000 58.000000   8848 7.640000 7.580000 4.790000         0   \n",
       "3 1.010000 59.200000 59.000000   7287 6.670000 6.600000 3.930000         0   \n",
       "4 0.520000 62.700000 56.000000   1720 5.170000 5.140000 3.230000         0   \n",
       "\n",
       "   cut_Ideal  cut_Premium  cut_Very Good  color_E  color_F  color_G  color_H  \\\n",
       "0          0            0              0        0        1        0        0   \n",
       "1          1            0              0        0        0        0        1   \n",
       "2          0            1              0        0        0        0        0   \n",
       "3          0            1              0        1        0        0        0   \n",
       "4          1            0              0        0        0        0        0   \n",
       "\n",
       "   color_I  color_J  \n",
       "0        0        0  \n",
       "1        0        0  \n",
       "2        0        1  \n",
       "3        0        0  \n",
       "4        0        0  "
      ]
     },
     "execution_count": 123,
     "metadata": {},
     "output_type": "execute_result"
    }
   ],
   "source": [
    "l = ['cut','color']\n",
    "encode = pd.get_dummies(df,columns=l,drop_first=True)\n",
    "encode.head()"
   ]
  },
  {
   "cell_type": "code",
   "execution_count": 20,
   "metadata": {},
   "outputs": [
    {
     "name": "stdout",
     "output_type": "stream",
     "text": [
      "                            OLS Regression Results                            \n",
      "==============================================================================\n",
      "Dep. Variable:                  price   R-squared:                       0.893\n",
      "Model:                            OLS   Adj. R-squared:                  0.891\n",
      "Method:                 Least Squares   F-statistic:                     794.4\n",
      "Date:                Sat, 31 Jul 2021   Prob (F-statistic):               0.00\n",
      "Time:                        21:24:53   Log-Likelihood:                -13345.\n",
      "No. Observations:                1547   AIC:                         2.672e+04\n",
      "Df Residuals:                    1530   BIC:                         2.681e+04\n",
      "Df Model:                          16                                         \n",
      "Covariance Type:            nonrobust                                         \n",
      "=================================================================================\n",
      "                    coef    std err          t      P>|t|      [0.025      0.975]\n",
      "---------------------------------------------------------------------------------\n",
      "const         -1.066e+04   8378.089     -1.272      0.204   -2.71e+04    5776.269\n",
      "carat          1.322e+04    371.464     35.601      0.000    1.25e+04     1.4e+04\n",
      "depth           273.9828    131.712      2.080      0.038      15.627     532.338\n",
      "table           -30.3427     20.547     -1.477      0.140     -70.646       9.961\n",
      "x             -1692.0142    899.352     -1.881      0.060   -3456.108      72.080\n",
      "y              3092.6570   1044.380      2.961      0.003    1044.089    5141.226\n",
      "z             -5599.5209   2150.582     -2.604      0.009   -9817.921   -1381.121\n",
      "cut_Good        579.7803    249.044      2.328      0.020      91.277    1068.284\n",
      "cut_Ideal      1184.3864    249.248      4.752      0.000     695.482    1673.291\n",
      "cut_Premium     927.6344    237.371      3.908      0.000     462.028    1393.241\n",
      "cut_Very Good   933.0889    243.198      3.837      0.000     456.051    1410.126\n",
      "color_E           2.2611    124.611      0.018      0.986    -242.166     246.688\n",
      "color_F         182.0281    125.368      1.452      0.147     -63.882     427.939\n",
      "color_G         -40.9346    121.618     -0.337      0.736    -279.490     197.621\n",
      "color_H        -606.2675    129.269     -4.690      0.000    -859.831    -352.704\n",
      "color_I       -1016.8542    150.205     -6.770      0.000   -1311.483    -722.225\n",
      "color_J       -1930.5179    180.045    -10.722      0.000   -2283.678   -1577.357\n",
      "==============================================================================\n",
      "Omnibus:                      470.401   Durbin-Watson:                   1.945\n",
      "Prob(Omnibus):                  0.000   Jarque-Bera (JB):             5833.995\n",
      "Skew:                           1.056   Prob(JB):                         0.00\n",
      "Kurtosis:                      12.276   Cond. No.                     2.13e+04\n",
      "==============================================================================\n",
      "\n",
      "Warnings:\n",
      "[1] Standard Errors assume that the covariance matrix of the errors is correctly specified.\n",
      "[2] The condition number is large, 2.13e+04. This might indicate that there are\n",
      "strong multicollinearity or other numerical problems.\n"
     ]
    }
   ],
   "source": [
    "X = encode.drop('price',axis=1)\n",
    "Y = encode.price\n",
    "X = sm.add_constant(X)\n",
    "model = sm.OLS(Y,X).fit()\n",
    "print(model.summary())"
   ]
  },
  {
   "cell_type": "code",
   "execution_count": 25,
   "metadata": {},
   "outputs": [
    {
     "data": {
      "image/png": "[encoded data removed]",
      "text/plain": [
       "<Figure size 1440x1440 with 18 Axes>"
      ]
     },
     "metadata": {
      "needs_background": "light"
     },
     "output_type": "display_data"
    }
   ],
   "source": [
    "fig, ax = plt.subplots(nrows = 6, ncols= 3, figsize=(20, 20))\n",
    "for variable, subplot in zip(X.columns, ax.flatten()):\n",
    "    sns.scatterplot(X[variable], model.resid , ax=subplot)\n"
   ]
  },
  {
   "cell_type": "code",
   "execution_count": null,
   "metadata": {},
   "outputs": [],
   "source": [
    "#no patterns found in residuals of fetaures"
   ]
  },
  {
   "cell_type": "markdown",
   "metadata": {},
   "source": [
    "<table align=\"left\">\n",
    "    <tr>\n",
    "        <td width=\"6%\">\n",
    "            <img src=\"question_icon.png\">\n",
    "        </td>\n",
    "        <td>\n",
    "            <div align=\"left\", style=\"font-size:120%\">\n",
    "                <font color=\"#21618C\">\n",
    "                    <b>3. Add the features one-by-one to obtain the set of features which explains the price of a diamond with the highest accuracy\n",
    "                    </b>\n",
    "                </font>\n",
    "            </div>\n",
    "        </td>\n",
    "    </tr>\n",
    "</table>"
   ]
  },
  {
   "cell_type": "code",
   "execution_count": 67,
   "metadata": {},
   "outputs": [],
   "source": [
    "from mlxtend.feature_selection import SequentialFeatureSelector as sfs"
   ]
  },
  {
   "cell_type": "code",
   "execution_count": 51,
   "metadata": {},
   "outputs": [
    {
     "data": {
      "text/plain": [
       "LinearRegression(copy_X=True, fit_intercept=True, n_jobs=None, normalize=False)"
      ]
     },
     "execution_count": 51,
     "metadata": {},
     "output_type": "execute_result"
    }
   ],
   "source": [
    "lr = LinearRegression()\n",
    "lr.fit(X,Y)"
   ]
  },
  {
   "cell_type": "code",
   "execution_count": 54,
   "metadata": {},
   "outputs": [],
   "source": [
    "sfs_forward = sfs(estimator=lr,k_features=17,scoring='r2',cv=10)\n",
    "sfs = sfs_forward.fit(X,Y)"
   ]
  },
  {
   "cell_type": "code",
   "execution_count": 55,
   "metadata": {},
   "outputs": [
    {
     "data": {
      "text/plain": [
       "{1: {'feature_idx': (1,),\n",
       "  'cv_scores': array([0.85847107, 0.89619931, 0.85923887, 0.87574134, 0.8667215 ,\n",
       "         0.84735115, 0.87573223, 0.84396921, 0.83667501, 0.85904573]),\n",
       "  'avg_score': 0.8619145413349436,\n",
       "  'feature_names': ('carat',),\n",
       "  'ci_bound': 0.012381426407465286,\n",
       "  'std_dev': 0.016670540612690844,\n",
       "  'std_err': 0.005556846870896948},\n",
       " 2: {'feature_idx': (1, 6),\n",
       "  'cv_scores': array([0.85947153, 0.90898521, 0.87811205, 0.88237939, 0.88411241,\n",
       "         0.85632253, 0.87644962, 0.85373925, 0.84131591, 0.86916275]),\n",
       "  'avg_score': 0.8710050661189772,\n",
       "  'feature_names': ('carat', 'z'),\n",
       "  'ci_bound': 0.013604767831544459,\n",
       "  'std_dev': 0.018317666090980053,\n",
       "  'std_err': 0.0061058886969933505},\n",
       " 3: {'feature_idx': (1, 6, 16),\n",
       "  'cv_scores': array([0.86701852, 0.91623448, 0.88372952, 0.88926443, 0.88575342,\n",
       "         0.86489892, 0.8903425 , 0.85846596, 0.85455297, 0.87252079]),\n",
       "  'avg_score': 0.8782781516182547,\n",
       "  'feature_names': ('carat', 'z', 'color_J'),\n",
       "  'ci_bound': 0.013049076326738148,\n",
       "  'std_dev': 0.017569474606886154,\n",
       "  'std_err': 0.005856491535628717},\n",
       " 4: {'feature_idx': (1, 6, 15, 16),\n",
       "  'cv_scores': array([0.86792339, 0.90954723, 0.88559301, 0.89558287, 0.89239533,\n",
       "         0.8707421 , 0.89352961, 0.86086451, 0.86017922, 0.87866761]),\n",
       "  'avg_score': 0.8815024867199721,\n",
       "  'feature_names': ('carat', 'z', 'color_I', 'color_J'),\n",
       "  'ci_bound': 0.011633894475815922,\n",
       "  'std_dev': 0.015664052263470417,\n",
       "  'std_err': 0.005221350754490138},\n",
       " 5: {'feature_idx': (1, 3, 6, 15, 16),\n",
       "  'cv_scores': array([0.86570644, 0.9132116 , 0.88821534, 0.89587986, 0.89625469,\n",
       "         0.87780503, 0.8940396 , 0.85998774, 0.86347887, 0.88822679]),\n",
       "  'avg_score': 0.8842805968260491,\n",
       "  'feature_names': ('carat', 'table', 'z', 'color_I', 'color_J'),\n",
       "  'ci_bound': 0.01209278251497507,\n",
       "  'std_dev': 0.01628190609078616,\n",
       "  'std_err': 0.005427302030262053},\n",
       " 6: {'feature_idx': (1, 3, 6, 14, 15, 16),\n",
       "  'cv_scores': array([0.8722236 , 0.91321039, 0.88768092, 0.89518351, 0.89939818,\n",
       "         0.8819603 , 0.90011442, 0.86244286, 0.8665551 , 0.89089367]),\n",
       "  'avg_score': 0.8869662949682807,\n",
       "  'feature_names': ('carat', 'table', 'z', 'color_H', 'color_I', 'color_J'),\n",
       "  'ci_bound': 0.011409912726650347,\n",
       "  'std_dev': 0.015362479833680345,\n",
       "  'std_err': 0.005120826611226781},\n",
       " 7: {'feature_idx': (1, 3, 6, 8, 14, 15, 16),\n",
       "  'cv_scores': array([0.87291362, 0.91250885, 0.88844434, 0.89680499, 0.89969828,\n",
       "         0.88252274, 0.9017551 , 0.86401312, 0.8659755 , 0.88883212]),\n",
       "  'avg_score': 0.8873468652734724,\n",
       "  'feature_names': ('carat',\n",
       "   'table',\n",
       "   'z',\n",
       "   'cut_Ideal',\n",
       "   'color_H',\n",
       "   'color_I',\n",
       "   'color_J'),\n",
       "  'ci_bound': 0.01131007425098898,\n",
       "  'std_dev': 0.015228055793311423,\n",
       "  'std_err': 0.005076018597770474},\n",
       " 8: {'feature_idx': (1, 3, 4, 6, 8, 14, 15, 16),\n",
       "  'cv_scores': array([0.8728997 , 0.91460582, 0.88883736, 0.8978096 , 0.89894923,\n",
       "         0.88493238, 0.90138497, 0.86072201, 0.86766931, 0.89243288]),\n",
       "  'avg_score': 0.8880243259641475,\n",
       "  'feature_names': ('carat',\n",
       "   'table',\n",
       "   'x',\n",
       "   'z',\n",
       "   'cut_Ideal',\n",
       "   'color_H',\n",
       "   'color_I',\n",
       "   'color_J'),\n",
       "  'ci_bound': 0.011786323637728873,\n",
       "  'std_dev': 0.015869285202762137,\n",
       "  'std_err': 0.005289761734254046},\n",
       " 9: {'feature_idx': (1, 3, 4, 5, 6, 8, 14, 15, 16),\n",
       "  'cv_scores': array([0.87480743, 0.9152233 , 0.88633173, 0.900424  , 0.90114983,\n",
       "         0.88422323, 0.90273709, 0.861118  , 0.86474674, 0.8948322 ]),\n",
       "  'avg_score': 0.8885593557648116,\n",
       "  'feature_names': ('carat',\n",
       "   'table',\n",
       "   'x',\n",
       "   'y',\n",
       "   'z',\n",
       "   'cut_Ideal',\n",
       "   'color_H',\n",
       "   'color_I',\n",
       "   'color_J'),\n",
       "  'ci_bound': 0.012391428371115733,\n",
       "  'std_dev': 0.016684007408498867,\n",
       "  'std_err': 0.005561335802832956},\n",
       " 10: {'feature_idx': (1, 3, 4, 5, 6, 7, 8, 14, 15, 16),\n",
       "  'cv_scores': array([0.87584012, 0.91387141, 0.88646996, 0.90076224, 0.90120422,\n",
       "         0.88528827, 0.90331161, 0.86069269, 0.86363744, 0.89624998]),\n",
       "  'avg_score': 0.8887327956210072,\n",
       "  'feature_names': ('carat',\n",
       "   'table',\n",
       "   'x',\n",
       "   'y',\n",
       "   'z',\n",
       "   'cut_Good',\n",
       "   'cut_Ideal',\n",
       "   'color_H',\n",
       "   'color_I',\n",
       "   'color_J'),\n",
       "  'ci_bound': 0.012429016828041964,\n",
       "  'std_dev': 0.0167346170779453,\n",
       "  'std_err': 0.005578205692648433},\n",
       " 11: {'feature_idx': (1, 3, 4, 5, 6, 7, 8, 12, 14, 15, 16),\n",
       "  'cv_scores': array([0.87562563, 0.91374307, 0.88760108, 0.90192752, 0.90152962,\n",
       "         0.88564244, 0.90341914, 0.8605366 , 0.86125758, 0.8965445 ]),\n",
       "  'avg_score': 0.8887827188987867,\n",
       "  'feature_names': ('carat',\n",
       "   'table',\n",
       "   'x',\n",
       "   'y',\n",
       "   'z',\n",
       "   'cut_Good',\n",
       "   'cut_Ideal',\n",
       "   'color_F',\n",
       "   'color_H',\n",
       "   'color_I',\n",
       "   'color_J'),\n",
       "  'ci_bound': 0.0128052882056252,\n",
       "  'std_dev': 0.017241234577009254,\n",
       "  'std_err': 0.005747078192336418},\n",
       " 12: {'feature_idx': (0, 1, 3, 4, 5, 6, 7, 8, 12, 14, 15, 16),\n",
       "  'cv_scores': array([0.87562563, 0.91374307, 0.88760108, 0.90192752, 0.90152962,\n",
       "         0.88564244, 0.90341914, 0.8605366 , 0.86125758, 0.8965445 ]),\n",
       "  'avg_score': 0.8887827188987867,\n",
       "  'feature_names': ('const',\n",
       "   'carat',\n",
       "   'table',\n",
       "   'x',\n",
       "   'y',\n",
       "   'z',\n",
       "   'cut_Good',\n",
       "   'cut_Ideal',\n",
       "   'color_F',\n",
       "   'color_H',\n",
       "   'color_I',\n",
       "   'color_J'),\n",
       "  'ci_bound': 0.012805288205625143,\n",
       "  'std_dev': 0.017241234577009178,\n",
       "  'std_err': 0.0057470781923363926},\n",
       " 13: {'feature_idx': (0, 1, 2, 3, 4, 5, 6, 7, 8, 12, 14, 15, 16),\n",
       "  'cv_scores': array([0.87664873, 0.91358729, 0.88870946, 0.90265434, 0.90209131,\n",
       "         0.88278471, 0.90455848, 0.86190134, 0.85932829, 0.89538055]),\n",
       "  'avg_score': 0.8887644514674278,\n",
       "  'feature_names': ('const',\n",
       "   'carat',\n",
       "   'depth',\n",
       "   'table',\n",
       "   'x',\n",
       "   'y',\n",
       "   'z',\n",
       "   'cut_Good',\n",
       "   'cut_Ideal',\n",
       "   'color_F',\n",
       "   'color_H',\n",
       "   'color_I',\n",
       "   'color_J'),\n",
       "  'ci_bound': 0.012972194406909093,\n",
       "  'std_dev': 0.017465959622044083,\n",
       "  'std_err': 0.005821986540681361},\n",
       " 14: {'feature_idx': (0, 1, 2, 3, 4, 5, 6, 7, 8, 9, 12, 14, 15, 16),\n",
       "  'cv_scores': array([0.87714366, 0.91381572, 0.88907773, 0.90224236, 0.90221899,\n",
       "         0.88265848, 0.90491254, 0.8613127 , 0.85857296, 0.89486254]),\n",
       "  'avg_score': 0.888681766520311,\n",
       "  'feature_names': ('const',\n",
       "   'carat',\n",
       "   'depth',\n",
       "   'table',\n",
       "   'x',\n",
       "   'y',\n",
       "   'z',\n",
       "   'cut_Good',\n",
       "   'cut_Ideal',\n",
       "   'cut_Premium',\n",
       "   'color_F',\n",
       "   'color_H',\n",
       "   'color_I',\n",
       "   'color_J'),\n",
       "  'ci_bound': 0.01313084612740601,\n",
       "  'std_dev': 0.017679570708745894,\n",
       "  'std_err': 0.0058931902362486304},\n",
       " 15: {'feature_idx': (0, 1, 2, 3, 4, 5, 6, 7, 8, 9, 10, 12, 14, 15, 16),\n",
       "  'cv_scores': array([0.87507909, 0.91299041, 0.88873167, 0.90190061, 0.90355216,\n",
       "         0.88447293, 0.90631929, 0.86400025, 0.86123833, 0.89717849]),\n",
       "  'avg_score': 0.8895463235767078,\n",
       "  'feature_names': ('const',\n",
       "   'carat',\n",
       "   'depth',\n",
       "   'table',\n",
       "   'x',\n",
       "   'y',\n",
       "   'z',\n",
       "   'cut_Good',\n",
       "   'cut_Ideal',\n",
       "   'cut_Premium',\n",
       "   'cut_Very Good',\n",
       "   'color_F',\n",
       "   'color_H',\n",
       "   'color_I',\n",
       "   'color_J'),\n",
       "  'ci_bound': 0.012708094791541344,\n",
       "  'std_dev': 0.017110371887731863,\n",
       "  'std_err': 0.005703457295910621},\n",
       " 16: {'feature_idx': (0, 1, 2, 3, 4, 5, 6, 7, 8, 9, 10, 11, 12, 14, 15, 16),\n",
       "  'cv_scores': array([0.87495874, 0.91301738, 0.88769841, 0.90178316, 0.90356732,\n",
       "         0.88446889, 0.90633111, 0.86401683, 0.86121891, 0.89720753]),\n",
       "  'avg_score': 0.8894268283043729,\n",
       "  'feature_names': ('const',\n",
       "   'carat',\n",
       "   'depth',\n",
       "   'table',\n",
       "   'x',\n",
       "   'y',\n",
       "   'z',\n",
       "   'cut_Good',\n",
       "   'cut_Ideal',\n",
       "   'cut_Premium',\n",
       "   'cut_Very Good',\n",
       "   'color_E',\n",
       "   'color_F',\n",
       "   'color_H',\n",
       "   'color_I',\n",
       "   'color_J'),\n",
       "  'ci_bound': 0.012721199844269605,\n",
       "  'std_dev': 0.017128016729816148,\n",
       "  'std_err': 0.005709338909938716},\n",
       " 17: {'feature_idx': (0,\n",
       "   1,\n",
       "   2,\n",
       "   3,\n",
       "   4,\n",
       "   5,\n",
       "   6,\n",
       "   7,\n",
       "   8,\n",
       "   9,\n",
       "   10,\n",
       "   11,\n",
       "   12,\n",
       "   13,\n",
       "   14,\n",
       "   15,\n",
       "   16),\n",
       "  'cv_scores': array([0.87497201, 0.91296688, 0.88719374, 0.90161835, 0.90333363,\n",
       "         0.88441959, 0.90635656, 0.86370692, 0.86123041, 0.89709607]),\n",
       "  'avg_score': 0.8892894166072274,\n",
       "  'feature_names': ('const',\n",
       "   'carat',\n",
       "   'depth',\n",
       "   'table',\n",
       "   'x',\n",
       "   'y',\n",
       "   'z',\n",
       "   'cut_Good',\n",
       "   'cut_Ideal',\n",
       "   'cut_Premium',\n",
       "   'cut_Very Good',\n",
       "   'color_E',\n",
       "   'color_F',\n",
       "   'color_G',\n",
       "   'color_H',\n",
       "   'color_I',\n",
       "   'color_J'),\n",
       "  'ci_bound': 0.012728295919301873,\n",
       "  'std_dev': 0.01713757099304262,\n",
       "  'std_err': 0.00571252366434754}}"
      ]
     },
     "execution_count": 55,
     "metadata": {},
     "output_type": "execute_result"
    }
   ],
   "source": [
    "sfs.get_metric_dict()"
   ]
  },
  {
   "cell_type": "code",
   "execution_count": 56,
   "metadata": {},
   "outputs": [],
   "source": [
    "from mlxtend.plotting import plot_sequential_feature_selection as sfs_plot"
   ]
  },
  {
   "cell_type": "code",
   "execution_count": 57,
   "metadata": {},
   "outputs": [
    {
     "data": {
      "image/png": "[encoded data removed]",
      "text/plain": [
       "<Figure size 432x288 with 1 Axes>"
      ]
     },
     "metadata": {
      "needs_background": "light"
     },
     "output_type": "display_data"
    }
   ],
   "source": [
    "fig = plot_sfs(sfs.get_metric_dict())\n",
    "\n",
    "plt.title('Sequential Forward Selection (w. R^2)')\n",
    "plt.grid()\n",
    "plt.show()\n"
   ]
  },
  {
   "cell_type": "code",
   "execution_count": 58,
   "metadata": {},
   "outputs": [
    {
     "data": {
      "text/plain": [
       "('const',\n",
       " 'carat',\n",
       " 'depth',\n",
       " 'table',\n",
       " 'x',\n",
       " 'y',\n",
       " 'z',\n",
       " 'cut_Good',\n",
       " 'cut_Ideal',\n",
       " 'cut_Premium',\n",
       " 'cut_Very Good',\n",
       " 'color_E',\n",
       " 'color_F',\n",
       " 'color_G',\n",
       " 'color_H',\n",
       " 'color_I',\n",
       " 'color_J')"
      ]
     },
     "execution_count": 58,
     "metadata": {},
     "output_type": "execute_result"
    }
   ],
   "source": [
    "sfs.k_feature_names_"
   ]
  },
  {
   "cell_type": "code",
   "execution_count": 59,
   "metadata": {},
   "outputs": [
    {
     "data": {
      "text/plain": [
       "0.8892894166072274"
      ]
     },
     "execution_count": 59,
     "metadata": {},
     "output_type": "execute_result"
    }
   ],
   "source": [
    "sfs.k_score_"
   ]
  },
  {
   "cell_type": "markdown",
   "metadata": {},
   "source": [
    "<table align=\"left\">\n",
    "    <tr>\n",
    "        <td width=\"6%\">\n",
    "            <img src=\"question_icon.png\">\n",
    "        </td>\n",
    "        <td>\n",
    "            <div align=\"left\", style=\"font-size:120%\">\n",
    "                <font color=\"#21618C\">\n",
    "                    <b>4. Use the 4-fold cross validation method and compute the coefficient of determination for each model\n",
    "                    </b>\n",
    "                </font>\n",
    "            </div>\n",
    "        </td>\n",
    "    </tr>\n",
    "</table>"
   ]
  },
  {
   "cell_type": "code",
   "execution_count": 189,
   "metadata": {},
   "outputs": [
    {
     "name": "stdout",
     "output_type": "stream",
     "text": [
      "                            OLS Regression Results                            \n",
      "==============================================================================\n",
      "Dep. Variable:                  price   R-squared:                       0.893\n",
      "Model:                            OLS   Adj. R-squared:                  0.891\n",
      "Method:                 Least Squares   F-statistic:                     794.4\n",
      "Date:                Sun, 01 Aug 2021   Prob (F-statistic):               0.00\n",
      "Time:                        00:53:07   Log-Likelihood:                -13345.\n",
      "No. Observations:                1547   AIC:                         2.672e+04\n",
      "Df Residuals:                    1530   BIC:                         2.681e+04\n",
      "Df Model:                          16                                         \n",
      "Covariance Type:            nonrobust                                         \n",
      "=================================================================================\n",
      "                    coef    std err          t      P>|t|      [0.025      0.975]\n",
      "---------------------------------------------------------------------------------\n",
      "const         -1.066e+04   8378.089     -1.272      0.204   -2.71e+04    5776.269\n",
      "carat          1.322e+04    371.464     35.601      0.000    1.25e+04     1.4e+04\n",
      "depth           273.9828    131.712      2.080      0.038      15.627     532.338\n",
      "table           -30.3427     20.547     -1.477      0.140     -70.646       9.961\n",
      "x             -1692.0142    899.352     -1.881      0.060   -3456.108      72.080\n",
      "y              3092.6570   1044.380      2.961      0.003    1044.089    5141.226\n",
      "z             -5599.5209   2150.582     -2.604      0.009   -9817.921   -1381.121\n",
      "cut_Good        579.7803    249.044      2.328      0.020      91.277    1068.284\n",
      "cut_Ideal      1184.3864    249.248      4.752      0.000     695.482    1673.291\n",
      "cut_Premium     927.6344    237.371      3.908      0.000     462.028    1393.241\n",
      "cut_Very Good   933.0889    243.198      3.837      0.000     456.051    1410.126\n",
      "color_E           2.2611    124.611      0.018      0.986    -242.166     246.688\n",
      "color_F         182.0281    125.368      1.452      0.147     -63.882     427.939\n",
      "color_G         -40.9346    121.618     -0.337      0.736    -279.490     197.621\n",
      "color_H        -606.2675    129.269     -4.690      0.000    -859.831    -352.704\n",
      "color_I       -1016.8542    150.205     -6.770      0.000   -1311.483    -722.225\n",
      "color_J       -1930.5179    180.045    -10.722      0.000   -2283.678   -1577.357\n",
      "==============================================================================\n",
      "Omnibus:                      470.401   Durbin-Watson:                   1.945\n",
      "Prob(Omnibus):                  0.000   Jarque-Bera (JB):             5833.995\n",
      "Skew:                           1.056   Prob(JB):                         0.00\n",
      "Kurtosis:                      12.276   Cond. No.                     2.13e+04\n",
      "==============================================================================\n",
      "\n",
      "Warnings:\n",
      "[1] Standard Errors assume that the covariance matrix of the errors is correctly specified.\n",
      "[2] The condition number is large, 2.13e+04. This might indicate that there are\n",
      "strong multicollinearity or other numerical problems.\n"
     ]
    }
   ],
   "source": [
    "X = encode.drop('price',axis=1)\n",
    "y = encode.price\n",
    "X = sm.add_constant(X)\n",
    "mod_cv = sm.OLS(Y,X).fit()\n",
    "print(mod_cv.summary())"
   ]
  },
  {
   "cell_type": "code",
   "execution_count": 191,
   "metadata": {},
   "outputs": [],
   "source": [
    "from sklearn.model_selection import cross_val_score\n",
    "lr = LinearRegression()"
   ]
  },
  {
   "cell_type": "code",
   "execution_count": 199,
   "metadata": {},
   "outputs": [],
   "source": [
    "X_train,X_test,Y_train,Y_test = train_test_split(X,Y,test_size=0.2,random_state=10)"
   ]
  },
  {
   "cell_type": "code",
   "execution_count": 206,
   "metadata": {},
   "outputs": [
    {
     "data": {
      "text/plain": [
       "array([0.86352802, 0.87530725, 0.90821897, 0.90494852])"
      ]
     },
     "execution_count": 206,
     "metadata": {},
     "output_type": "execute_result"
    }
   ],
   "source": [
    "score_train = cross_val_score(estimator=lr,X=X_train,y=Y_train,cv=4,scoring='r2')\n",
    "score_train"
   ]
  },
  {
   "cell_type": "code",
   "execution_count": null,
   "metadata": {},
   "outputs": [],
   "source": [
    "#The computed R2 for each model is [0.86352802, 0.87530725, 0.90821897, 0.90494852]"
   ]
  },
  {
   "cell_type": "markdown",
   "metadata": {},
   "source": [
    "<table align=\"left\">\n",
    "    <tr>\n",
    "        <td width=\"6%\">\n",
    "            <img src=\"question_icon.png\">\n",
    "        </td>\n",
    "        <td>\n",
    "            <div align=\"left\", style=\"font-size:120%\">\n",
    "                <font color=\"#21618C\">\n",
    "                    <b>5. Identify the most insignificant numerical variable among all the numeric variables in the data\n",
    "                    </b>\n",
    "                </font>\n",
    "            </div>\n",
    "        </td>\n",
    "    </tr>\n",
    "</table>"
   ]
  },
  {
   "cell_type": "code",
   "execution_count": 61,
   "metadata": {},
   "outputs": [],
   "source": [
    "df_num = df.select_dtypes(include=np.number)"
   ]
  },
  {
   "cell_type": "code",
   "execution_count": 62,
   "metadata": {},
   "outputs": [
    {
     "name": "stdout",
     "output_type": "stream",
     "text": [
      "                            OLS Regression Results                            \n",
      "==============================================================================\n",
      "Dep. Variable:                  price   R-squared:                       0.876\n",
      "Model:                            OLS   Adj. R-squared:                  0.875\n",
      "Method:                 Least Squares   F-statistic:                     1807.\n",
      "Date:                Sat, 31 Jul 2021   Prob (F-statistic):               0.00\n",
      "Time:                        23:17:12   Log-Likelihood:                -13458.\n",
      "No. Observations:                1547   AIC:                         2.693e+04\n",
      "Df Residuals:                    1540   BIC:                         2.697e+04\n",
      "Df Model:                           6                                         \n",
      "Covariance Type:            nonrobust                                         \n",
      "==============================================================================\n",
      "                 coef    std err          t      P>|t|      [0.025      0.975]\n",
      "------------------------------------------------------------------------------\n",
      "const      -3505.1570   8768.887     -0.400      0.689   -2.07e+04    1.37e+04\n",
      "carat       1.242e+04    393.765     31.534      0.000    1.16e+04    1.32e+04\n",
      "depth        218.3451    139.567      1.564      0.118     -55.417     492.107\n",
      "table        -92.6874     17.743     -5.224      0.000    -127.491     -57.884\n",
      "x          -1285.0437    916.743     -1.402      0.161   -3083.240     513.153\n",
      "y           3188.3480   1048.173      3.042      0.002    1132.351    5244.345\n",
      "z          -6071.2183   2294.675     -2.646      0.008   -1.06e+04   -1570.201\n",
      "==============================================================================\n",
      "Omnibus:                      532.716   Durbin-Watson:                   1.950\n",
      "Prob(Omnibus):                  0.000   Jarque-Bera (JB):             5229.960\n",
      "Skew:                           1.317   Prob(JB):                         0.00\n",
      "Kurtosis:                      11.614   Cond. No.                     2.09e+04\n",
      "==============================================================================\n",
      "\n",
      "Warnings:\n",
      "[1] Standard Errors assume that the covariance matrix of the errors is correctly specified.\n",
      "[2] The condition number is large, 2.09e+04. This might indicate that there are\n",
      "strong multicollinearity or other numerical problems.\n"
     ]
    }
   ],
   "source": [
    "X = df_num.drop('price',axis=1)\n",
    "Y = df.price\n",
    "X = sm.add_constant(X)\n",
    "mod = sm.OLS(Y,X).fit()\n",
    "print(mod.summary())"
   ]
  },
  {
   "cell_type": "code",
   "execution_count": 65,
   "metadata": {},
   "outputs": [
    {
     "data": {
      "text/plain": [
       "const   0.689413\n",
       "x       0.161192\n",
       "depth   0.117919\n",
       "z       0.008233\n",
       "y       0.002391\n",
       "table   0.000000\n",
       "carat   0.000000\n",
       "dtype: float64"
      ]
     },
     "execution_count": 65,
     "metadata": {},
     "output_type": "execute_result"
    }
   ],
   "source": [
    "mod.pvalues.sort_values(ascending=False)"
   ]
  },
  {
   "cell_type": "code",
   "execution_count": null,
   "metadata": {},
   "outputs": [],
   "source": [
    "#varuiable x has highest pval so, it canbe treated as most insignificant feature"
   ]
  },
  {
   "cell_type": "code",
   "execution_count": 68,
   "metadata": {},
   "outputs": [
    {
     "data": {
      "text/plain": [
       "LinearRegression(copy_X=True, fit_intercept=True, n_jobs=None, normalize=False)"
      ]
     },
     "execution_count": 68,
     "metadata": {},
     "output_type": "execute_result"
    }
   ],
   "source": [
    "lr = LinearRegression()\n",
    "lr.fit(X,Y)"
   ]
  },
  {
   "cell_type": "code",
   "execution_count": 69,
   "metadata": {},
   "outputs": [],
   "source": [
    "sfs_back = sfs(estimator=lr,forward=False,scoring='r2',cv=10,k_features=1)\n",
    "sfs_back_feat = sfs_back.fit(X,Y)"
   ]
  },
  {
   "cell_type": "code",
   "execution_count": 71,
   "metadata": {},
   "outputs": [
    {
     "data": {
      "text/plain": [
       "{7: {'feature_idx': (0, 1, 2, 3, 4, 5, 6),\n",
       "  'cv_scores': array([0.85874724, 0.91346638, 0.87761291, 0.88740222, 0.89033431,\n",
       "         0.85905756, 0.87609737, 0.85219118, 0.84097815, 0.88076888]),\n",
       "  'avg_score': 0.873665620492187,\n",
       "  'feature_names': ('const', 'carat', 'depth', 'table', 'x', 'y', 'z'),\n",
       "  'ci_bound': 0.01501707320013403,\n",
       "  'std_dev': 0.020219215494883803,\n",
       "  'std_err': 0.0067397384982946},\n",
       " 6: {'feature_idx': (0, 1, 2, 3, 5, 6),\n",
       "  'cv_scores': array([0.85873534, 0.91299023, 0.88039679, 0.88670521, 0.88973118,\n",
       "         0.85841577, 0.87695668, 0.85556612, 0.84101345, 0.87985646]),\n",
       "  'avg_score': 0.8740367229015902,\n",
       "  'feature_names': ('const', 'carat', 'depth', 'table', 'y', 'z'),\n",
       "  'ci_bound': 0.014699102538118515,\n",
       "  'std_dev': 0.01979109496496022,\n",
       "  'std_err': 0.006597031654986741},\n",
       " 5: {'feature_idx': (1, 2, 3, 5, 6),\n",
       "  'cv_scores': array([0.85873534, 0.91299023, 0.88039679, 0.88670521, 0.88973118,\n",
       "         0.85841577, 0.87695668, 0.85556612, 0.84101345, 0.87985646]),\n",
       "  'avg_score': 0.8740367229015902,\n",
       "  'feature_names': ('carat', 'depth', 'table', 'y', 'z'),\n",
       "  'ci_bound': 0.014699102538118505,\n",
       "  'std_dev': 0.01979109496496021,\n",
       "  'std_err': 0.0065970316549867365},\n",
       " 4: {'feature_idx': (1, 2, 3, 6),\n",
       "  'cv_scores': array([0.85635648, 0.91293705, 0.88042558, 0.8835225 , 0.88786591,\n",
       "         0.86351494, 0.87418191, 0.85220037, 0.84484569, 0.87949116]),\n",
       "  'avg_score': 0.8735341602669611,\n",
       "  'feature_names': ('carat', 'depth', 'table', 'z'),\n",
       "  'ci_bound': 0.01412086002906313,\n",
       "  'std_dev': 0.01901254046615224,\n",
       "  'std_err': 0.006337513488717413},\n",
       " 3: {'feature_idx': (1, 3, 6),\n",
       "  'cv_scores': array([0.85634119, 0.91271683, 0.88024822, 0.883602  , 0.88817914,\n",
       "         0.86330148, 0.87484844, 0.85268109, 0.84459608, 0.87909556]),\n",
       "  'avg_score': 0.8735610031640253,\n",
       "  'feature_names': ('carat', 'table', 'z'),\n",
       "  'ci_bound': 0.014094757591826755,\n",
       "  'std_dev': 0.018977395748110967,\n",
       "  'std_err': 0.006325798582703654},\n",
       " 2: {'feature_idx': (1, 6),\n",
       "  'cv_scores': array([0.85947153, 0.90898521, 0.87811205, 0.88237939, 0.88411241,\n",
       "         0.85632253, 0.87644962, 0.85373925, 0.84131591, 0.86916275]),\n",
       "  'avg_score': 0.8710050661189772,\n",
       "  'feature_names': ('carat', 'z'),\n",
       "  'ci_bound': 0.013604767831544459,\n",
       "  'std_dev': 0.018317666090980053,\n",
       "  'std_err': 0.0061058886969933505},\n",
       " 1: {'feature_idx': (1,),\n",
       "  'cv_scores': array([0.85847107, 0.89619931, 0.85923887, 0.87574134, 0.8667215 ,\n",
       "         0.84735115, 0.87573223, 0.84396921, 0.83667501, 0.85904573]),\n",
       "  'avg_score': 0.8619145413349436,\n",
       "  'feature_names': ('carat',),\n",
       "  'ci_bound': 0.012381426407465286,\n",
       "  'std_dev': 0.016670540612690844,\n",
       "  'std_err': 0.005556846870896948}}"
      ]
     },
     "execution_count": 71,
     "metadata": {},
     "output_type": "execute_result"
    }
   ],
   "source": [
    "sfs_back_feat.get_metric_dict()"
   ]
  },
  {
   "cell_type": "code",
   "execution_count": null,
   "metadata": {},
   "outputs": [],
   "source": [
    "#on first iteration feature X(length of diamond) is trated as most significant fetaure based on Pvalue"
   ]
  },
  {
   "cell_type": "markdown",
   "metadata": {},
   "source": [
    "<table align=\"left\">\n",
    "    <tr>\n",
    "        <td width=\"6%\">\n",
    "            <img src=\"question_icon.png\">\n",
    "        </td>\n",
    "        <td>\n",
    "            <div align=\"left\", style=\"font-size:120%\">\n",
    "                <font color=\"#21618C\">\n",
    "                    <b>6. Do the residuals obtained from the full model follow a normal distribution?\n",
    "                    </b>\n",
    "                </font>\n",
    "            </div>\n",
    "        </td>\n",
    "    </tr>\n",
    "</table>"
   ]
  },
  {
   "cell_type": "code",
   "execution_count": 72,
   "metadata": {},
   "outputs": [
    {
     "data": {
      "text/html": [
       "<div>\n",
       "<style scoped>\n",
       "    .dataframe tbody tr th:only-of-type {\n",
       "        vertical-align: middle;\n",
       "    }\n",
       "\n",
       "    .dataframe tbody tr th {\n",
       "        vertical-align: top;\n",
       "    }\n",
       "\n",
       "    .dataframe thead th {\n",
       "        text-align: right;\n",
       "    }\n",
       "</style>\n",
       "<table border=\"1\" class=\"dataframe\">\n",
       "  <thead>\n",
       "    <tr style=\"text-align: right;\">\n",
       "      <th></th>\n",
       "      <th>carat</th>\n",
       "      <th>depth</th>\n",
       "      <th>table</th>\n",
       "      <th>price</th>\n",
       "      <th>x</th>\n",
       "      <th>y</th>\n",
       "      <th>z</th>\n",
       "      <th>cut_Good</th>\n",
       "      <th>cut_Ideal</th>\n",
       "      <th>cut_Premium</th>\n",
       "      <th>cut_Very Good</th>\n",
       "      <th>color_E</th>\n",
       "      <th>color_F</th>\n",
       "      <th>color_G</th>\n",
       "      <th>color_H</th>\n",
       "      <th>color_I</th>\n",
       "      <th>color_J</th>\n",
       "    </tr>\n",
       "  </thead>\n",
       "  <tbody>\n",
       "    <tr>\n",
       "      <td>0</td>\n",
       "      <td>0.300000</td>\n",
       "      <td>61.100000</td>\n",
       "      <td>61.000000</td>\n",
       "      <td>682</td>\n",
       "      <td>4.290000</td>\n",
       "      <td>4.320000</td>\n",
       "      <td>2.630000</td>\n",
       "      <td>1</td>\n",
       "      <td>0</td>\n",
       "      <td>0</td>\n",
       "      <td>0</td>\n",
       "      <td>0</td>\n",
       "      <td>1</td>\n",
       "      <td>0</td>\n",
       "      <td>0</td>\n",
       "      <td>0</td>\n",
       "      <td>0</td>\n",
       "    </tr>\n",
       "    <tr>\n",
       "      <td>1</td>\n",
       "      <td>0.720000</td>\n",
       "      <td>62.000000</td>\n",
       "      <td>56.000000</td>\n",
       "      <td>2443</td>\n",
       "      <td>5.800000</td>\n",
       "      <td>5.740000</td>\n",
       "      <td>3.580000</td>\n",
       "      <td>0</td>\n",
       "      <td>1</td>\n",
       "      <td>0</td>\n",
       "      <td>0</td>\n",
       "      <td>0</td>\n",
       "      <td>0</td>\n",
       "      <td>0</td>\n",
       "      <td>1</td>\n",
       "      <td>0</td>\n",
       "      <td>0</td>\n",
       "    </tr>\n",
       "    <tr>\n",
       "      <td>2</td>\n",
       "      <td>1.710000</td>\n",
       "      <td>62.900000</td>\n",
       "      <td>58.000000</td>\n",
       "      <td>8848</td>\n",
       "      <td>7.640000</td>\n",
       "      <td>7.580000</td>\n",
       "      <td>4.790000</td>\n",
       "      <td>0</td>\n",
       "      <td>0</td>\n",
       "      <td>1</td>\n",
       "      <td>0</td>\n",
       "      <td>0</td>\n",
       "      <td>0</td>\n",
       "      <td>0</td>\n",
       "      <td>0</td>\n",
       "      <td>0</td>\n",
       "      <td>1</td>\n",
       "    </tr>\n",
       "    <tr>\n",
       "      <td>3</td>\n",
       "      <td>1.010000</td>\n",
       "      <td>59.200000</td>\n",
       "      <td>59.000000</td>\n",
       "      <td>7287</td>\n",
       "      <td>6.670000</td>\n",
       "      <td>6.600000</td>\n",
       "      <td>3.930000</td>\n",
       "      <td>0</td>\n",
       "      <td>0</td>\n",
       "      <td>1</td>\n",
       "      <td>0</td>\n",
       "      <td>1</td>\n",
       "      <td>0</td>\n",
       "      <td>0</td>\n",
       "      <td>0</td>\n",
       "      <td>0</td>\n",
       "      <td>0</td>\n",
       "    </tr>\n",
       "    <tr>\n",
       "      <td>4</td>\n",
       "      <td>0.520000</td>\n",
       "      <td>62.700000</td>\n",
       "      <td>56.000000</td>\n",
       "      <td>1720</td>\n",
       "      <td>5.170000</td>\n",
       "      <td>5.140000</td>\n",
       "      <td>3.230000</td>\n",
       "      <td>0</td>\n",
       "      <td>1</td>\n",
       "      <td>0</td>\n",
       "      <td>0</td>\n",
       "      <td>0</td>\n",
       "      <td>0</td>\n",
       "      <td>0</td>\n",
       "      <td>0</td>\n",
       "      <td>0</td>\n",
       "      <td>0</td>\n",
       "    </tr>\n",
       "  </tbody>\n",
       "</table>\n",
       "</div>"
      ],
      "text/plain": [
       "     carat     depth     table  price        x        y        z  cut_Good  \\\n",
       "0 0.300000 61.100000 61.000000    682 4.290000 4.320000 2.630000         1   \n",
       "1 0.720000 62.000000 56.000000   2443 5.800000 5.740000 3.580000         0   \n",
       "2 1.710000 62.900000 58.000000   8848 7.640000 7.580000 4.790000         0   \n",
       "3 1.010000 59.200000 59.000000   7287 6.670000 6.600000 3.930000         0   \n",
       "4 0.520000 62.700000 56.000000   1720 5.170000 5.140000 3.230000         0   \n",
       "\n",
       "   cut_Ideal  cut_Premium  cut_Very Good  color_E  color_F  color_G  color_H  \\\n",
       "0          0            0              0        0        1        0        0   \n",
       "1          1            0              0        0        0        0        1   \n",
       "2          0            1              0        0        0        0        0   \n",
       "3          0            1              0        1        0        0        0   \n",
       "4          1            0              0        0        0        0        0   \n",
       "\n",
       "   color_I  color_J  \n",
       "0        0        0  \n",
       "1        0        0  \n",
       "2        0        1  \n",
       "3        0        0  \n",
       "4        0        0  "
      ]
     },
     "execution_count": 72,
     "metadata": {},
     "output_type": "execute_result"
    }
   ],
   "source": [
    "encode.head()"
   ]
  },
  {
   "cell_type": "code",
   "execution_count": 90,
   "metadata": {},
   "outputs": [
    {
     "name": "stdout",
     "output_type": "stream",
     "text": [
      "                            OLS Regression Results                            \n",
      "==============================================================================\n",
      "Dep. Variable:                  price   R-squared:                       0.893\n",
      "Model:                            OLS   Adj. R-squared:                  0.891\n",
      "Method:                 Least Squares   F-statistic:                     794.4\n",
      "Date:                Sat, 31 Jul 2021   Prob (F-statistic):               0.00\n",
      "Time:                        23:33:07   Log-Likelihood:                -13345.\n",
      "No. Observations:                1547   AIC:                         2.672e+04\n",
      "Df Residuals:                    1530   BIC:                         2.681e+04\n",
      "Df Model:                          16                                         \n",
      "Covariance Type:            nonrobust                                         \n",
      "=================================================================================\n",
      "                    coef    std err          t      P>|t|      [0.025      0.975]\n",
      "---------------------------------------------------------------------------------\n",
      "const         -1.066e+04   8378.089     -1.272      0.204   -2.71e+04    5776.269\n",
      "carat          1.322e+04    371.464     35.601      0.000    1.25e+04     1.4e+04\n",
      "depth           273.9828    131.712      2.080      0.038      15.627     532.338\n",
      "table           -30.3427     20.547     -1.477      0.140     -70.646       9.961\n",
      "x             -1692.0142    899.352     -1.881      0.060   -3456.108      72.080\n",
      "y              3092.6570   1044.380      2.961      0.003    1044.089    5141.226\n",
      "z             -5599.5209   2150.582     -2.604      0.009   -9817.921   -1381.121\n",
      "cut_Good        579.7803    249.044      2.328      0.020      91.277    1068.284\n",
      "cut_Ideal      1184.3864    249.248      4.752      0.000     695.482    1673.291\n",
      "cut_Premium     927.6344    237.371      3.908      0.000     462.028    1393.241\n",
      "cut_Very Good   933.0889    243.198      3.837      0.000     456.051    1410.126\n",
      "color_E           2.2611    124.611      0.018      0.986    -242.166     246.688\n",
      "color_F         182.0281    125.368      1.452      0.147     -63.882     427.939\n",
      "color_G         -40.9346    121.618     -0.337      0.736    -279.490     197.621\n",
      "color_H        -606.2675    129.269     -4.690      0.000    -859.831    -352.704\n",
      "color_I       -1016.8542    150.205     -6.770      0.000   -1311.483    -722.225\n",
      "color_J       -1930.5179    180.045    -10.722      0.000   -2283.678   -1577.357\n",
      "==============================================================================\n",
      "Omnibus:                      470.401   Durbin-Watson:                   1.945\n",
      "Prob(Omnibus):                  0.000   Jarque-Bera (JB):             5833.995\n",
      "Skew:                           1.056   Prob(JB):                         0.00\n",
      "Kurtosis:                      12.276   Cond. No.                     2.13e+04\n",
      "==============================================================================\n",
      "\n",
      "Warnings:\n",
      "[1] Standard Errors assume that the covariance matrix of the errors is correctly specified.\n",
      "[2] The condition number is large, 2.13e+04. This might indicate that there are\n",
      "strong multicollinearity or other numerical problems.\n"
     ]
    }
   ],
   "source": [
    "X = encode.drop('price',axis=1)\n",
    "Y = encode.price\n",
    "X = sm.add_constant(X)\n",
    "mod_res = sm.OLS(Y,X).fit()\n",
    "print(mod_res.summary())"
   ]
  },
  {
   "cell_type": "code",
   "execution_count": 76,
   "metadata": {},
   "outputs": [],
   "source": [
    "from scipy.stats import shapiro"
   ]
  },
  {
   "cell_type": "code",
   "execution_count": 77,
   "metadata": {},
   "outputs": [
    {
     "data": {
      "text/plain": [
       "(0.8434852361679077, 1.5090839207569356e-36)"
      ]
     },
     "execution_count": 77,
     "metadata": {},
     "output_type": "execute_result"
    }
   ],
   "source": [
    "shapiro(mod_res.resid)\n",
    "#as pvalue is < 0.05 we reject null hypothesis stating the residuals are not normally distributed"
   ]
  },
  {
   "cell_type": "markdown",
   "metadata": {},
   "source": [
    "<table align=\"left\">\n",
    "    <tr>\n",
    "        <td width=\"6%\">\n",
    "            <img src=\"question_icon.png\">\n",
    "        </td>\n",
    "        <td>\n",
    "            <div align=\"left\", style=\"font-size:120%\">\n",
    "                <font color=\"#21618C\">\n",
    "                    <b>7. Is it possible to make the residuals normal? If yes, do the needful\n",
    "                    </b>\n",
    "                </font>\n",
    "            </div>\n",
    "        </td>\n",
    "    </tr>\n",
    "</table>"
   ]
  },
  {
   "cell_type": "code",
   "execution_count": 160,
   "metadata": {},
   "outputs": [
    {
     "data": {
      "text/plain": [
       "(1547, 17)"
      ]
     },
     "execution_count": 160,
     "metadata": {},
     "output_type": "execute_result"
    }
   ],
   "source": [
    "l = ['cut','color']\n",
    "encode = pd.get_dummies(df,columns=l,drop_first=True)\n",
    "encode.head()\n",
    "encode.shape"
   ]
  },
  {
   "cell_type": "code",
   "execution_count": 148,
   "metadata": {},
   "outputs": [],
   "source": [
    "from scipy.stats import zscore"
   ]
  },
  {
   "cell_type": "code",
   "execution_count": 163,
   "metadata": {},
   "outputs": [
    {
     "data": {
      "text/html": [
       "<div>\n",
       "<style scoped>\n",
       "    .dataframe tbody tr th:only-of-type {\n",
       "        vertical-align: middle;\n",
       "    }\n",
       "\n",
       "    .dataframe tbody tr th {\n",
       "        vertical-align: top;\n",
       "    }\n",
       "\n",
       "    .dataframe thead th {\n",
       "        text-align: right;\n",
       "    }\n",
       "</style>\n",
       "<table border=\"1\" class=\"dataframe\">\n",
       "  <thead>\n",
       "    <tr style=\"text-align: right;\">\n",
       "      <th></th>\n",
       "      <th>carat</th>\n",
       "      <th>depth</th>\n",
       "      <th>table</th>\n",
       "      <th>price</th>\n",
       "      <th>x</th>\n",
       "      <th>y</th>\n",
       "      <th>z</th>\n",
       "      <th>cut_Good</th>\n",
       "      <th>cut_Ideal</th>\n",
       "      <th>cut_Premium</th>\n",
       "      <th>cut_Very Good</th>\n",
       "      <th>color_E</th>\n",
       "      <th>color_F</th>\n",
       "      <th>color_G</th>\n",
       "      <th>color_H</th>\n",
       "      <th>color_I</th>\n",
       "      <th>color_J</th>\n",
       "    </tr>\n",
       "  </thead>\n",
       "  <tbody>\n",
       "    <tr>\n",
       "      <td>0</td>\n",
       "      <td>-1.032933</td>\n",
       "      <td>-0.460030</td>\n",
       "      <td>1.590487</td>\n",
       "      <td>-0.791282</td>\n",
       "      <td>-1.263882</td>\n",
       "      <td>-1.249387</td>\n",
       "      <td>-1.296248</td>\n",
       "      <td>3.074525</td>\n",
       "      <td>-0.807947</td>\n",
       "      <td>-0.579590</td>\n",
       "      <td>-0.548720</td>\n",
       "      <td>-0.471125</td>\n",
       "      <td>2.155455</td>\n",
       "      <td>-0.507665</td>\n",
       "      <td>-0.432736</td>\n",
       "      <td>-0.316677</td>\n",
       "      <td>-0.239617</td>\n",
       "    </tr>\n",
       "    <tr>\n",
       "      <td>1</td>\n",
       "      <td>-0.149950</td>\n",
       "      <td>0.165214</td>\n",
       "      <td>-0.646601</td>\n",
       "      <td>-0.363409</td>\n",
       "      <td>0.076712</td>\n",
       "      <td>0.022883</td>\n",
       "      <td>0.074751</td>\n",
       "      <td>-0.325254</td>\n",
       "      <td>1.237705</td>\n",
       "      <td>-0.579590</td>\n",
       "      <td>-0.548720</td>\n",
       "      <td>-0.471125</td>\n",
       "      <td>-0.463939</td>\n",
       "      <td>-0.507665</td>\n",
       "      <td>2.310879</td>\n",
       "      <td>-0.316677</td>\n",
       "      <td>-0.239617</td>\n",
       "    </tr>\n",
       "    <tr>\n",
       "      <td>2</td>\n",
       "      <td>1.931367</td>\n",
       "      <td>0.790458</td>\n",
       "      <td>0.248234</td>\n",
       "      <td>1.192823</td>\n",
       "      <td>1.710284</td>\n",
       "      <td>1.671457</td>\n",
       "      <td>1.820972</td>\n",
       "      <td>-0.325254</td>\n",
       "      <td>-0.807947</td>\n",
       "      <td>1.725359</td>\n",
       "      <td>-0.548720</td>\n",
       "      <td>-0.471125</td>\n",
       "      <td>-0.463939</td>\n",
       "      <td>-0.507665</td>\n",
       "      <td>-0.432736</td>\n",
       "      <td>-0.316677</td>\n",
       "      <td>4.173328</td>\n",
       "    </tr>\n",
       "    <tr>\n",
       "      <td>3</td>\n",
       "      <td>0.459729</td>\n",
       "      <td>-1.779989</td>\n",
       "      <td>0.695652</td>\n",
       "      <td>0.813545</td>\n",
       "      <td>0.849107</td>\n",
       "      <td>0.793412</td>\n",
       "      <td>0.579856</td>\n",
       "      <td>-0.325254</td>\n",
       "      <td>-0.807947</td>\n",
       "      <td>1.725359</td>\n",
       "      <td>-0.548720</td>\n",
       "      <td>2.122578</td>\n",
       "      <td>-0.463939</td>\n",
       "      <td>-0.507665</td>\n",
       "      <td>-0.432736</td>\n",
       "      <td>-0.316677</td>\n",
       "      <td>-0.239617</td>\n",
       "    </tr>\n",
       "    <tr>\n",
       "      <td>4</td>\n",
       "      <td>-0.570418</td>\n",
       "      <td>0.651515</td>\n",
       "      <td>-0.646601</td>\n",
       "      <td>-0.539077</td>\n",
       "      <td>-0.482609</td>\n",
       "      <td>-0.514696</td>\n",
       "      <td>-0.430354</td>\n",
       "      <td>-0.325254</td>\n",
       "      <td>1.237705</td>\n",
       "      <td>-0.579590</td>\n",
       "      <td>-0.548720</td>\n",
       "      <td>-0.471125</td>\n",
       "      <td>-0.463939</td>\n",
       "      <td>-0.507665</td>\n",
       "      <td>-0.432736</td>\n",
       "      <td>-0.316677</td>\n",
       "      <td>-0.239617</td>\n",
       "    </tr>\n",
       "  </tbody>\n",
       "</table>\n",
       "</div>"
      ],
      "text/plain": [
       "      carat     depth     table     price         x         y         z  \\\n",
       "0 -1.032933 -0.460030  1.590487 -0.791282 -1.263882 -1.249387 -1.296248   \n",
       "1 -0.149950  0.165214 -0.646601 -0.363409  0.076712  0.022883  0.074751   \n",
       "2  1.931367  0.790458  0.248234  1.192823  1.710284  1.671457  1.820972   \n",
       "3  0.459729 -1.779989  0.695652  0.813545  0.849107  0.793412  0.579856   \n",
       "4 -0.570418  0.651515 -0.646601 -0.539077 -0.482609 -0.514696 -0.430354   \n",
       "\n",
       "   cut_Good  cut_Ideal  cut_Premium  cut_Very Good   color_E   color_F  \\\n",
       "0  3.074525  -0.807947    -0.579590      -0.548720 -0.471125  2.155455   \n",
       "1 -0.325254   1.237705    -0.579590      -0.548720 -0.471125 -0.463939   \n",
       "2 -0.325254  -0.807947     1.725359      -0.548720 -0.471125 -0.463939   \n",
       "3 -0.325254  -0.807947     1.725359      -0.548720  2.122578 -0.463939   \n",
       "4 -0.325254   1.237705    -0.579590      -0.548720 -0.471125 -0.463939   \n",
       "\n",
       "    color_G   color_H   color_I   color_J  \n",
       "0 -0.507665 -0.432736 -0.316677 -0.239617  \n",
       "1 -0.507665  2.310879 -0.316677 -0.239617  \n",
       "2 -0.507665 -0.432736 -0.316677  4.173328  \n",
       "3 -0.507665 -0.432736 -0.316677 -0.239617  \n",
       "4 -0.507665 -0.432736 -0.316677 -0.239617  "
      ]
     },
     "execution_count": 163,
     "metadata": {},
     "output_type": "execute_result"
    }
   ],
   "source": [
    "z = stats.zscore(encode)\n",
    "z = pd.DataFrame(z,columns=encode.columns)\n",
    "z.head()"
   ]
  },
  {
   "cell_type": "code",
   "execution_count": null,
   "metadata": {},
   "outputs": [],
   "source": []
  },
  {
   "cell_type": "code",
   "execution_count": 164,
   "metadata": {},
   "outputs": [
    {
     "data": {
      "text/html": [
       "<div>\n",
       "<style scoped>\n",
       "    .dataframe tbody tr th:only-of-type {\n",
       "        vertical-align: middle;\n",
       "    }\n",
       "\n",
       "    .dataframe tbody tr th {\n",
       "        vertical-align: top;\n",
       "    }\n",
       "\n",
       "    .dataframe thead th {\n",
       "        text-align: right;\n",
       "    }\n",
       "</style>\n",
       "<table border=\"1\" class=\"dataframe\">\n",
       "  <thead>\n",
       "    <tr style=\"text-align: right;\">\n",
       "      <th></th>\n",
       "      <th>carat</th>\n",
       "      <th>depth</th>\n",
       "      <th>table</th>\n",
       "      <th>price</th>\n",
       "      <th>x</th>\n",
       "      <th>y</th>\n",
       "      <th>z</th>\n",
       "      <th>cut_Good</th>\n",
       "      <th>cut_Ideal</th>\n",
       "      <th>cut_Premium</th>\n",
       "      <th>cut_Very Good</th>\n",
       "      <th>color_E</th>\n",
       "      <th>color_F</th>\n",
       "      <th>color_G</th>\n",
       "      <th>color_H</th>\n",
       "      <th>color_I</th>\n",
       "      <th>color_J</th>\n",
       "    </tr>\n",
       "  </thead>\n",
       "  <tbody>\n",
       "    <tr>\n",
       "      <td>1</td>\n",
       "      <td>-0.149950</td>\n",
       "      <td>0.165214</td>\n",
       "      <td>-0.646601</td>\n",
       "      <td>-0.363409</td>\n",
       "      <td>0.076712</td>\n",
       "      <td>0.022883</td>\n",
       "      <td>0.074751</td>\n",
       "      <td>-0.325254</td>\n",
       "      <td>1.237705</td>\n",
       "      <td>-0.579590</td>\n",
       "      <td>-0.548720</td>\n",
       "      <td>-0.471125</td>\n",
       "      <td>-0.463939</td>\n",
       "      <td>-0.507665</td>\n",
       "      <td>2.310879</td>\n",
       "      <td>-0.316677</td>\n",
       "      <td>-0.239617</td>\n",
       "    </tr>\n",
       "    <tr>\n",
       "      <td>3</td>\n",
       "      <td>0.459729</td>\n",
       "      <td>-1.779989</td>\n",
       "      <td>0.695652</td>\n",
       "      <td>0.813545</td>\n",
       "      <td>0.849107</td>\n",
       "      <td>0.793412</td>\n",
       "      <td>0.579856</td>\n",
       "      <td>-0.325254</td>\n",
       "      <td>-0.807947</td>\n",
       "      <td>1.725359</td>\n",
       "      <td>-0.548720</td>\n",
       "      <td>2.122578</td>\n",
       "      <td>-0.463939</td>\n",
       "      <td>-0.507665</td>\n",
       "      <td>-0.432736</td>\n",
       "      <td>-0.316677</td>\n",
       "      <td>-0.239617</td>\n",
       "    </tr>\n",
       "    <tr>\n",
       "      <td>4</td>\n",
       "      <td>-0.570418</td>\n",
       "      <td>0.651515</td>\n",
       "      <td>-0.646601</td>\n",
       "      <td>-0.539077</td>\n",
       "      <td>-0.482609</td>\n",
       "      <td>-0.514696</td>\n",
       "      <td>-0.430354</td>\n",
       "      <td>-0.325254</td>\n",
       "      <td>1.237705</td>\n",
       "      <td>-0.579590</td>\n",
       "      <td>-0.548720</td>\n",
       "      <td>-0.471125</td>\n",
       "      <td>-0.463939</td>\n",
       "      <td>-0.507665</td>\n",
       "      <td>-0.432736</td>\n",
       "      <td>-0.316677</td>\n",
       "      <td>-0.239617</td>\n",
       "    </tr>\n",
       "    <tr>\n",
       "      <td>5</td>\n",
       "      <td>-1.138050</td>\n",
       "      <td>-0.598973</td>\n",
       "      <td>0.695652</td>\n",
       "      <td>-0.817280</td>\n",
       "      <td>-1.494713</td>\n",
       "      <td>-1.437539</td>\n",
       "      <td>-1.512722</td>\n",
       "      <td>-0.325254</td>\n",
       "      <td>-0.807947</td>\n",
       "      <td>-0.579590</td>\n",
       "      <td>1.822424</td>\n",
       "      <td>2.122578</td>\n",
       "      <td>-0.463939</td>\n",
       "      <td>-0.507665</td>\n",
       "      <td>-0.432736</td>\n",
       "      <td>-0.316677</td>\n",
       "      <td>-0.239617</td>\n",
       "    </tr>\n",
       "    <tr>\n",
       "      <td>6</td>\n",
       "      <td>-0.065856</td>\n",
       "      <td>-1.363160</td>\n",
       "      <td>-0.199183</td>\n",
       "      <td>-0.415891</td>\n",
       "      <td>0.192128</td>\n",
       "      <td>0.175197</td>\n",
       "      <td>0.017025</td>\n",
       "      <td>-0.325254</td>\n",
       "      <td>-0.807947</td>\n",
       "      <td>1.725359</td>\n",
       "      <td>-0.548720</td>\n",
       "      <td>-0.471125</td>\n",
       "      <td>-0.463939</td>\n",
       "      <td>-0.507665</td>\n",
       "      <td>2.310879</td>\n",
       "      <td>-0.316677</td>\n",
       "      <td>-0.239617</td>\n",
       "    </tr>\n",
       "  </tbody>\n",
       "</table>\n",
       "</div>"
      ],
      "text/plain": [
       "      carat     depth     table     price         x         y         z  \\\n",
       "1 -0.149950  0.165214 -0.646601 -0.363409  0.076712  0.022883  0.074751   \n",
       "3  0.459729 -1.779989  0.695652  0.813545  0.849107  0.793412  0.579856   \n",
       "4 -0.570418  0.651515 -0.646601 -0.539077 -0.482609 -0.514696 -0.430354   \n",
       "5 -1.138050 -0.598973  0.695652 -0.817280 -1.494713 -1.437539 -1.512722   \n",
       "6 -0.065856 -1.363160 -0.199183 -0.415891  0.192128  0.175197  0.017025   \n",
       "\n",
       "   cut_Good  cut_Ideal  cut_Premium  cut_Very Good   color_E   color_F  \\\n",
       "1 -0.325254   1.237705    -0.579590      -0.548720 -0.471125 -0.463939   \n",
       "3 -0.325254  -0.807947     1.725359      -0.548720  2.122578 -0.463939   \n",
       "4 -0.325254   1.237705    -0.579590      -0.548720 -0.471125 -0.463939   \n",
       "5 -0.325254  -0.807947    -0.579590       1.822424  2.122578 -0.463939   \n",
       "6 -0.325254  -0.807947     1.725359      -0.548720 -0.471125 -0.463939   \n",
       "\n",
       "    color_G   color_H   color_I   color_J  \n",
       "1 -0.507665  2.310879 -0.316677 -0.239617  \n",
       "3 -0.507665 -0.432736 -0.316677 -0.239617  \n",
       "4 -0.507665 -0.432736 -0.316677 -0.239617  \n",
       "5 -0.507665 -0.432736 -0.316677 -0.239617  \n",
       "6 -0.507665  2.310879 -0.316677 -0.239617  "
      ]
     },
     "execution_count": 164,
     "metadata": {},
     "output_type": "execute_result"
    }
   ],
   "source": [
    "z1 = z[~((z < -3) | (z > 3)).any(axis=1)]\n",
    "z1.head()"
   ]
  },
  {
   "cell_type": "code",
   "execution_count": 165,
   "metadata": {},
   "outputs": [
    {
     "name": "stdout",
     "output_type": "stream",
     "text": [
      "                            OLS Regression Results                            \n",
      "==============================================================================\n",
      "Dep. Variable:                  price   R-squared:                       0.881\n",
      "Model:                            OLS   Adj. R-squared:                  0.880\n",
      "Method:                 Least Squares   F-statistic:                     648.8\n",
      "Date:                Sun, 01 Aug 2021   Prob (F-statistic):               0.00\n",
      "Time:                        00:20:38   Log-Likelihood:                -210.02\n",
      "No. Observations:                1153   AIC:                             448.0\n",
      "Df Residuals:                    1139   BIC:                             518.7\n",
      "Df Model:                          13                                         \n",
      "Covariance Type:            nonrobust                                         \n",
      "=================================================================================\n",
      "                    coef    std err          t      P>|t|      [0.025      0.975]\n",
      "---------------------------------------------------------------------------------\n",
      "carat             1.6835      0.061     27.609      0.000       1.564       1.803\n",
      "depth            -0.0995      0.061     -1.626      0.104      -0.220       0.021\n",
      "table            -0.0264      0.012     -2.161      0.031      -0.050      -0.002\n",
      "x                -1.4213      0.322     -4.417      0.000      -2.053      -0.790\n",
      "y                 0.0002      0.340      0.001      1.000      -0.667       0.668\n",
      "z                 0.7532      0.489      1.539      0.124      -0.207       1.713\n",
      "cut_Good         -0.0412      0.015     -2.736      0.006      -0.071      -0.012\n",
      "cut_Ideal         0.1626      0.038      4.229      0.000       0.087       0.238\n",
      "cut_Premium       0.1222      0.034      3.602      0.000       0.056       0.189\n",
      "cut_Very Good     0.1123      0.033      3.432      0.001       0.048       0.176\n",
      "color_E          -0.0067      0.011     -0.602      0.548      -0.029       0.015\n",
      "color_F           0.0048      0.011      0.434      0.664      -0.017       0.027\n",
      "color_G          -0.0129      0.011     -1.139      0.255      -0.035       0.009\n",
      "color_H          -0.0728      0.011     -6.601      0.000      -0.094      -0.051\n",
      "color_I          -0.0401      0.015     -2.736      0.006      -0.069      -0.011\n",
      "color_J          -0.0304      0.011     -2.736      0.006      -0.052      -0.009\n",
      "==============================================================================\n",
      "Omnibus:                      435.836   Durbin-Watson:                   1.920\n",
      "Prob(Omnibus):                  0.000   Jarque-Bera (JB):             4902.514\n",
      "Skew:                           1.415   Prob(JB):                         0.00\n",
      "Kurtosis:                      12.697   Cond. No.                     4.87e+16\n",
      "==============================================================================\n",
      "\n",
      "Warnings:\n",
      "[1] Standard Errors assume that the covariance matrix of the errors is correctly specified.\n",
      "[2] The smallest eigenvalue is 1.7e-30. This might indicate that there are\n",
      "strong multicollinearity problems or that the design matrix is singular.\n"
     ]
    }
   ],
   "source": [
    "X2 = z1.drop('price',axis=1)\n",
    "Y = z1.price\n",
    "X2 = sm.add_constant(X2)\n",
    "check = sm.OLS(Y,X2).fit()\n",
    "print(check.summary())"
   ]
  },
  {
   "cell_type": "code",
   "execution_count": 166,
   "metadata": {},
   "outputs": [
    {
     "data": {
      "text/plain": [
       "1.4169256416618443"
      ]
     },
     "execution_count": 166,
     "metadata": {},
     "output_type": "execute_result"
    }
   ],
   "source": [
    "check.resid.skew()"
   ]
  },
  {
   "cell_type": "code",
   "execution_count": null,
   "metadata": {},
   "outputs": [],
   "source": [
    "#even after delaing with outliers,transforming,scaling, we couldn't able to reduce the skewness of residuals"
   ]
  },
  {
   "cell_type": "markdown",
   "metadata": {},
   "source": [
    "<table align=\"left\">\n",
    "    <tr>\n",
    "        <td width=\"6%\">\n",
    "            <img src=\"question_icon.png\">\n",
    "        </td>\n",
    "        <td>\n",
    "            <div align=\"left\", style=\"font-size:120%\">\n",
    "                <font color=\"#21618C\">\n",
    "                    <b>8. Consider the full model and remove the variables one-by-one to obtain the set of seven most significant variables\n",
    "                    </b>\n",
    "                </font>\n",
    "            </div>\n",
    "        </td>\n",
    "    </tr>\n",
    "</table>"
   ]
  },
  {
   "cell_type": "code",
   "execution_count": 167,
   "metadata": {},
   "outputs": [
    {
     "name": "stdout",
     "output_type": "stream",
     "text": [
      "                            OLS Regression Results                            \n",
      "==============================================================================\n",
      "Dep. Variable:                  price   R-squared:                       0.893\n",
      "Model:                            OLS   Adj. R-squared:                  0.891\n",
      "Method:                 Least Squares   F-statistic:                     794.4\n",
      "Date:                Sun, 01 Aug 2021   Prob (F-statistic):               0.00\n",
      "Time:                        00:25:07   Log-Likelihood:                -13345.\n",
      "No. Observations:                1547   AIC:                         2.672e+04\n",
      "Df Residuals:                    1530   BIC:                         2.681e+04\n",
      "Df Model:                          16                                         \n",
      "Covariance Type:            nonrobust                                         \n",
      "=================================================================================\n",
      "                    coef    std err          t      P>|t|      [0.025      0.975]\n",
      "---------------------------------------------------------------------------------\n",
      "const         -1.066e+04   8378.089     -1.272      0.204   -2.71e+04    5776.269\n",
      "carat          1.322e+04    371.464     35.601      0.000    1.25e+04     1.4e+04\n",
      "depth           273.9828    131.712      2.080      0.038      15.627     532.338\n",
      "table           -30.3427     20.547     -1.477      0.140     -70.646       9.961\n",
      "x             -1692.0142    899.352     -1.881      0.060   -3456.108      72.080\n",
      "y              3092.6570   1044.380      2.961      0.003    1044.089    5141.226\n",
      "z             -5599.5209   2150.582     -2.604      0.009   -9817.921   -1381.121\n",
      "cut_Good        579.7803    249.044      2.328      0.020      91.277    1068.284\n",
      "cut_Ideal      1184.3864    249.248      4.752      0.000     695.482    1673.291\n",
      "cut_Premium     927.6344    237.371      3.908      0.000     462.028    1393.241\n",
      "cut_Very Good   933.0889    243.198      3.837      0.000     456.051    1410.126\n",
      "color_E           2.2611    124.611      0.018      0.986    -242.166     246.688\n",
      "color_F         182.0281    125.368      1.452      0.147     -63.882     427.939\n",
      "color_G         -40.9346    121.618     -0.337      0.736    -279.490     197.621\n",
      "color_H        -606.2675    129.269     -4.690      0.000    -859.831    -352.704\n",
      "color_I       -1016.8542    150.205     -6.770      0.000   -1311.483    -722.225\n",
      "color_J       -1930.5179    180.045    -10.722      0.000   -2283.678   -1577.357\n",
      "==============================================================================\n",
      "Omnibus:                      470.401   Durbin-Watson:                   1.945\n",
      "Prob(Omnibus):                  0.000   Jarque-Bera (JB):             5833.995\n",
      "Skew:                           1.056   Prob(JB):                         0.00\n",
      "Kurtosis:                      12.276   Cond. No.                     2.13e+04\n",
      "==============================================================================\n",
      "\n",
      "Warnings:\n",
      "[1] Standard Errors assume that the covariance matrix of the errors is correctly specified.\n",
      "[2] The condition number is large, 2.13e+04. This might indicate that there are\n",
      "strong multicollinearity or other numerical problems.\n"
     ]
    }
   ],
   "source": [
    "X = encode.drop('price',axis=1)\n",
    "Y = df.price\n",
    "X = sm.add_constant(X)\n",
    "mod = sm.OLS(Y,X).fit()\n",
    "print(mod.summary())"
   ]
  },
  {
   "cell_type": "code",
   "execution_count": 170,
   "metadata": {},
   "outputs": [
    {
     "data": {
      "text/plain": [
       "LinearRegression(copy_X=True, fit_intercept=True, n_jobs=None, normalize=False)"
      ]
     },
     "execution_count": 170,
     "metadata": {},
     "output_type": "execute_result"
    }
   ],
   "source": [
    "lr = LinearRegression()\n",
    "lr.fit(X.drop('const',axis=1),Y)"
   ]
  },
  {
   "cell_type": "code",
   "execution_count": 171,
   "metadata": {},
   "outputs": [
    {
     "data": {
      "text/plain": [
       "{17: {'feature_idx': (0,\n",
       "   1,\n",
       "   2,\n",
       "   3,\n",
       "   4,\n",
       "   5,\n",
       "   6,\n",
       "   7,\n",
       "   8,\n",
       "   9,\n",
       "   10,\n",
       "   11,\n",
       "   12,\n",
       "   13,\n",
       "   14,\n",
       "   15,\n",
       "   16),\n",
       "  'cv_scores': array([0.87497201, 0.91296688, 0.88719374, 0.90161835, 0.90333363,\n",
       "         0.88441959, 0.90635656, 0.86370692, 0.86123041, 0.89709607]),\n",
       "  'avg_score': 0.8892894166072274,\n",
       "  'feature_names': ('const',\n",
       "   'carat',\n",
       "   'depth',\n",
       "   'table',\n",
       "   'x',\n",
       "   'y',\n",
       "   'z',\n",
       "   'cut_Good',\n",
       "   'cut_Ideal',\n",
       "   'cut_Premium',\n",
       "   'cut_Very Good',\n",
       "   'color_E',\n",
       "   'color_F',\n",
       "   'color_G',\n",
       "   'color_H',\n",
       "   'color_I',\n",
       "   'color_J'),\n",
       "  'ci_bound': 0.012728295919301873,\n",
       "  'std_dev': 0.01713757099304262,\n",
       "  'std_err': 0.00571252366434754},\n",
       " 16: {'feature_idx': (0, 1, 2, 3, 4, 5, 6, 7, 8, 9, 10, 11, 12, 14, 15, 16),\n",
       "  'cv_scores': array([0.87495874, 0.91301738, 0.88769841, 0.90178316, 0.90356732,\n",
       "         0.88446889, 0.90633111, 0.86401683, 0.86121891, 0.89720753]),\n",
       "  'avg_score': 0.8894268283043729,\n",
       "  'feature_names': ('const',\n",
       "   'carat',\n",
       "   'depth',\n",
       "   'table',\n",
       "   'x',\n",
       "   'y',\n",
       "   'z',\n",
       "   'cut_Good',\n",
       "   'cut_Ideal',\n",
       "   'cut_Premium',\n",
       "   'cut_Very Good',\n",
       "   'color_E',\n",
       "   'color_F',\n",
       "   'color_H',\n",
       "   'color_I',\n",
       "   'color_J'),\n",
       "  'ci_bound': 0.012721199844269605,\n",
       "  'std_dev': 0.017128016729816148,\n",
       "  'std_err': 0.005709338909938716},\n",
       " 15: {'feature_idx': (0, 1, 2, 3, 4, 5, 6, 7, 8, 9, 10, 12, 14, 15, 16),\n",
       "  'cv_scores': array([0.87507909, 0.91299041, 0.88873167, 0.90190061, 0.90355216,\n",
       "         0.88447293, 0.90631929, 0.86400025, 0.86123833, 0.89717849]),\n",
       "  'avg_score': 0.8895463235767078,\n",
       "  'feature_names': ('const',\n",
       "   'carat',\n",
       "   'depth',\n",
       "   'table',\n",
       "   'x',\n",
       "   'y',\n",
       "   'z',\n",
       "   'cut_Good',\n",
       "   'cut_Ideal',\n",
       "   'cut_Premium',\n",
       "   'cut_Very Good',\n",
       "   'color_F',\n",
       "   'color_H',\n",
       "   'color_I',\n",
       "   'color_J'),\n",
       "  'ci_bound': 0.012708094791541344,\n",
       "  'std_dev': 0.017110371887731863,\n",
       "  'std_err': 0.005703457295910621},\n",
       " 14: {'feature_idx': (0, 1, 2, 3, 5, 6, 7, 8, 9, 10, 12, 14, 15, 16),\n",
       "  'cv_scores': array([0.87462835, 0.91213078, 0.88909146, 0.90098769, 0.90303723,\n",
       "         0.88363445, 0.90678902, 0.868493  , 0.86191817, 0.89577859]),\n",
       "  'avg_score': 0.8896488741922418,\n",
       "  'feature_names': ('const',\n",
       "   'carat',\n",
       "   'depth',\n",
       "   'table',\n",
       "   'y',\n",
       "   'z',\n",
       "   'cut_Good',\n",
       "   'cut_Ideal',\n",
       "   'cut_Premium',\n",
       "   'cut_Very Good',\n",
       "   'color_F',\n",
       "   'color_H',\n",
       "   'color_I',\n",
       "   'color_J'),\n",
       "  'ci_bound': 0.012029368645846644,\n",
       "  'std_dev': 0.01619652469401301,\n",
       "  'std_err': 0.005398841564671004},\n",
       " 13: {'feature_idx': (0, 1, 2, 5, 6, 7, 8, 9, 10, 12, 14, 15, 16),\n",
       "  'cv_scores': array([0.8750349 , 0.91148837, 0.88889176, 0.90195049, 0.90267621,\n",
       "         0.8831887 , 0.90794174, 0.870158  , 0.86123353, 0.89481767]),\n",
       "  'avg_score': 0.8897381370662536,\n",
       "  'feature_names': ('const',\n",
       "   'carat',\n",
       "   'depth',\n",
       "   'y',\n",
       "   'z',\n",
       "   'cut_Good',\n",
       "   'cut_Ideal',\n",
       "   'cut_Premium',\n",
       "   'cut_Very Good',\n",
       "   'color_F',\n",
       "   'color_H',\n",
       "   'color_I',\n",
       "   'color_J'),\n",
       "  'ci_bound': 0.011981578082111784,\n",
       "  'std_dev': 0.01613217875296982,\n",
       "  'std_err': 0.005377392917656607},\n",
       " 12: {'feature_idx': (1, 2, 5, 6, 7, 8, 9, 10, 12, 14, 15, 16),\n",
       "  'cv_scores': array([0.8750349 , 0.91148837, 0.88889176, 0.90195049, 0.90267621,\n",
       "         0.8831887 , 0.90794174, 0.870158  , 0.86123353, 0.89481767]),\n",
       "  'avg_score': 0.8897381370662536,\n",
       "  'feature_names': ('carat',\n",
       "   'depth',\n",
       "   'y',\n",
       "   'z',\n",
       "   'cut_Good',\n",
       "   'cut_Ideal',\n",
       "   'cut_Premium',\n",
       "   'cut_Very Good',\n",
       "   'color_F',\n",
       "   'color_H',\n",
       "   'color_I',\n",
       "   'color_J'),\n",
       "  'ci_bound': 0.01198157808211174,\n",
       "  'std_dev': 0.016132178752969763,\n",
       "  'std_err': 0.005377392917656588},\n",
       " 11: {'feature_idx': (1, 2, 5, 6, 7, 8, 9, 10, 14, 15, 16),\n",
       "  'cv_scores': array([0.87559234, 0.9113116 , 0.8873287 , 0.90065038, 0.90220831,\n",
       "         0.88259785, 0.90771404, 0.87059582, 0.86349206, 0.89436324]),\n",
       "  'avg_score': 0.8895854329293661,\n",
       "  'feature_names': ('carat',\n",
       "   'depth',\n",
       "   'y',\n",
       "   'z',\n",
       "   'cut_Good',\n",
       "   'cut_Ideal',\n",
       "   'cut_Premium',\n",
       "   'cut_Very Good',\n",
       "   'color_H',\n",
       "   'color_I',\n",
       "   'color_J'),\n",
       "  'ci_bound': 0.011497585385780227,\n",
       "  'std_dev': 0.015480523633849124,\n",
       "  'std_err': 0.005160174544616374},\n",
       " 10: {'feature_idx': (1, 2, 6, 7, 8, 9, 10, 14, 15, 16),\n",
       "  'cv_scores': array([0.87308919, 0.91100255, 0.88785135, 0.89844019, 0.9006056 ,\n",
       "         0.88608946, 0.90564862, 0.86831068, 0.8672334 , 0.89421   ]),\n",
       "  'avg_score': 0.8892481021607903,\n",
       "  'feature_names': ('carat',\n",
       "   'depth',\n",
       "   'z',\n",
       "   'cut_Good',\n",
       "   'cut_Ideal',\n",
       "   'cut_Premium',\n",
       "   'cut_Very Good',\n",
       "   'color_H',\n",
       "   'color_I',\n",
       "   'color_J'),\n",
       "  'ci_bound': 0.010956972081586032,\n",
       "  'std_dev': 0.01475263366812624,\n",
       "  'std_err': 0.004917544556042079},\n",
       " 9: {'feature_idx': (1, 2, 6, 8, 9, 10, 14, 15, 16),\n",
       "  'cv_scores': array([0.87384886, 0.91051812, 0.88712458, 0.89908029, 0.89919368,\n",
       "         0.88598383, 0.90454321, 0.86650054, 0.86634602, 0.89339936]),\n",
       "  'avg_score': 0.8886538488812317,\n",
       "  'feature_names': ('carat',\n",
       "   'depth',\n",
       "   'z',\n",
       "   'cut_Ideal',\n",
       "   'cut_Premium',\n",
       "   'cut_Very Good',\n",
       "   'color_H',\n",
       "   'color_I',\n",
       "   'color_J'),\n",
       "  'ci_bound': 0.010990897886060039,\n",
       "  'std_dev': 0.014798311886668258,\n",
       "  'std_err': 0.004932770628889419},\n",
       " 8: {'feature_idx': (1, 2, 6, 8, 10, 14, 15, 16),\n",
       "  'cv_scores': array([0.87215722, 0.91216965, 0.88559911, 0.90027058, 0.89869798,\n",
       "         0.88399026, 0.90332402, 0.8663145 , 0.86677645, 0.89149183]),\n",
       "  'avg_score': 0.888079160632057,\n",
       "  'feature_names': ('carat',\n",
       "   'depth',\n",
       "   'z',\n",
       "   'cut_Ideal',\n",
       "   'cut_Very Good',\n",
       "   'color_H',\n",
       "   'color_I',\n",
       "   'color_J'),\n",
       "  'ci_bound': 0.01123849473546983,\n",
       "  'std_dev': 0.015131680046185933,\n",
       "  'std_err': 0.005043893348728644},\n",
       " 7: {'feature_idx': (1, 2, 6, 8, 14, 15, 16),\n",
       "  'cv_scores': array([0.87395716, 0.91306558, 0.888217  , 0.89812852, 0.89730569,\n",
       "         0.88239767, 0.903183  , 0.86430199, 0.86632787, 0.88783031]),\n",
       "  'avg_score': 0.8874714785379874,\n",
       "  'feature_names': ('carat',\n",
       "   'depth',\n",
       "   'z',\n",
       "   'cut_Ideal',\n",
       "   'color_H',\n",
       "   'color_I',\n",
       "   'color_J'),\n",
       "  'ci_bound': 0.011276370467296074,\n",
       "  'std_dev': 0.015182676506921998,\n",
       "  'std_err': 0.005060892168973999}}"
      ]
     },
     "execution_count": 171,
     "metadata": {},
     "output_type": "execute_result"
    }
   ],
   "source": [
    "sfs_back = sfs(estimator=lr,forward=False,scoring='r2',cv=10,k_features=7)\n",
    "sfs_back_feat = sfs_back.fit(X,Y)\n",
    "sfs_back_feat.get_metric_dict()"
   ]
  },
  {
   "cell_type": "code",
   "execution_count": 172,
   "metadata": {},
   "outputs": [
    {
     "data": {
      "text/plain": [
       "('carat', 'depth', 'z', 'cut_Ideal', 'color_H', 'color_I', 'color_J')"
      ]
     },
     "execution_count": 172,
     "metadata": {},
     "output_type": "execute_result"
    }
   ],
   "source": [
    "sfs_back_feat.k_feature_names_"
   ]
  },
  {
   "cell_type": "markdown",
   "metadata": {},
   "source": [
    "<table align=\"left\">\n",
    "    <tr>\n",
    "        <td width=\"6%\">\n",
    "            <img src=\"question_icon.png\">\n",
    "        </td>\n",
    "        <td>\n",
    "            <div align=\"left\", style=\"font-size:120%\">\n",
    "                <font color=\"#21618C\">\n",
    "                    <b>9. Identify the colors of a diamond that are not significant while predicting the price?\n",
    "                    </b>\n",
    "                </font>\n",
    "            </div>\n",
    "        </td>\n",
    "    </tr>\n",
    "</table>"
   ]
  },
  {
   "cell_type": "code",
   "execution_count": 175,
   "metadata": {},
   "outputs": [
    {
     "name": "stdout",
     "output_type": "stream",
     "text": [
      "                            OLS Regression Results                            \n",
      "==============================================================================\n",
      "Dep. Variable:                  price   R-squared:                       0.025\n",
      "Model:                            OLS   Adj. R-squared:                  0.021\n",
      "Method:                 Least Squares   F-statistic:                     6.554\n",
      "Date:                Sun, 01 Aug 2021   Prob (F-statistic):           7.55e-07\n",
      "Time:                        00:34:35   Log-Likelihood:                -15051.\n",
      "No. Observations:                1547   AIC:                         3.012e+04\n",
      "Df Residuals:                    1540   BIC:                         3.015e+04\n",
      "Df Model:                           6                                         \n",
      "Covariance Type:            nonrobust                                         \n",
      "==============================================================================\n",
      "                 coef    std err          t      P>|t|      [0.025      0.975]\n",
      "------------------------------------------------------------------------------\n",
      "const       3590.7087    283.805     12.652      0.000    3034.023    4147.395\n",
      "E           -502.1820    373.622     -1.344      0.179   -1235.043     230.679\n",
      "F              2.2073    375.635      0.006      0.995    -734.603     739.017\n",
      "G            312.6099    364.537      0.858      0.391    -402.432    1027.652\n",
      "H           1053.3814    385.418      2.733      0.006     297.382    1809.381\n",
      "I           1326.7452    445.221      2.980      0.003     453.441    2200.049\n",
      "J           1614.7079    527.327      3.062      0.002     580.353    2649.063\n",
      "==============================================================================\n",
      "Omnibus:                      447.468   Durbin-Watson:                   1.962\n",
      "Prob(Omnibus):                  0.000   Jarque-Bera (JB):             1011.050\n",
      "Skew:                           1.626   Prob(JB):                    2.84e-220\n",
      "Kurtosis:                       5.260   Cond. No.                         8.33\n",
      "==============================================================================\n",
      "\n",
      "Warnings:\n",
      "[1] Standard Errors assume that the covariance matrix of the errors is correctly specified.\n"
     ]
    }
   ],
   "source": [
    "col_encode = pd.get_dummies(df['color'],drop_first=True)\n",
    "X = col_encode\n",
    "y = df.price\n",
    "X = sm.add_constant(X)\n",
    "mod_col = sm.OLS(Y,X).fit()\n",
    "print(mod_col.summary())"
   ]
  },
  {
   "cell_type": "code",
   "execution_count": 177,
   "metadata": {},
   "outputs": [
    {
     "data": {
      "text/plain": [
       "F       0.995312\n",
       "G       0.391273\n",
       "E       0.179116\n",
       "H       0.006346\n",
       "I       0.002928\n",
       "J       0.002236\n",
       "const   0.000000\n",
       "dtype: float64"
      ]
     },
     "execution_count": 177,
     "metadata": {},
     "output_type": "execute_result"
    }
   ],
   "source": [
    "mod_col.pvalues.sort_values(ascending=False)\n",
    "#as observed below F,G,E are the insignificant colors"
   ]
  },
  {
   "cell_type": "markdown",
   "metadata": {},
   "source": [
    "<table align=\"left\">\n",
    "    <tr>\n",
    "        <td width=\"6%\">\n",
    "            <img src=\"question_icon.png\">\n",
    "        </td>\n",
    "        <td>\n",
    "            <div align=\"left\", style=\"font-size:120%\">\n",
    "                <font color=\"#21618C\">\n",
    "                    <b>10. Build a regression model on the five features obtained by eliminating the features recursively \n",
    "                    </b>\n",
    "                </font>\n",
    "            </div>\n",
    "        </td>\n",
    "    </tr>\n",
    "</table>"
   ]
  },
  {
   "cell_type": "code",
   "execution_count": 180,
   "metadata": {},
   "outputs": [],
   "source": [
    "from sklearn.feature_selection import RFE\n",
    "lr = LinearRegression()"
   ]
  },
  {
   "cell_type": "code",
   "execution_count": 181,
   "metadata": {},
   "outputs": [],
   "source": [
    "X = encode.drop('price',axis=1)\n",
    "y = df.price"
   ]
  },
  {
   "cell_type": "code",
   "execution_count": 184,
   "metadata": {},
   "outputs": [],
   "source": [
    "rfe_mod = RFE(estimator=lr,n_features_to_select=5)\n",
    "mod_rfe = rfe_mod.fit(X,Y)\n",
    "ind = pd.Series(data=mod_rfe.ranking_,index=X.columns)"
   ]
  },
  {
   "cell_type": "code",
   "execution_count": 187,
   "metadata": {},
   "outputs": [
    {
     "data": {
      "text/plain": [
       "carat      1\n",
       "x          1\n",
       "y          1\n",
       "z          1\n",
       "color_J    1\n",
       "dtype: int32"
      ]
     },
     "execution_count": 187,
     "metadata": {},
     "output_type": "execute_result"
    }
   ],
   "source": [
    "ind[ind==1]"
   ]
  },
  {
   "cell_type": "code",
   "execution_count": 188,
   "metadata": {},
   "outputs": [
    {
     "data": {
      "text/plain": [
       "carat             1\n",
       "depth             8\n",
       "table            11\n",
       "x                 1\n",
       "y                 1\n",
       "z                 1\n",
       "cut_Good          7\n",
       "cut_Ideal         4\n",
       "cut_Premium       6\n",
       "cut_Very Good     5\n",
       "color_E          12\n",
       "color_F           9\n",
       "color_G          10\n",
       "color_H           3\n",
       "color_I           2\n",
       "color_J           1\n",
       "dtype: int32"
      ]
     },
     "execution_count": 188,
     "metadata": {},
     "output_type": "execute_result"
    }
   ],
   "source": [
    "ind"
   ]
  },
  {
   "cell_type": "code",
   "execution_count": null,
   "metadata": {},
   "outputs": [],
   "source": []
  }
 ],
 "metadata": {
  "kernelspec": {
   "display_name": "Python 3 (ipykernel)",
   "language": "python",
   "name": "python3"
  },
  "language_info": {
   "codemirror_mode": {
    "name": "ipython",
    "version": 3
   },
   "file_extension": ".py",
   "mimetype": "text/x-python",
   "name": "python",
   "nbconvert_exporter": "python",
   "pygments_lexer": "ipython3",
   "version": "3.9.7"
  }
 },
 "nbformat": 4,
 "nbformat_minor": 2
}
